{
 "cells": [
  {
   "cell_type": "markdown",
   "metadata": {
    "id": "5B6efLUwisO2"
   },
   "source": [
    "# Exploratory Data Analysis of ATM Cash Flow Prediction Data Set\n",
    "Dataset Link - [Drive(Add drive link here)](https://)"
   ]
  },
  {
   "cell_type": "markdown",
   "metadata": {
    "id": "6GnTFaGTlJbg"
   },
   "source": [
    "## Preparations"
   ]
  },
  {
   "cell_type": "code",
   "execution_count": 13,
   "metadata": {
    "id": "CJbGgvfXilXI"
   },
   "outputs": [],
   "source": [
    "import pandas as pd\n",
    "import seaborn as sns\n",
    "import matplotlib.pyplot as plt\n",
    "import plotly.express as px\n",
    "\n",
    "%matplotlib inline\n",
    "\n",
    "plt.style.use('bmh')"
   ]
  },
  {
   "cell_type": "code",
   "execution_count": 14,
   "metadata": {
    "colab": {
     "base_uri": "https://localhost:8080/",
     "height": 397
    },
    "id": "ZGIFKhzYlN0p",
    "outputId": "33991f69-6764-49bd-ba3c-d6b2fe801c4a"
   },
   "outputs": [
    {
     "data": {
      "text/html": [
       "<div>\n",
       "<style scoped>\n",
       "    .dataframe tbody tr th:only-of-type {\n",
       "        vertical-align: middle;\n",
       "    }\n",
       "\n",
       "    .dataframe tbody tr th {\n",
       "        vertical-align: top;\n",
       "    }\n",
       "\n",
       "    .dataframe thead th {\n",
       "        text-align: right;\n",
       "    }\n",
       "</style>\n",
       "<table border=\"1\" class=\"dataframe\">\n",
       "  <thead>\n",
       "    <tr style=\"text-align: right;\">\n",
       "      <th></th>\n",
       "      <th>ATM Name</th>\n",
       "      <th>Transaction Date</th>\n",
       "      <th>No Of Withdrawals</th>\n",
       "      <th>No Of XYZ Card Withdrawals</th>\n",
       "      <th>No Of Other Card Withdrawals</th>\n",
       "      <th>Total amount Withdrawn</th>\n",
       "      <th>Amount withdrawn XYZ Card</th>\n",
       "      <th>Amount withdrawn Other Card</th>\n",
       "      <th>Weekday</th>\n",
       "      <th>Festival Religion</th>\n",
       "      <th>Working Day</th>\n",
       "      <th>Holiday Sequence</th>\n",
       "    </tr>\n",
       "  </thead>\n",
       "  <tbody>\n",
       "    <tr>\n",
       "      <th>0</th>\n",
       "      <td>Big Street ATM</td>\n",
       "      <td>1/1/2011</td>\n",
       "      <td>50</td>\n",
       "      <td>20</td>\n",
       "      <td>30</td>\n",
       "      <td>123800</td>\n",
       "      <td>41700</td>\n",
       "      <td>82100</td>\n",
       "      <td>Saturday</td>\n",
       "      <td>H</td>\n",
       "      <td>H</td>\n",
       "      <td>WHH</td>\n",
       "    </tr>\n",
       "    <tr>\n",
       "      <th>1</th>\n",
       "      <td>Mount Road ATM</td>\n",
       "      <td>1/1/2011</td>\n",
       "      <td>253</td>\n",
       "      <td>67</td>\n",
       "      <td>186</td>\n",
       "      <td>767900</td>\n",
       "      <td>270900</td>\n",
       "      <td>497000</td>\n",
       "      <td>Saturday</td>\n",
       "      <td>C</td>\n",
       "      <td>H</td>\n",
       "      <td>WHH</td>\n",
       "    </tr>\n",
       "    <tr>\n",
       "      <th>2</th>\n",
       "      <td>Airport ATM</td>\n",
       "      <td>1/1/2011</td>\n",
       "      <td>98</td>\n",
       "      <td>56</td>\n",
       "      <td>42</td>\n",
       "      <td>503400</td>\n",
       "      <td>347700</td>\n",
       "      <td>155700</td>\n",
       "      <td>Saturday</td>\n",
       "      <td>C</td>\n",
       "      <td>H</td>\n",
       "      <td>WHH</td>\n",
       "    </tr>\n",
       "    <tr>\n",
       "      <th>3</th>\n",
       "      <td>KK Nagar ATM</td>\n",
       "      <td>1/1/2011</td>\n",
       "      <td>265</td>\n",
       "      <td>159</td>\n",
       "      <td>106</td>\n",
       "      <td>945300</td>\n",
       "      <td>532600</td>\n",
       "      <td>412700</td>\n",
       "      <td>Saturday</td>\n",
       "      <td>C</td>\n",
       "      <td>H</td>\n",
       "      <td>WHH</td>\n",
       "    </tr>\n",
       "    <tr>\n",
       "      <th>4</th>\n",
       "      <td>Christ College ATM</td>\n",
       "      <td>1/1/2011</td>\n",
       "      <td>74</td>\n",
       "      <td>25</td>\n",
       "      <td>49</td>\n",
       "      <td>287700</td>\n",
       "      <td>148200</td>\n",
       "      <td>139500</td>\n",
       "      <td>Saturday</td>\n",
       "      <td>C</td>\n",
       "      <td>H</td>\n",
       "      <td>WHH</td>\n",
       "    </tr>\n",
       "  </tbody>\n",
       "</table>\n",
       "</div>"
      ],
      "text/plain": [
       "             ATM Name Transaction Date  No Of Withdrawals  \\\n",
       "0      Big Street ATM         1/1/2011                 50   \n",
       "1      Mount Road ATM         1/1/2011                253   \n",
       "2         Airport ATM         1/1/2011                 98   \n",
       "3        KK Nagar ATM         1/1/2011                265   \n",
       "4  Christ College ATM         1/1/2011                 74   \n",
       "\n",
       "   No Of XYZ Card Withdrawals  No Of Other Card Withdrawals  \\\n",
       "0                          20                            30   \n",
       "1                          67                           186   \n",
       "2                          56                            42   \n",
       "3                         159                           106   \n",
       "4                          25                            49   \n",
       "\n",
       "   Total amount Withdrawn  Amount withdrawn XYZ Card  \\\n",
       "0                  123800                      41700   \n",
       "1                  767900                     270900   \n",
       "2                  503400                     347700   \n",
       "3                  945300                     532600   \n",
       "4                  287700                     148200   \n",
       "\n",
       "   Amount withdrawn Other Card   Weekday Festival Religion Working Day  \\\n",
       "0                        82100  Saturday                 H           H   \n",
       "1                       497000  Saturday                 C           H   \n",
       "2                       155700  Saturday                 C           H   \n",
       "3                       412700  Saturday                 C           H   \n",
       "4                       139500  Saturday                 C           H   \n",
       "\n",
       "  Holiday Sequence  \n",
       "0              WHH  \n",
       "1              WHH  \n",
       "2              WHH  \n",
       "3              WHH  \n",
       "4              WHH  "
      ]
     },
     "execution_count": 14,
     "metadata": {},
     "output_type": "execute_result"
    }
   ],
   "source": [
    "df = pd.read_csv('../data/aggregated_atm_data.csv')\n",
    "df.head()"
   ]
  },
  {
   "cell_type": "code",
   "execution_count": 15,
   "metadata": {
    "colab": {
     "base_uri": "https://localhost:8080/"
    },
    "id": "wD6xSEdElmkl",
    "outputId": "ced080b0-f2d6-4de4-9949-2631c2e42275"
   },
   "outputs": [
    {
     "name": "stdout",
     "output_type": "stream",
     "text": [
      "<class 'pandas.core.frame.DataFrame'>\n",
      "RangeIndex: 11589 entries, 0 to 11588\n",
      "Data columns (total 12 columns):\n",
      "ATM Name                        11589 non-null object\n",
      "Transaction Date                11589 non-null object\n",
      "No Of Withdrawals               11589 non-null int64\n",
      "No Of XYZ Card Withdrawals      11589 non-null int64\n",
      "No Of Other Card Withdrawals    11589 non-null int64\n",
      "Total amount Withdrawn          11589 non-null int64\n",
      "Amount withdrawn XYZ Card       11589 non-null int64\n",
      "Amount withdrawn Other Card     11589 non-null int64\n",
      "Weekday                         11589 non-null object\n",
      "Festival Religion               11589 non-null object\n",
      "Working Day                     11589 non-null object\n",
      "Holiday Sequence                11589 non-null object\n",
      "dtypes: int64(6), object(6)\n",
      "memory usage: 1.1+ MB\n"
     ]
    }
   ],
   "source": [
    "df.info()"
   ]
  },
  {
   "cell_type": "markdown",
   "metadata": {
    "id": "LJAO2HtClxuO"
   },
   "source": [
    "From this we can see that no data is missing, i.e. there are no null values"
   ]
  },
  {
   "cell_type": "markdown",
   "metadata": {
    "id": "6UX5YQa1m25q"
   },
   "source": [
    "## Looking at individual columns"
   ]
  },
  {
   "cell_type": "markdown",
   "metadata": {
    "id": "DUd3aLd9m90k"
   },
   "source": [
    "### ATM Name"
   ]
  },
  {
   "cell_type": "code",
   "execution_count": 16,
   "metadata": {
    "colab": {
     "base_uri": "https://localhost:8080/"
    },
    "id": "W_IunHThlsCw",
    "outputId": "fc94d595-f66f-44ad-d212-693a0a711e39"
   },
   "outputs": [
    {
     "data": {
      "text/plain": [
       "array(['Big Street ATM', 'Mount Road ATM', 'Airport ATM', 'KK Nagar ATM',\n",
       "       'Christ College ATM'], dtype=object)"
      ]
     },
     "execution_count": 16,
     "metadata": {},
     "output_type": "execute_result"
    }
   ],
   "source": [
    "df['ATM Name'].unique()"
   ]
  },
  {
   "cell_type": "code",
   "execution_count": 17,
   "metadata": {
    "colab": {
     "base_uri": "https://localhost:8080/",
     "height": 405
    },
    "id": "rBejU69VQ_Eh",
    "outputId": "8806ef2f-403b-4dad-ac0c-99363392d799"
   },
   "outputs": [
    {
     "data": {
      "text/plain": [
       "<matplotlib.axes._subplots.AxesSubplot at 0x1853c9eaf40>"
      ]
     },
     "execution_count": 17,
     "metadata": {},
     "output_type": "execute_result"
    },
    {
     "data": {
      "image/png": "[encoded data removed]",
      "text/plain": [
       "<Figure size 864x432 with 1 Axes>"
      ]
     },
     "metadata": {
      "needs_background": "light"
     },
     "output_type": "display_data"
    }
   ],
   "source": [
    "plt.figure(figsize=(12,6))\n",
    "sns.countplot(x='ATM Name', data = df)"
   ]
  },
  {
   "cell_type": "markdown",
   "metadata": {
    "id": "KmvIkP2onG7Z"
   },
   "source": [
    "We've data of 5 ATMs.\n",
    "- Big Street ATM\n",
    "- Mount Road ATM\n",
    "- Airport Road ATM\n",
    "- KK Nagar ATM\n",
    "- Christ College ATM"
   ]
  },
  {
   "cell_type": "markdown",
   "metadata": {
    "id": "McPzZvhRnEc8"
   },
   "source": [
    "### Transaction Date"
   ]
  },
  {
   "cell_type": "code",
   "execution_count": 18,
   "metadata": {
    "colab": {
     "base_uri": "https://localhost:8080/",
     "height": 36
    },
    "id": "Hn6KcFCTnVPW",
    "outputId": "e0578416-5299-478e-e2e2-dc3d5e58c496"
   },
   "outputs": [
    {
     "data": {
      "text/plain": [
       "'1/1/2011'"
      ]
     },
     "execution_count": 18,
     "metadata": {},
     "output_type": "execute_result"
    }
   ],
   "source": [
    "df['Transaction Date'][0]"
   ]
  },
  {
   "cell_type": "code",
   "execution_count": 19,
   "metadata": {
    "colab": {
     "base_uri": "https://localhost:8080/",
     "height": 36
    },
    "id": "5SsQSxE_nZKd",
    "outputId": "f676226e-5571-4cb5-fc6e-ec7c2bf3c587"
   },
   "outputs": [
    {
     "data": {
      "text/plain": [
       "'29-09-2017'"
      ]
     },
     "execution_count": 19,
     "metadata": {},
     "output_type": "execute_result"
    }
   ],
   "source": [
    "df['Transaction Date'][len(df)-1]"
   ]
  },
  {
   "cell_type": "markdown",
   "metadata": {
    "id": "9teHzFMBnm-v"
   },
   "source": [
    "We've ATM Withdrawal Data from 1st January 2011 to 29th Sept 2017"
   ]
  },
  {
   "cell_type": "code",
   "execution_count": 20,
   "metadata": {
    "colab": {
     "base_uri": "https://localhost:8080/",
     "height": 771
    },
    "id": "xuwTbsyPncgC",
    "outputId": "2d9a23b1-b23c-4173-d2b2-d5a44d341161"
   },
   "outputs": [
    {
     "data": {
      "text/html": [
       "<div>\n",
       "<style scoped>\n",
       "    .dataframe tbody tr th:only-of-type {\n",
       "        vertical-align: middle;\n",
       "    }\n",
       "\n",
       "    .dataframe tbody tr th {\n",
       "        vertical-align: top;\n",
       "    }\n",
       "\n",
       "    .dataframe thead th {\n",
       "        text-align: right;\n",
       "    }\n",
       "</style>\n",
       "<table border=\"1\" class=\"dataframe\">\n",
       "  <thead>\n",
       "    <tr style=\"text-align: right;\">\n",
       "      <th></th>\n",
       "      <th>ATM Name</th>\n",
       "      <th>Transaction Date</th>\n",
       "      <th>No Of Withdrawals</th>\n",
       "      <th>No Of XYZ Card Withdrawals</th>\n",
       "      <th>No Of Other Card Withdrawals</th>\n",
       "      <th>Total amount Withdrawn</th>\n",
       "      <th>Amount withdrawn XYZ Card</th>\n",
       "      <th>Amount withdrawn Other Card</th>\n",
       "      <th>Weekday</th>\n",
       "      <th>Festival Religion</th>\n",
       "      <th>Working Day</th>\n",
       "      <th>Holiday Sequence</th>\n",
       "    </tr>\n",
       "  </thead>\n",
       "  <tbody>\n",
       "    <tr>\n",
       "      <th>0</th>\n",
       "      <td>Big Street ATM</td>\n",
       "      <td>1/1/2011</td>\n",
       "      <td>50</td>\n",
       "      <td>20</td>\n",
       "      <td>30</td>\n",
       "      <td>123800</td>\n",
       "      <td>41700</td>\n",
       "      <td>82100</td>\n",
       "      <td>Saturday</td>\n",
       "      <td>H</td>\n",
       "      <td>H</td>\n",
       "      <td>WHH</td>\n",
       "    </tr>\n",
       "    <tr>\n",
       "      <th>1</th>\n",
       "      <td>Mount Road ATM</td>\n",
       "      <td>1/1/2011</td>\n",
       "      <td>253</td>\n",
       "      <td>67</td>\n",
       "      <td>186</td>\n",
       "      <td>767900</td>\n",
       "      <td>270900</td>\n",
       "      <td>497000</td>\n",
       "      <td>Saturday</td>\n",
       "      <td>C</td>\n",
       "      <td>H</td>\n",
       "      <td>WHH</td>\n",
       "    </tr>\n",
       "    <tr>\n",
       "      <th>2</th>\n",
       "      <td>Airport ATM</td>\n",
       "      <td>1/1/2011</td>\n",
       "      <td>98</td>\n",
       "      <td>56</td>\n",
       "      <td>42</td>\n",
       "      <td>503400</td>\n",
       "      <td>347700</td>\n",
       "      <td>155700</td>\n",
       "      <td>Saturday</td>\n",
       "      <td>C</td>\n",
       "      <td>H</td>\n",
       "      <td>WHH</td>\n",
       "    </tr>\n",
       "    <tr>\n",
       "      <th>3</th>\n",
       "      <td>KK Nagar ATM</td>\n",
       "      <td>1/1/2011</td>\n",
       "      <td>265</td>\n",
       "      <td>159</td>\n",
       "      <td>106</td>\n",
       "      <td>945300</td>\n",
       "      <td>532600</td>\n",
       "      <td>412700</td>\n",
       "      <td>Saturday</td>\n",
       "      <td>C</td>\n",
       "      <td>H</td>\n",
       "      <td>WHH</td>\n",
       "    </tr>\n",
       "    <tr>\n",
       "      <th>4</th>\n",
       "      <td>Christ College ATM</td>\n",
       "      <td>1/1/2011</td>\n",
       "      <td>74</td>\n",
       "      <td>25</td>\n",
       "      <td>49</td>\n",
       "      <td>287700</td>\n",
       "      <td>148200</td>\n",
       "      <td>139500</td>\n",
       "      <td>Saturday</td>\n",
       "      <td>C</td>\n",
       "      <td>H</td>\n",
       "      <td>WHH</td>\n",
       "    </tr>\n",
       "    <tr>\n",
       "      <th>...</th>\n",
       "      <td>...</td>\n",
       "      <td>...</td>\n",
       "      <td>...</td>\n",
       "      <td>...</td>\n",
       "      <td>...</td>\n",
       "      <td>...</td>\n",
       "      <td>...</td>\n",
       "      <td>...</td>\n",
       "      <td>...</td>\n",
       "      <td>...</td>\n",
       "      <td>...</td>\n",
       "      <td>...</td>\n",
       "    </tr>\n",
       "    <tr>\n",
       "      <th>85</th>\n",
       "      <td>Big Street ATM</td>\n",
       "      <td>18-01-2011</td>\n",
       "      <td>29</td>\n",
       "      <td>13</td>\n",
       "      <td>16</td>\n",
       "      <td>163600</td>\n",
       "      <td>73400</td>\n",
       "      <td>90200</td>\n",
       "      <td>Tuesday</td>\n",
       "      <td>NH</td>\n",
       "      <td>W</td>\n",
       "      <td>HWW</td>\n",
       "    </tr>\n",
       "    <tr>\n",
       "      <th>86</th>\n",
       "      <td>Mount Road ATM</td>\n",
       "      <td>18-01-2011</td>\n",
       "      <td>123</td>\n",
       "      <td>82</td>\n",
       "      <td>41</td>\n",
       "      <td>405200</td>\n",
       "      <td>360600</td>\n",
       "      <td>44600</td>\n",
       "      <td>Tuesday</td>\n",
       "      <td>NH</td>\n",
       "      <td>W</td>\n",
       "      <td>HWW</td>\n",
       "    </tr>\n",
       "    <tr>\n",
       "      <th>87</th>\n",
       "      <td>Airport ATM</td>\n",
       "      <td>18-01-2011</td>\n",
       "      <td>86</td>\n",
       "      <td>65</td>\n",
       "      <td>21</td>\n",
       "      <td>343100</td>\n",
       "      <td>273100</td>\n",
       "      <td>70000</td>\n",
       "      <td>Tuesday</td>\n",
       "      <td>NH</td>\n",
       "      <td>W</td>\n",
       "      <td>HWW</td>\n",
       "    </tr>\n",
       "    <tr>\n",
       "      <th>88</th>\n",
       "      <td>KK Nagar ATM</td>\n",
       "      <td>18-01-2011</td>\n",
       "      <td>225</td>\n",
       "      <td>159</td>\n",
       "      <td>66</td>\n",
       "      <td>831200</td>\n",
       "      <td>663600</td>\n",
       "      <td>167600</td>\n",
       "      <td>Tuesday</td>\n",
       "      <td>NH</td>\n",
       "      <td>W</td>\n",
       "      <td>HWW</td>\n",
       "    </tr>\n",
       "    <tr>\n",
       "      <th>89</th>\n",
       "      <td>Christ College ATM</td>\n",
       "      <td>18-01-2011</td>\n",
       "      <td>82</td>\n",
       "      <td>45</td>\n",
       "      <td>37</td>\n",
       "      <td>380000</td>\n",
       "      <td>216900</td>\n",
       "      <td>163100</td>\n",
       "      <td>Tuesday</td>\n",
       "      <td>NH</td>\n",
       "      <td>W</td>\n",
       "      <td>HWW</td>\n",
       "    </tr>\n",
       "  </tbody>\n",
       "</table>\n",
       "<p>90 rows × 12 columns</p>\n",
       "</div>"
      ],
      "text/plain": [
       "              ATM Name Transaction Date  No Of Withdrawals  \\\n",
       "0       Big Street ATM         1/1/2011                 50   \n",
       "1       Mount Road ATM         1/1/2011                253   \n",
       "2          Airport ATM         1/1/2011                 98   \n",
       "3         KK Nagar ATM         1/1/2011                265   \n",
       "4   Christ College ATM         1/1/2011                 74   \n",
       "..                 ...              ...                ...   \n",
       "85      Big Street ATM       18-01-2011                 29   \n",
       "86      Mount Road ATM       18-01-2011                123   \n",
       "87         Airport ATM       18-01-2011                 86   \n",
       "88        KK Nagar ATM       18-01-2011                225   \n",
       "89  Christ College ATM       18-01-2011                 82   \n",
       "\n",
       "    No Of XYZ Card Withdrawals  No Of Other Card Withdrawals  \\\n",
       "0                           20                            30   \n",
       "1                           67                           186   \n",
       "2                           56                            42   \n",
       "3                          159                           106   \n",
       "4                           25                            49   \n",
       "..                         ...                           ...   \n",
       "85                          13                            16   \n",
       "86                          82                            41   \n",
       "87                          65                            21   \n",
       "88                         159                            66   \n",
       "89                          45                            37   \n",
       "\n",
       "    Total amount Withdrawn  Amount withdrawn XYZ Card  \\\n",
       "0                   123800                      41700   \n",
       "1                   767900                     270900   \n",
       "2                   503400                     347700   \n",
       "3                   945300                     532600   \n",
       "4                   287700                     148200   \n",
       "..                     ...                        ...   \n",
       "85                  163600                      73400   \n",
       "86                  405200                     360600   \n",
       "87                  343100                     273100   \n",
       "88                  831200                     663600   \n",
       "89                  380000                     216900   \n",
       "\n",
       "    Amount withdrawn Other Card   Weekday Festival Religion Working Day  \\\n",
       "0                         82100  Saturday                 H           H   \n",
       "1                        497000  Saturday                 C           H   \n",
       "2                        155700  Saturday                 C           H   \n",
       "3                        412700  Saturday                 C           H   \n",
       "4                        139500  Saturday                 C           H   \n",
       "..                          ...       ...               ...         ...   \n",
       "85                        90200   Tuesday                NH           W   \n",
       "86                        44600   Tuesday                NH           W   \n",
       "87                        70000   Tuesday                NH           W   \n",
       "88                       167600   Tuesday                NH           W   \n",
       "89                       163100   Tuesday                NH           W   \n",
       "\n",
       "   Holiday Sequence  \n",
       "0               WHH  \n",
       "1               WHH  \n",
       "2               WHH  \n",
       "3               WHH  \n",
       "4               WHH  \n",
       "..              ...  \n",
       "85              HWW  \n",
       "86              HWW  \n",
       "87              HWW  \n",
       "88              HWW  \n",
       "89              HWW  \n",
       "\n",
       "[90 rows x 12 columns]"
      ]
     },
     "execution_count": 20,
     "metadata": {},
     "output_type": "execute_result"
    }
   ],
   "source": [
    "df.head(90)"
   ]
  },
  {
   "cell_type": "markdown",
   "metadata": {
    "id": "YJ1kqEein-nA"
   },
   "source": [
    "As visible in the above cell, the *Transaction Date* column has dates in 2 formats, slash format and dash format. This will have to be fixed"
   ]
  },
  {
   "cell_type": "markdown",
   "metadata": {
    "id": "3cgubMKbnuyX"
   },
   "source": [
    "### No of Withdrawals"
   ]
  },
  {
   "cell_type": "code",
   "execution_count": 21,
   "metadata": {
    "colab": {
     "base_uri": "https://localhost:8080/"
    },
    "id": "tCZiEcGepoSH",
    "outputId": "2c6e8c2c-cdf4-42f4-f306-16586172ee02"
   },
   "outputs": [
    {
     "name": "stdout",
     "output_type": "stream",
     "text": [
      "Miniumum Transaction Count => 1\n",
      "Miniumum Transaction Count => 491\n"
     ]
    }
   ],
   "source": [
    "print(f'Miniumum Transaction Count => {df[\"No Of Withdrawals\"].min()}')\n",
    "print(f'Miniumum Transaction Count => {df[\"No Of Withdrawals\"].max()}')"
   ]
  },
  {
   "cell_type": "code",
   "execution_count": 22,
   "metadata": {
    "colab": {
     "base_uri": "https://localhost:8080/",
     "height": 517
    },
    "id": "pQ2i3NOzU5qh",
    "outputId": "693b3a4c-d298-4552-819e-a38840b5f847"
   },
   "outputs": [
    {
     "data": {
      "text/plain": [
       "<matplotlib.axes._subplots.AxesSubplot at 0x1853c8c5e50>"
      ]
     },
     "execution_count": 22,
     "metadata": {},
     "output_type": "execute_result"
    },
    {
     "data": {
      "image/png": "[encoded data removed]",
      "text/plain": [
       "<Figure size 864x576 with 1 Axes>"
      ]
     },
     "metadata": {
      "needs_background": "light"
     },
     "output_type": "display_data"
    }
   ],
   "source": [
    "plt.figure(figsize=(12,8))\n",
    "sns.histplot(data=df, x='No Of Withdrawals')"
   ]
  },
  {
   "cell_type": "markdown",
   "metadata": {
    "id": "Mw-XyPTQU-Jd"
   },
   "source": [
    "On most days the transaction count between 100 and 150"
   ]
  },
  {
   "cell_type": "markdown",
   "metadata": {
    "id": "4RUMjr-_pqgr"
   },
   "source": [
    "This column contains the count of the transactions that happened in a day. Minimum is 1 and Maximum is 491.\n",
    "\n",
    "Similarly, *No Of XYZ Card Withdrawals* consists of count of transactions which were made using cards of this bank(XYZ) and *No Of Other Card Withdrawals* consists of transactions which were made using cards of other banks "
   ]
  },
  {
   "cell_type": "markdown",
   "metadata": {
    "id": "whqR5AGbpzAr"
   },
   "source": [
    "### Total amount Withdrawn"
   ]
  },
  {
   "cell_type": "code",
   "execution_count": 23,
   "metadata": {
    "colab": {
     "base_uri": "https://localhost:8080/",
     "height": 513
    },
    "id": "9G2QzLRIT-N9",
    "outputId": "b47e23fa-72c8-41e3-a3fb-4c51e38a70e8"
   },
   "outputs": [
    {
     "data": {
      "text/plain": [
       "<matplotlib.axes._subplots.AxesSubplot at 0x1853cb57a00>"
      ]
     },
     "execution_count": 23,
     "metadata": {},
     "output_type": "execute_result"
    },
    {
     "data": {
      "image/png": "[encoded data removed]",
      "text/plain": [
       "<Figure size 864x576 with 1 Axes>"
      ]
     },
     "metadata": {
      "needs_background": "light"
     },
     "output_type": "display_data"
    }
   ],
   "source": [
    "plt.figure(figsize=(12,8))\n",
    "sns.histplot(data=df, x='Total amount Withdrawn')"
   ]
  },
  {
   "cell_type": "markdown",
   "metadata": {
    "id": "jmNRkJtiUWTz"
   },
   "source": [
    "From the above graph, we can see most of the withdrawals lie in the 3 Lakh to 6 Lakh Range"
   ]
  },
  {
   "cell_type": "markdown",
   "metadata": {
    "id": "q_tul4HmqchQ"
   },
   "source": [
    "### Weekday\n"
   ]
  },
  {
   "cell_type": "code",
   "execution_count": 24,
   "metadata": {
    "colab": {
     "base_uri": "https://localhost:8080/"
    },
    "id": "VkBRr0EVuTvP",
    "outputId": "edc26227-2d7e-4567-b318-199f77ec06e5"
   },
   "outputs": [
    {
     "data": {
      "text/plain": [
       "SUNDAY       2177\n",
       "SATURDAY     1131\n",
       "TUESDAY       989\n",
       "WEDNESDAY     947\n",
       "MONDAY        945\n",
       "THURSDAY      903\n",
       "FRIDAY        902\n",
       "Saturday      518\n",
       "Thursday      517\n",
       "Wednesday     515\n",
       "Tuesday       513\n",
       "Monday        513\n",
       "Friday        510\n",
       "Sunday        509\n",
       "Name: Weekday, dtype: int64"
      ]
     },
     "execution_count": 24,
     "metadata": {},
     "output_type": "execute_result"
    }
   ],
   "source": [
    "df['Weekday'].value_counts()"
   ]
  },
  {
   "cell_type": "markdown",
   "metadata": {
    "id": "UQgOQ6tnuWTS"
   },
   "source": [
    "As visible in the previous cell, the weekday has titled case and upper case strings, this will have to be fixed to one format"
   ]
  },
  {
   "cell_type": "markdown",
   "metadata": {
    "id": "gWg3Y0sAujfg"
   },
   "source": [
    "### Festival Religion"
   ]
  },
  {
   "cell_type": "code",
   "execution_count": 25,
   "metadata": {
    "colab": {
     "base_uri": "https://localhost:8080/"
    },
    "id": "bck3jqX6upP9",
    "outputId": "5452b946-4047-4434-8b6f-1ab1fd619265"
   },
   "outputs": [
    {
     "data": {
      "text/plain": [
       "NH    10727\n",
       "H       367\n",
       "N       198\n",
       "M       178\n",
       "C       119\n",
       "Name: Festival Religion, dtype: int64"
      ]
     },
     "execution_count": 25,
     "metadata": {},
     "output_type": "execute_result"
    }
   ],
   "source": [
    "df['Festival Religion'].value_counts()"
   ]
  },
  {
   "cell_type": "code",
   "execution_count": 26,
   "metadata": {
    "colab": {
     "base_uri": "https://localhost:8080/",
     "height": 405
    },
    "id": "3cFHeG2UVjzD",
    "outputId": "dda44b3e-f389-40ce-f9e9-d1ae48be9955"
   },
   "outputs": [
    {
     "data": {
      "text/plain": [
       "<matplotlib.axes._subplots.AxesSubplot at 0x1853cc64040>"
      ]
     },
     "execution_count": 26,
     "metadata": {},
     "output_type": "execute_result"
    },
    {
     "data": {
      "image/png": "[encoded data removed]",
      "text/plain": [
       "<Figure size 864x432 with 1 Axes>"
      ]
     },
     "metadata": {
      "needs_background": "light"
     },
     "output_type": "display_data"
    }
   ],
   "source": [
    "plt.figure(figsize=(12,6))\n",
    "sns.countplot(x='Festival Religion', data = df)"
   ]
  },
  {
   "cell_type": "markdown",
   "metadata": {
    "id": "iHXSCfLyusS0"
   },
   "source": [
    "Here, \n",
    "* *NH* - No Holiday. Because of the count\n",
    "* *H* - Hindu\n",
    "* *N* - National\n",
    "* *M* - Muslim\n",
    "* *C* - Christian"
   ]
  },
  {
   "cell_type": "markdown",
   "metadata": {
    "id": "zfLjoe7jvC7A"
   },
   "source": [
    "### Working Day"
   ]
  },
  {
   "cell_type": "code",
   "execution_count": 27,
   "metadata": {
    "colab": {
     "base_uri": "https://localhost:8080/"
    },
    "id": "f1X77kk6vM4x",
    "outputId": "e9188b5f-fb45-4442-fa8f-ca814efa021c"
   },
   "outputs": [
    {
     "data": {
      "text/plain": [
       "W    6621\n",
       "H    4968\n",
       "Name: Working Day, dtype: int64"
      ]
     },
     "execution_count": 27,
     "metadata": {},
     "output_type": "execute_result"
    }
   ],
   "source": [
    "df['Working Day'].value_counts()"
   ]
  },
  {
   "cell_type": "code",
   "execution_count": 28,
   "metadata": {
    "colab": {
     "base_uri": "https://localhost:8080/",
     "height": 405
    },
    "id": "71Q5ZdS5VtSA",
    "outputId": "caff5a4e-fbdd-41ea-9a84-53738a413c9d"
   },
   "outputs": [
    {
     "data": {
      "text/plain": [
       "<matplotlib.axes._subplots.AxesSubplot at 0x1853c763df0>"
      ]
     },
     "execution_count": 28,
     "metadata": {},
     "output_type": "execute_result"
    },
    {
     "data": {
      "image/png": "[encoded data removed]",
      "text/plain": [
       "<Figure size 864x432 with 1 Axes>"
      ]
     },
     "metadata": {
      "needs_background": "light"
     },
     "output_type": "display_data"
    }
   ],
   "source": [
    "plt.figure(figsize=(12,6))\n",
    "sns.countplot(x='Working Day', data = df)"
   ]
  },
  {
   "cell_type": "markdown",
   "metadata": {
    "id": "WEgvx7mbvOx9"
   },
   "source": [
    "Here, \n",
    "* *W* - Working \n",
    "* *H* - Holiday"
   ]
  },
  {
   "cell_type": "markdown",
   "metadata": {
    "id": "_i0Rgfx_vUj9"
   },
   "source": [
    "### Holiday Sequence"
   ]
  },
  {
   "cell_type": "code",
   "execution_count": 29,
   "metadata": {
    "colab": {
     "base_uri": "https://localhost:8080/"
    },
    "id": "yPXsSIs3vaQc",
    "outputId": "ba061ca9-76e8-4fd4-b32b-ba89c14f3727"
   },
   "outputs": [
    {
     "data": {
      "text/plain": [
       "WWW    3621\n",
       "HHW    2763\n",
       "WHH    1678\n",
       "HWW    1447\n",
       "WWH    1408\n",
       "WHW     284\n",
       "HHH     253\n",
       "HWH     135\n",
       "Name: Holiday Sequence, dtype: int64"
      ]
     },
     "execution_count": 29,
     "metadata": {},
     "output_type": "execute_result"
    }
   ],
   "source": [
    "df['Holiday Sequence'].value_counts()"
   ]
  },
  {
   "cell_type": "code",
   "execution_count": 30,
   "metadata": {
    "colab": {
     "base_uri": "https://localhost:8080/",
     "height": 405
    },
    "id": "pgrUo-BfVyvX",
    "outputId": "559ccc5c-2d7c-48d3-eccc-b707fe6e21d8"
   },
   "outputs": [
    {
     "data": {
      "text/plain": [
       "<matplotlib.axes._subplots.AxesSubplot at 0x1853c934d00>"
      ]
     },
     "execution_count": 30,
     "metadata": {},
     "output_type": "execute_result"
    },
    {
     "data": {
      "image/png": "[encoded data removed]",
      "text/plain": [
       "<Figure size 864x432 with 1 Axes>"
      ]
     },
     "metadata": {
      "needs_background": "light"
     },
     "output_type": "display_data"
    }
   ],
   "source": [
    "plt.figure(figsize=(12,6))\n",
    "sns.countplot(x='Holiday Sequence', data = df)"
   ]
  },
  {
   "cell_type": "markdown",
   "metadata": {
    "id": "Gm0I4z0pvcju"
   },
   "source": [
    "This is the holiday sequence\n",
    "Here, the format being followed is (W/H Status of day before)(W/H Status of that day)(W/H Status of the next day)\n",
    "\n",
    "E.g. If yesterday was a holiday (H), today is a working day (W), and tomorrow is a holiday (H) again, then the *Holiday Sequence* would be *HWH*"
   ]
  },
  {
   "cell_type": "markdown",
   "metadata": {
    "id": "f_b5yldhvgcf"
   },
   "source": [
    "## Relationships between columns"
   ]
  },
  {
   "cell_type": "markdown",
   "metadata": {
    "id": "kl25zzU-RfsO"
   },
   "source": [
    "### Relationship between Weekday and Withdrawal"
   ]
  },
  {
   "cell_type": "code",
   "execution_count": 31,
   "metadata": {
    "colab": {
     "base_uri": "https://localhost:8080/",
     "height": 524
    },
    "id": "lyKHbHB9ReSc",
    "outputId": "78250490-c2dc-4289-8d86-7c77bbf7bc5e"
   },
   "outputs": [
    {
     "data": {
      "text/plain": [
       "<matplotlib.axes._subplots.AxesSubplot at 0x1853c9a6130>"
      ]
     },
     "execution_count": 31,
     "metadata": {},
     "output_type": "execute_result"
    },
    {
     "data": {
      "image/png": "[encoded data removed]",
      "text/plain": [
       "<Figure size 864x576 with 1 Axes>"
      ]
     },
     "metadata": {
      "needs_background": "light"
     },
     "output_type": "display_data"
    }
   ],
   "source": [
    "plt.figure(figsize=(12,8))\n",
    "df['Weekday'] = df['Weekday'].str.upper()\n",
    "sns.boxplot(x='Weekday', y='Total amount Withdrawn', data=df)"
   ]
  },
  {
   "cell_type": "markdown",
   "metadata": {
    "id": "1PvCd-AfRlaO"
   },
   "source": [
    "The spikes in the plot shows that they are outliers to the data set at several instances"
   ]
  },
  {
   "cell_type": "markdown",
   "metadata": {
    "id": "mvjPVEVBRkSg"
   },
   "source": [
    "### Relationship between Month and Withdrawal"
   ]
  },
  {
   "cell_type": "code",
   "execution_count": 32,
   "metadata": {
    "colab": {
     "base_uri": "https://localhost:8080/",
     "height": 513
    },
    "id": "8rodfrZ0SGbL",
    "outputId": "0bbcaf48-d867-447c-d676-ee1b77d6956d"
   },
   "outputs": [
    {
     "ename": "AttributeError",
     "evalue": "Can only use .dt accessor with datetimelike values",
     "output_type": "error",
     "traceback": [
      "\u001b[1;31m---------------------------------------------------------------------------\u001b[0m",
      "\u001b[1;31mAttributeError\u001b[0m                            Traceback (most recent call last)",
      "\u001b[1;32m<ipython-input-32-459122a8ebf1>\u001b[0m in \u001b[0;36m<module>\u001b[1;34m\u001b[0m\n\u001b[0;32m      1\u001b[0m \u001b[0mplt\u001b[0m\u001b[1;33m.\u001b[0m\u001b[0mfigure\u001b[0m\u001b[1;33m(\u001b[0m\u001b[0mfigsize\u001b[0m\u001b[1;33m=\u001b[0m\u001b[1;33m(\u001b[0m\u001b[1;36m12\u001b[0m\u001b[1;33m,\u001b[0m\u001b[1;36m8\u001b[0m\u001b[1;33m)\u001b[0m\u001b[1;33m)\u001b[0m\u001b[1;33m\u001b[0m\u001b[1;33m\u001b[0m\u001b[0m\n\u001b[1;32m----> 2\u001b[1;33m \u001b[0mdf\u001b[0m\u001b[1;33m[\u001b[0m\u001b[1;34m'Month'\u001b[0m\u001b[1;33m]\u001b[0m \u001b[1;33m=\u001b[0m \u001b[0mdf\u001b[0m\u001b[1;33m[\u001b[0m\u001b[1;34m'Transaction Date'\u001b[0m\u001b[1;33m]\u001b[0m\u001b[1;33m.\u001b[0m\u001b[0mdt\u001b[0m\u001b[1;33m.\u001b[0m\u001b[0mmonth\u001b[0m\u001b[1;33m\u001b[0m\u001b[1;33m\u001b[0m\u001b[0m\n\u001b[0m\u001b[0;32m      3\u001b[0m \u001b[0msns\u001b[0m\u001b[1;33m.\u001b[0m\u001b[0mbarplot\u001b[0m\u001b[1;33m(\u001b[0m\u001b[0mx\u001b[0m\u001b[1;33m=\u001b[0m\u001b[1;34m'Month'\u001b[0m\u001b[1;33m,\u001b[0m \u001b[0my\u001b[0m\u001b[1;33m=\u001b[0m\u001b[1;34m'Total amount Withdrawn'\u001b[0m\u001b[1;33m,\u001b[0m \u001b[0mdata\u001b[0m\u001b[1;33m=\u001b[0m\u001b[0mdf\u001b[0m\u001b[1;33m)\u001b[0m\u001b[1;33m\u001b[0m\u001b[1;33m\u001b[0m\u001b[0m\n",
      "\u001b[1;32mc:\\users\\jasvin\\appdata\\local\\programs\\python\\python38\\lib\\site-packages\\pandas\\core\\generic.py\u001b[0m in \u001b[0;36m__getattr__\u001b[1;34m(self, name)\u001b[0m\n\u001b[0;32m   5173\u001b[0m             \u001b[1;32mor\u001b[0m \u001b[0mname\u001b[0m \u001b[1;32min\u001b[0m \u001b[0mself\u001b[0m\u001b[1;33m.\u001b[0m\u001b[0m_accessors\u001b[0m\u001b[1;33m\u001b[0m\u001b[1;33m\u001b[0m\u001b[0m\n\u001b[0;32m   5174\u001b[0m         ):\n\u001b[1;32m-> 5175\u001b[1;33m             \u001b[1;32mreturn\u001b[0m \u001b[0mobject\u001b[0m\u001b[1;33m.\u001b[0m\u001b[0m__getattribute__\u001b[0m\u001b[1;33m(\u001b[0m\u001b[0mself\u001b[0m\u001b[1;33m,\u001b[0m \u001b[0mname\u001b[0m\u001b[1;33m)\u001b[0m\u001b[1;33m\u001b[0m\u001b[1;33m\u001b[0m\u001b[0m\n\u001b[0m\u001b[0;32m   5176\u001b[0m         \u001b[1;32melse\u001b[0m\u001b[1;33m:\u001b[0m\u001b[1;33m\u001b[0m\u001b[1;33m\u001b[0m\u001b[0m\n\u001b[0;32m   5177\u001b[0m             \u001b[1;32mif\u001b[0m \u001b[0mself\u001b[0m\u001b[1;33m.\u001b[0m\u001b[0m_info_axis\u001b[0m\u001b[1;33m.\u001b[0m\u001b[0m_can_hold_identifiers_and_holds_name\u001b[0m\u001b[1;33m(\u001b[0m\u001b[0mname\u001b[0m\u001b[1;33m)\u001b[0m\u001b[1;33m:\u001b[0m\u001b[1;33m\u001b[0m\u001b[1;33m\u001b[0m\u001b[0m\n",
      "\u001b[1;32mc:\\users\\jasvin\\appdata\\local\\programs\\python\\python38\\lib\\site-packages\\pandas\\core\\accessor.py\u001b[0m in \u001b[0;36m__get__\u001b[1;34m(self, obj, cls)\u001b[0m\n\u001b[0;32m    173\u001b[0m             \u001b[1;31m# we're accessing the attribute of the class, i.e., Dataset.geo\u001b[0m\u001b[1;33m\u001b[0m\u001b[1;33m\u001b[0m\u001b[1;33m\u001b[0m\u001b[0m\n\u001b[0;32m    174\u001b[0m             \u001b[1;32mreturn\u001b[0m \u001b[0mself\u001b[0m\u001b[1;33m.\u001b[0m\u001b[0m_accessor\u001b[0m\u001b[1;33m\u001b[0m\u001b[1;33m\u001b[0m\u001b[0m\n\u001b[1;32m--> 175\u001b[1;33m         \u001b[0maccessor_obj\u001b[0m \u001b[1;33m=\u001b[0m \u001b[0mself\u001b[0m\u001b[1;33m.\u001b[0m\u001b[0m_accessor\u001b[0m\u001b[1;33m(\u001b[0m\u001b[0mobj\u001b[0m\u001b[1;33m)\u001b[0m\u001b[1;33m\u001b[0m\u001b[1;33m\u001b[0m\u001b[0m\n\u001b[0m\u001b[0;32m    176\u001b[0m         \u001b[1;31m# Replace the property with the accessor object. Inspired by:\u001b[0m\u001b[1;33m\u001b[0m\u001b[1;33m\u001b[0m\u001b[1;33m\u001b[0m\u001b[0m\n\u001b[0;32m    177\u001b[0m         \u001b[1;31m# http://www.pydanny.com/cached-property.html\u001b[0m\u001b[1;33m\u001b[0m\u001b[1;33m\u001b[0m\u001b[1;33m\u001b[0m\u001b[0m\n",
      "\u001b[1;32mc:\\users\\jasvin\\appdata\\local\\programs\\python\\python38\\lib\\site-packages\\pandas\\core\\indexes\\accessors.py\u001b[0m in \u001b[0;36m__new__\u001b[1;34m(cls, data)\u001b[0m\n\u001b[0;32m    341\u001b[0m             \u001b[1;32mpass\u001b[0m  \u001b[1;31m# we raise an attribute error anyway\u001b[0m\u001b[1;33m\u001b[0m\u001b[1;33m\u001b[0m\u001b[0m\n\u001b[0;32m    342\u001b[0m \u001b[1;33m\u001b[0m\u001b[0m\n\u001b[1;32m--> 343\u001b[1;33m         \u001b[1;32mraise\u001b[0m \u001b[0mAttributeError\u001b[0m\u001b[1;33m(\u001b[0m\u001b[1;34m\"Can only use .dt accessor with datetimelike \"\u001b[0m \u001b[1;34m\"values\"\u001b[0m\u001b[1;33m)\u001b[0m\u001b[1;33m\u001b[0m\u001b[1;33m\u001b[0m\u001b[0m\n\u001b[0m",
      "\u001b[1;31mAttributeError\u001b[0m: Can only use .dt accessor with datetimelike values"
     ]
    },
    {
     "data": {
      "text/plain": [
       "<Figure size 864x576 with 0 Axes>"
      ]
     },
     "metadata": {},
     "output_type": "display_data"
    }
   ],
   "source": [
    "plt.figure(figsize=(12,8))\n",
    "df['Month'] = df['Transaction Date'].dt.month\n",
    "sns.barplot(x='Month', y='Total amount Withdrawn', data=df)"
   ]
  },
  {
   "cell_type": "markdown",
   "metadata": {
    "id": "bn1FUTskTZqJ"
   },
   "source": [
    "Almost all months have similar withdrawals, with October leading with a small margin"
   ]
  },
  {
   "cell_type": "markdown",
   "metadata": {
    "id": "7eUUs1zAScw9"
   },
   "source": [
    "### Relationship between Holiday Sequence and Withdrawal"
   ]
  },
  {
   "cell_type": "code",
   "execution_count": 33,
   "metadata": {
    "colab": {
     "base_uri": "https://localhost:8080/",
     "height": 524
    },
    "id": "nnx7XORVSqUW",
    "outputId": "145a7eb7-acf1-4533-9ecc-2062cad4041b"
   },
   "outputs": [
    {
     "data": {
      "text/plain": [
       "<matplotlib.axes._subplots.AxesSubplot at 0x1853cc66ca0>"
      ]
     },
     "execution_count": 33,
     "metadata": {},
     "output_type": "execute_result"
    },
    {
     "data": {
      "image/png": "[encoded data removed]",
      "text/plain": [
       "<Figure size 864x576 with 1 Axes>"
      ]
     },
     "metadata": {
      "needs_background": "light"
     },
     "output_type": "display_data"
    }
   ],
   "source": [
    "plt.figure(figsize=(12,8))\n",
    "sns.boxplot(x='Holiday Sequence', y='Total amount Withdrawn', data=df)"
   ]
  },
  {
   "cell_type": "markdown",
   "metadata": {
    "id": "1yA5VLJXTkB0"
   },
   "source": [
    "There is a small increase in withdrawal, when the sequence is `WHH` i.e. Previous day was a working day, that day was a holiday and the next day was a holiday"
   ]
  },
  {
   "cell_type": "markdown",
   "metadata": {
    "id": "npXvKlkpTJ3m"
   },
   "source": [
    "### Relationship between Number of Withdrawals and Withdrawal"
   ]
  },
  {
   "cell_type": "code",
   "execution_count": 34,
   "metadata": {
    "colab": {
     "base_uri": "https://localhost:8080/",
     "height": 524
    },
    "id": "V4XlWBjXSqyQ",
    "outputId": "c5f3af9d-789a-4066-de99-4a9a937d399d"
   },
   "outputs": [
    {
     "data": {
      "text/plain": [
       "<matplotlib.axes._subplots.AxesSubplot at 0x1853cb430d0>"
      ]
     },
     "execution_count": 34,
     "metadata": {},
     "output_type": "execute_result"
    },
    {
     "data": {
      "image/png": "[encoded data removed]",
      "text/plain": [
       "<Figure size 864x576 with 1 Axes>"
      ]
     },
     "metadata": {
      "needs_background": "light"
     },
     "output_type": "display_data"
    }
   ],
   "source": [
    "plt.figure(figsize=(12,8))\n",
    "sns.lineplot(x='No Of Withdrawals', y='Total amount Withdrawn', data=df)"
   ]
  },
  {
   "cell_type": "markdown",
   "metadata": {
    "id": "A5jx0SjxTHb9"
   },
   "source": [
    "We can see an overall rise in withdrawal as the number of withdrawal increases.\n"
   ]
  },
  {
   "cell_type": "markdown",
   "metadata": {
    "id": "3UyM1u6MUqNm"
   },
   "source": [
    "### Relationship between Date and Withdrawal (Timeseries Plot)"
   ]
  },
  {
   "cell_type": "code",
   "execution_count": null,
   "metadata": {
    "colab": {
     "base_uri": "https://localhost:8080/",
     "height": 542
    },
    "id": "rKHkWUpRqYu5",
    "outputId": "b339e2a8-6375-4173-da3a-00b82218174b"
   },
   "outputs": [],
   "source": [
    "def dateformat_fixer(date):\n",
    "    # If its part of the first format, convert it to the second one\n",
    "    if '/' in date:\n",
    "        date_parts = date.split('/')\n",
    "        \n",
    "        year = date_parts[2]\n",
    "        month = date_parts[1]\n",
    "        day = date_parts[0]\n",
    "        \n",
    "        if int(month) < 10:\n",
    "            month = '0' + month\n",
    "        if int(day) < 10:\n",
    "            day = '0' + day\n",
    "        \n",
    "        return day + '-' + month + '-' + year\n",
    "    # If its already in second format, keep it as it is\n",
    "    else:\n",
    "        return date\n",
    "\n",
    "df['Transaction Date'] = df.apply(lambda row: dateformat_fixer(row['Transaction Date']), axis=1)\n",
    "df['Transaction Date'] = pd.to_datetime(df['Transaction Date'], format='%d-%m-%Y')\n",
    "\n",
    "\n",
    "fig = px.line(df, x='Transaction Date', y='Total amount Withdrawn', \n",
    "                      labels={'x':'Date', 'y':'Amount Withdrawn'}, title='Total Amount Withdrawn Distribution')\n",
    "fig.update_xaxes(\n",
    "    rangeslider_visible=True,\n",
    "    rangeselector=dict(\n",
    "        buttons=list([\n",
    "            dict(count=1, label=\"1m\", step=\"month\", stepmode=\"backward\"),\n",
    "            dict(count=6, label=\"6m\", step=\"month\", stepmode=\"backward\"),\n",
    "            dict(count=1, label=\"YTD\", step=\"year\", stepmode=\"todate\"),\n",
    "            dict(count=1, label=\"1y\", step=\"year\", stepmode=\"backward\"),\n",
    "            dict(step=\"all\")\n",
    "        ])\n",
    "    )\n",
    ")\n",
    "fig.show()"
   ]
  }
 ],
 "metadata": {
  "colab": {
   "name": "EDA_Presentation.ipynb",
   "provenance": []
  },
  "kernelspec": {
   "display_name": "Python 3",
   "language": "python",
   "name": "python3"
  },
  "language_info": {
   "codemirror_mode": {
    "name": "ipython",
    "version": 3
   },
   "file_extension": ".py",
   "mimetype": "text/x-python",
   "name": "python",
   "nbconvert_exporter": "python",
   "pygments_lexer": "ipython3",
   "version": "3.8.2"
  }
 },
 "nbformat": 4,
 "nbformat_minor": 1
}
