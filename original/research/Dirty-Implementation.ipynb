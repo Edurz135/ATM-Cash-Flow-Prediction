{
 "cells": [
  {
   "cell_type": "markdown",
   "metadata": {},
   "source": [
    "# Table of Contents\n",
    "1. [Data Cleaning](#data-cleaning)\n",
    "2. [Basic Feature Engineering](#feature-engineering)\n",
    "    1. [Custom One-Hot Encoding Function for Generated Data](#one-hot-enc)\n",
    "3. [Initial KNN Regression Implementation and Error Rate Visualization](#initial-knn)\n",
    "4. [Running All Regression Models on Data with Train-Test Split](#initial-regression-model-run)\n",
    "    1. [Compute RMSE Model List Function](#compute-rmse)\n",
    "5. [Using 2017 Data as Testing Data and everything else as Training Data](#2017-test-data)\n",
    "6. [Outlier Analysis](#outlier-analysis)\n",
    "    1. [Finding Out Outlier Months](#outlier-months)\n",
    "    2. [Running Compute RMSE Model List after removing Outlier Months from test data](#outlier-months-compute-rmse)\n",
    "    3. [Finding Out Outlier Days](#outlier-days)\n",
    "    4. [Finding Out Outlier Days Per ATM](#outlier-day-per-atm)\n",
    "7. [Model Training Per ATM](#model-training-per-atm)\n",
    "8. [Model Training On All ATMs but using Individual ATMs as test set](#train-one-model-but-diff-test)\n",
    "    1. [Model Training On All ATMs but not using KK Nagar and Christ College Data](#no-kk)\n",
    "9. [Hyperparameter Tuning](#hyperparameter)\n",
    "    1. [For SVR](#hyperparameter-svr)\n",
    "    2. [Plotting Validation Curve function](#validation-curve)\n",
    "    3. [For Lasso (with Validation Curve)](#hyperparameter-lasso)\n",
    "    4. [For Ridge (with Validation Curve)](#hyperparameter-ridge)\n",
    "    5. [For Elasticnet](#hyperparameter-enet)\n",
    "    6. [For Bayesian Ridge](#hyperparameter-bayes)\n",
    "    7. [For KNN](#hyperparameter-knn)\n",
    "    8. [For Decision Tree](#hyperparameter-dtree)\n",
    "    9. [For Random Forest](#hyperparameter-rforest)\n",
    "10. [Polynomial Regression with Hyperparameter Tuning](#polynomial)\n",
    "    "
   ]
  },
  {
   "cell_type": "code",
   "execution_count": 1,
   "metadata": {},
   "outputs": [],
   "source": [
    "import seaborn as sns\n",
    "import matplotlib.pyplot as plt\n",
    "import numpy as np\n",
    "import pandas as pd\n",
    "import datetime \n",
    "\n",
    "%matplotlib inline"
   ]
  },
  {
   "cell_type": "code",
   "execution_count": 2,
   "metadata": {},
   "outputs": [],
   "source": [
    "from sklearn.linear_model import LinearRegression, Lasso, Ridge, BayesianRidge, ElasticNet\n",
    "from sklearn.svm import SVR\n",
    "from sklearn.tree import DecisionTreeRegressor\n",
    "from sklearn.ensemble import RandomForestRegressor\n",
    "from sklearn.neighbors import KNeighborsRegressor\n",
    "\n",
    "from sklearn.metrics import mean_squared_error, make_scorer\n",
    "from sklearn.preprocessing import PolynomialFeatures, StandardScaler\n",
    "from sklearn.model_selection import RandomizedSearchCV, GridSearchCV, validation_curve, cross_val_score, train_test_split\n",
    "\n",
    "from sklearn.pipeline import Pipeline\n",
    "\n",
    "# For measuring feature importance in tree based models like DTree and RandomForest\n",
    "from sklearn.inspection import permutation_importance \n",
    "# For measuring feature importance in linear_models like Lasso, Ridge, etc.\n",
    "from regressors.stats import coef_pval"
   ]
  },
  {
   "cell_type": "markdown",
   "metadata": {},
   "source": [
    "<a name=\"data-cleaning\"></a>\n",
    "## Data Import and Cleaning \n",
    "<p> The function performs the following tasks, </p>\n",
    "    <ol> \n",
    "        <li> Converts Weekday column to Uppercase because of format mismatch </li>\n",
    "        <li> Converts Transaction Date column to Date Time object </li>\n",
    "        <li> Removes the XYZ and Other Card Withdrawn Amounts columns target column (Total Amount Withdrawn) is the sum of these two columns </li>\n",
    "        <li> Removes the Number of XYZ and Other Card Withdrawal columns because we will not know these values for test data</li>"
   ]
  },
  {
   "cell_type": "code",
   "execution_count": 5,
   "metadata": {},
   "outputs": [],
   "source": [
    "data = pd.read_csv(\"../data/aggregated_atm_data.csv\")\n",
    "    \n",
    "def data_import_and_cleaning(data):\n",
    "    data['Weekday'] = data['Weekday'].str.upper()\n",
    "    data['Transaction Date'] = pd.to_datetime(data['Transaction Date']) \n",
    "    new_data = data.drop(['Transaction Date', 'Amount withdrawn Other Card', 'Amount withdrawn XYZ Card', \n",
    "                          'No Of Withdrawals', 'No Of XYZ Card Withdrawals', 'No Of Other Card Withdrawals'], \n",
    "                         axis=1)\n",
    "    \n",
    "    return new_data\n",
    "\n",
    "new_data = data_import_and_cleaning(data)"
   ]
  },
  {
   "cell_type": "code",
   "execution_count": 10,
   "metadata": {},
   "outputs": [
    {
     "data": {
      "text/html": [
       "<div>\n",
       "<style scoped>\n",
       "    .dataframe tbody tr th:only-of-type {\n",
       "        vertical-align: middle;\n",
       "    }\n",
       "\n",
       "    .dataframe tbody tr th {\n",
       "        vertical-align: top;\n",
       "    }\n",
       "\n",
       "    .dataframe thead th {\n",
       "        text-align: right;\n",
       "    }\n",
       "</style>\n",
       "<table border=\"1\" class=\"dataframe\">\n",
       "  <thead>\n",
       "    <tr style=\"text-align: right;\">\n",
       "      <th></th>\n",
       "      <th>ATM Name</th>\n",
       "      <th>Total amount Withdrawn</th>\n",
       "      <th>Weekday</th>\n",
       "      <th>Festival Religion</th>\n",
       "      <th>Working Day</th>\n",
       "      <th>Holiday Sequence</th>\n",
       "    </tr>\n",
       "  </thead>\n",
       "  <tbody>\n",
       "    <tr>\n",
       "      <th>0</th>\n",
       "      <td>Big Street ATM</td>\n",
       "      <td>123800</td>\n",
       "      <td>SATURDAY</td>\n",
       "      <td>H</td>\n",
       "      <td>H</td>\n",
       "      <td>WHH</td>\n",
       "    </tr>\n",
       "    <tr>\n",
       "      <th>1</th>\n",
       "      <td>Mount Road ATM</td>\n",
       "      <td>767900</td>\n",
       "      <td>SATURDAY</td>\n",
       "      <td>C</td>\n",
       "      <td>H</td>\n",
       "      <td>WHH</td>\n",
       "    </tr>\n",
       "    <tr>\n",
       "      <th>2</th>\n",
       "      <td>Airport ATM</td>\n",
       "      <td>503400</td>\n",
       "      <td>SATURDAY</td>\n",
       "      <td>C</td>\n",
       "      <td>H</td>\n",
       "      <td>WHH</td>\n",
       "    </tr>\n",
       "    <tr>\n",
       "      <th>3</th>\n",
       "      <td>KK Nagar ATM</td>\n",
       "      <td>945300</td>\n",
       "      <td>SATURDAY</td>\n",
       "      <td>C</td>\n",
       "      <td>H</td>\n",
       "      <td>WHH</td>\n",
       "    </tr>\n",
       "    <tr>\n",
       "      <th>4</th>\n",
       "      <td>Christ College ATM</td>\n",
       "      <td>287700</td>\n",
       "      <td>SATURDAY</td>\n",
       "      <td>C</td>\n",
       "      <td>H</td>\n",
       "      <td>WHH</td>\n",
       "    </tr>\n",
       "  </tbody>\n",
       "</table>\n",
       "</div>"
      ],
      "text/plain": [
       "             ATM Name  Total amount Withdrawn   Weekday Festival Religion  \\\n",
       "0      Big Street ATM                  123800  SATURDAY                 H   \n",
       "1      Mount Road ATM                  767900  SATURDAY                 C   \n",
       "2         Airport ATM                  503400  SATURDAY                 C   \n",
       "3        KK Nagar ATM                  945300  SATURDAY                 C   \n",
       "4  Christ College ATM                  287700  SATURDAY                 C   \n",
       "\n",
       "  Working Day Holiday Sequence  \n",
       "0           H              WHH  \n",
       "1           H              WHH  \n",
       "2           H              WHH  \n",
       "3           H              WHH  \n",
       "4           H              WHH  "
      ]
     },
     "execution_count": 10,
     "metadata": {},
     "output_type": "execute_result"
    }
   ],
   "source": [
    "new_data.head()"
   ]
  },
  {
   "cell_type": "markdown",
   "metadata": {},
   "source": [
    "<a name=\"feature-engineering\"></a>\n",
    "## Basic Feature Engineering\n",
    "<p> The following features are generated here, more can be added later on </p>\n",
    "<ol>\n",
    "    <li> Converting Transaction Date to individual columns for day, month and year, otherwise model won't accept it </li>\n",
    "    <li> One-Hot Encoding the Categorical Columns using the function written below </li>\n",
    "</ol>"
   ]
  },
  {
   "cell_type": "code",
   "execution_count": 5,
   "metadata": {},
   "outputs": [],
   "source": [
    "new_data['Month'] = data['Transaction Date'].dt.month\n",
    "new_data['Day'] = data['Transaction Date'].dt.day\n",
    "new_data['Year'] = data['Transaction Date'].dt.year"
   ]
  },
  {
   "cell_type": "code",
   "execution_count": 6,
   "metadata": {},
   "outputs": [
    {
     "data": {
      "text/plain": [
       "Index(['ATM Name', 'Total amount Withdrawn', 'Weekday', 'Festival Religion',\n",
       "       'Working Day', 'Holiday Sequence', 'Month', 'Day', 'Year'],\n",
       "      dtype='object')"
      ]
     },
     "execution_count": 6,
     "metadata": {},
     "output_type": "execute_result"
    }
   ],
   "source": [
    "new_data.columns"
   ]
  },
  {
   "cell_type": "markdown",
   "metadata": {},
   "source": [
    "<a name=\"one-hot-enc\"></a>\n",
    "<h3> Custom One-Hot Encoding Function for Generated Data </h3>"
   ]
  },
  {
   "cell_type": "code",
   "execution_count": 7,
   "metadata": {},
   "outputs": [],
   "source": [
    "categorical_features_list = ['ATM Name', 'Weekday', 'Festival Religion', 'Working Day', 'Holiday Sequence', \n",
    "                             'Month', 'Day', 'Year']"
   ]
  },
  {
   "cell_type": "code",
   "execution_count": 8,
   "metadata": {},
   "outputs": [],
   "source": [
    "# Convert all categorical columns to Dummy Data (One-Hot Encoding)\n",
    "# drop_first = True to avoid the first column of each dummy column's result\n",
    "# So if column = Gender and has two unique values Male and Female, get_dummies on this column creates two new columns\n",
    "# male and female, if person male that column is 1 and the other is 0 and same for female column, but we only just need\n",
    "# one of these columns, male or female, if male is 0 it guarantees person is female, for that reason drop_first=True\n",
    "def convert_categorical_to_numerical(data, column_list):\n",
    "    if 'ATM Name' in column_list:\n",
    "        column_list.remove('ATM Name')\n",
    "        temp_data = pd.get_dummies(data, columns=column_list , drop_first=True)\n",
    "    \n",
    "        # Do drop_first for all columns, except for ATM Name, because it becomes useful for accessing individual ATM test\n",
    "        # data later on\n",
    "        return pd.get_dummies(temp_data, columns=['ATM Name'])\n",
    "    else:\n",
    "        return pd.get_dummies(data, columns=column_list, drop_first=True)\n",
    "\n",
    "\n",
    "# One-Hot Encoding and then one of the ATM Name columns has to be dropped because of the way the function is written\n",
    "temp_numeric_data = convert_categorical_to_numerical(new_data, categorical_features_list)\n",
    "numeric_data = temp_numeric_data.drop('ATM Name_KK Nagar ATM', axis=1)"
   ]
  },
  {
   "cell_type": "code",
   "execution_count": 9,
   "metadata": {},
   "outputs": [
    {
     "data": {
      "text/html": [
       "<div>\n",
       "<style scoped>\n",
       "    .dataframe tbody tr th:only-of-type {\n",
       "        vertical-align: middle;\n",
       "    }\n",
       "\n",
       "    .dataframe tbody tr th {\n",
       "        vertical-align: top;\n",
       "    }\n",
       "\n",
       "    .dataframe thead th {\n",
       "        text-align: right;\n",
       "    }\n",
       "</style>\n",
       "<table border=\"1\" class=\"dataframe\">\n",
       "  <thead>\n",
       "    <tr style=\"text-align: right;\">\n",
       "      <th></th>\n",
       "      <th>Total amount Withdrawn</th>\n",
       "      <th>Weekday_MONDAY</th>\n",
       "      <th>Weekday_SATURDAY</th>\n",
       "      <th>Weekday_SUNDAY</th>\n",
       "      <th>Weekday_THURSDAY</th>\n",
       "      <th>Weekday_TUESDAY</th>\n",
       "      <th>Weekday_WEDNESDAY</th>\n",
       "      <th>Festival Religion_H</th>\n",
       "      <th>Festival Religion_M</th>\n",
       "      <th>Festival Religion_N</th>\n",
       "      <th>...</th>\n",
       "      <th>Year_2012</th>\n",
       "      <th>Year_2013</th>\n",
       "      <th>Year_2014</th>\n",
       "      <th>Year_2015</th>\n",
       "      <th>Year_2016</th>\n",
       "      <th>Year_2017</th>\n",
       "      <th>ATM Name_Airport ATM</th>\n",
       "      <th>ATM Name_Big Street ATM</th>\n",
       "      <th>ATM Name_Christ College ATM</th>\n",
       "      <th>ATM Name_Mount Road ATM</th>\n",
       "    </tr>\n",
       "  </thead>\n",
       "  <tbody>\n",
       "    <tr>\n",
       "      <th>0</th>\n",
       "      <td>123800</td>\n",
       "      <td>0</td>\n",
       "      <td>1</td>\n",
       "      <td>0</td>\n",
       "      <td>0</td>\n",
       "      <td>0</td>\n",
       "      <td>0</td>\n",
       "      <td>1</td>\n",
       "      <td>0</td>\n",
       "      <td>0</td>\n",
       "      <td>...</td>\n",
       "      <td>0</td>\n",
       "      <td>0</td>\n",
       "      <td>0</td>\n",
       "      <td>0</td>\n",
       "      <td>0</td>\n",
       "      <td>0</td>\n",
       "      <td>0</td>\n",
       "      <td>1</td>\n",
       "      <td>0</td>\n",
       "      <td>0</td>\n",
       "    </tr>\n",
       "    <tr>\n",
       "      <th>1</th>\n",
       "      <td>767900</td>\n",
       "      <td>0</td>\n",
       "      <td>1</td>\n",
       "      <td>0</td>\n",
       "      <td>0</td>\n",
       "      <td>0</td>\n",
       "      <td>0</td>\n",
       "      <td>0</td>\n",
       "      <td>0</td>\n",
       "      <td>0</td>\n",
       "      <td>...</td>\n",
       "      <td>0</td>\n",
       "      <td>0</td>\n",
       "      <td>0</td>\n",
       "      <td>0</td>\n",
       "      <td>0</td>\n",
       "      <td>0</td>\n",
       "      <td>0</td>\n",
       "      <td>0</td>\n",
       "      <td>0</td>\n",
       "      <td>1</td>\n",
       "    </tr>\n",
       "    <tr>\n",
       "      <th>2</th>\n",
       "      <td>503400</td>\n",
       "      <td>0</td>\n",
       "      <td>1</td>\n",
       "      <td>0</td>\n",
       "      <td>0</td>\n",
       "      <td>0</td>\n",
       "      <td>0</td>\n",
       "      <td>0</td>\n",
       "      <td>0</td>\n",
       "      <td>0</td>\n",
       "      <td>...</td>\n",
       "      <td>0</td>\n",
       "      <td>0</td>\n",
       "      <td>0</td>\n",
       "      <td>0</td>\n",
       "      <td>0</td>\n",
       "      <td>0</td>\n",
       "      <td>1</td>\n",
       "      <td>0</td>\n",
       "      <td>0</td>\n",
       "      <td>0</td>\n",
       "    </tr>\n",
       "    <tr>\n",
       "      <th>3</th>\n",
       "      <td>945300</td>\n",
       "      <td>0</td>\n",
       "      <td>1</td>\n",
       "      <td>0</td>\n",
       "      <td>0</td>\n",
       "      <td>0</td>\n",
       "      <td>0</td>\n",
       "      <td>0</td>\n",
       "      <td>0</td>\n",
       "      <td>0</td>\n",
       "      <td>...</td>\n",
       "      <td>0</td>\n",
       "      <td>0</td>\n",
       "      <td>0</td>\n",
       "      <td>0</td>\n",
       "      <td>0</td>\n",
       "      <td>0</td>\n",
       "      <td>0</td>\n",
       "      <td>0</td>\n",
       "      <td>0</td>\n",
       "      <td>0</td>\n",
       "    </tr>\n",
       "    <tr>\n",
       "      <th>4</th>\n",
       "      <td>287700</td>\n",
       "      <td>0</td>\n",
       "      <td>1</td>\n",
       "      <td>0</td>\n",
       "      <td>0</td>\n",
       "      <td>0</td>\n",
       "      <td>0</td>\n",
       "      <td>0</td>\n",
       "      <td>0</td>\n",
       "      <td>0</td>\n",
       "      <td>...</td>\n",
       "      <td>0</td>\n",
       "      <td>0</td>\n",
       "      <td>0</td>\n",
       "      <td>0</td>\n",
       "      <td>0</td>\n",
       "      <td>0</td>\n",
       "      <td>0</td>\n",
       "      <td>0</td>\n",
       "      <td>1</td>\n",
       "      <td>0</td>\n",
       "    </tr>\n",
       "  </tbody>\n",
       "</table>\n",
       "<p>5 rows × 70 columns</p>\n",
       "</div>"
      ],
      "text/plain": [
       "   Total amount Withdrawn  Weekday_MONDAY  Weekday_SATURDAY  Weekday_SUNDAY  \\\n",
       "0                  123800               0                 1               0   \n",
       "1                  767900               0                 1               0   \n",
       "2                  503400               0                 1               0   \n",
       "3                  945300               0                 1               0   \n",
       "4                  287700               0                 1               0   \n",
       "\n",
       "   Weekday_THURSDAY  Weekday_TUESDAY  Weekday_WEDNESDAY  Festival Religion_H  \\\n",
       "0                 0                0                  0                    1   \n",
       "1                 0                0                  0                    0   \n",
       "2                 0                0                  0                    0   \n",
       "3                 0                0                  0                    0   \n",
       "4                 0                0                  0                    0   \n",
       "\n",
       "   Festival Religion_M  Festival Religion_N  ...  Year_2012  Year_2013  \\\n",
       "0                    0                    0  ...          0          0   \n",
       "1                    0                    0  ...          0          0   \n",
       "2                    0                    0  ...          0          0   \n",
       "3                    0                    0  ...          0          0   \n",
       "4                    0                    0  ...          0          0   \n",
       "\n",
       "   Year_2014  Year_2015  Year_2016  Year_2017  ATM Name_Airport ATM  \\\n",
       "0          0          0          0          0                     0   \n",
       "1          0          0          0          0                     0   \n",
       "2          0          0          0          0                     1   \n",
       "3          0          0          0          0                     0   \n",
       "4          0          0          0          0                     0   \n",
       "\n",
       "   ATM Name_Big Street ATM  ATM Name_Christ College ATM  \\\n",
       "0                        1                            0   \n",
       "1                        0                            0   \n",
       "2                        0                            0   \n",
       "3                        0                            0   \n",
       "4                        0                            1   \n",
       "\n",
       "   ATM Name_Mount Road ATM  \n",
       "0                        0  \n",
       "1                        1  \n",
       "2                        0  \n",
       "3                        0  \n",
       "4                        0  \n",
       "\n",
       "[5 rows x 70 columns]"
      ]
     },
     "execution_count": 9,
     "metadata": {},
     "output_type": "execute_result"
    }
   ],
   "source": [
    "numeric_data.head()"
   ]
  },
  {
   "cell_type": "markdown",
   "metadata": {},
   "source": [
    "<h3> Note that since all columns are non-numeric, scaling is not required</h3>"
   ]
  },
  {
   "cell_type": "markdown",
   "metadata": {},
   "source": [
    "<a name=\"initial-knn\"></a>\n",
    "## KNN Implementation & Error Rate Visualization"
   ]
  },
  {
   "cell_type": "code",
   "execution_count": 10,
   "metadata": {
    "scrolled": true
   },
   "outputs": [
    {
     "name": "stdout",
     "output_type": "stream",
     "text": [
      "k=1 Model Trained and Tested\n",
      "k=2 Model Trained and Tested\n",
      "k=3 Model Trained and Tested\n",
      "k=4 Model Trained and Tested\n",
      "k=5 Model Trained and Tested\n",
      "k=6 Model Trained and Tested\n",
      "k=7 Model Trained and Tested\n",
      "k=8 Model Trained and Tested\n",
      "k=9 Model Trained and Tested\n",
      "k=10 Model Trained and Tested\n",
      "k=11 Model Trained and Tested\n",
      "k=12 Model Trained and Tested\n",
      "k=13 Model Trained and Tested\n",
      "k=14 Model Trained and Tested\n",
      "k=15 Model Trained and Tested\n",
      "k=16 Model Trained and Tested\n",
      "k=17 Model Trained and Tested\n",
      "k=18 Model Trained and Tested\n",
      "k=19 Model Trained and Tested\n",
      "k=20 Model Trained and Tested\n",
      "k=21 Model Trained and Tested\n",
      "k=22 Model Trained and Tested\n",
      "k=23 Model Trained and Tested\n",
      "k=24 Model Trained and Tested\n",
      "k=25 Model Trained and Tested\n",
      "k=26 Model Trained and Tested\n",
      "k=27 Model Trained and Tested\n",
      "k=28 Model Trained and Tested\n",
      "k=29 Model Trained and Tested\n",
      "k=30 Model Trained and Tested\n",
      "k=31 Model Trained and Tested\n",
      "k=32 Model Trained and Tested\n",
      "k=33 Model Trained and Tested\n",
      "k=34 Model Trained and Tested\n",
      "k=35 Model Trained and Tested\n",
      "k=36 Model Trained and Tested\n",
      "k=37 Model Trained and Tested\n",
      "k=38 Model Trained and Tested\n",
      "k=39 Model Trained and Tested\n"
     ]
    }
   ],
   "source": [
    "from sklearn.neighbors import KNeighborsRegressor\n",
    "from sklearn.metrics import mean_squared_error\n",
    "\n",
    "X = numeric_data.drop('Total amount Withdrawn', axis=1)\n",
    "y = numeric_data['Total amount Withdrawn']\n",
    "\n",
    "X_train, X_test, y_train, y_test = train_test_split(X, y, test_size=0.3, random_state=101)\n",
    "\n",
    "error_rate = []\n",
    "for k in range(1, 40):\n",
    "    knn = KNeighborsRegressor(n_neighbors=k, n_jobs=-1)\n",
    "    knn.fit(X_train, y_train)\n",
    "    predictions = knn.predict(X_test)\n",
    "    error_rate.append(np.sqrt(mean_squared_error(y_test, predictions)))\n",
    "    print(\"k={} Model Trained and Tested\".format(k))"
   ]
  },
  {
   "cell_type": "code",
   "execution_count": 11,
   "metadata": {},
   "outputs": [
    {
     "data": {
      "text/plain": [
       "[<matplotlib.lines.Line2D at 0x226930ffca0>]"
      ]
     },
     "execution_count": 11,
     "metadata": {},
     "output_type": "execute_result"
    },
    {
     "data": {
      "image/png": "[encoded data removed]",
      "text/plain": [
       "<Figure size 720x432 with 1 Axes>"
      ]
     },
     "metadata": {
      "needs_background": "light"
     },
     "output_type": "display_data"
    }
   ],
   "source": [
    "plt.figure(figsize=(10,6))\n",
    "plt.plot(range(1,40), error_rate, linestyle='--', marker='o', markerfacecolor='red', color='blue')"
   ]
  },
  {
   "cell_type": "code",
   "execution_count": 12,
   "metadata": {},
   "outputs": [
    {
     "name": "stdout",
     "output_type": "stream",
     "text": [
      "Best K: 36\n",
      "Best RMSE: 263821.32380546525\n"
     ]
    }
   ],
   "source": [
    "print(\"Best K:\", error_rate.index(min(error_rate)))\n",
    "print(\"Best RMSE:\", min(error_rate))"
   ]
  },
  {
   "cell_type": "markdown",
   "metadata": {},
   "source": [
    "<a name=\"initial-regression-model-run\"></a>\n",
    "## Running Each Regression Model to get summary of all RMSEs\n",
    "<h3> Models tested </h3>\n",
    "<ul>\n",
    "    <li> KNN </li>\n",
    "    <li> Linear Regression </li>\n",
    "    <li> Ridge </li>\n",
    "    <li> Elasticnet </li>\n",
    "    <li> Lasso </li>\n",
    "    <li> Bayesian Ridge </li>\n",
    "    <li> Support Vector Regression </li>\n",
    "    <li> Random Forest Regression </li>\n",
    "    <li> Decision Tree Regression </li>\n",
    "</ul>"
   ]
  },
  {
   "cell_type": "code",
   "execution_count": 13,
   "metadata": {},
   "outputs": [],
   "source": [
    "models = {'K-Nearest Neighbours': KNeighborsRegressor(n_neighbors=36, n_jobs=-1), 'Vanilla Linear Regression': LinearRegression(), \n",
    "          'Ridge Linear Regression': Ridge(), 'Elasticnet Linear Regression': ElasticNet(), \n",
    "          'Lasso Linear Regression': Lasso(max_iter=1100), 'Bayesian Ridge Linear Regression': BayesianRidge(), \n",
    "          'Support Vector Regression': SVR(), 'Random Forest Regression': RandomForestRegressor(), \n",
    "          'Decision Tree Regression': DecisionTreeRegressor()}\n",
    "\n",
    "atm_names = new_data['ATM Name'].unique()"
   ]
  },
  {
   "cell_type": "markdown",
   "metadata": {},
   "source": [
    "<a name=\"compute-rmse\"></a>\n",
    "<h3> Compute RMSE function </h3>\n",
    "<p> It loops over all models given, fits train data and predicts on test data </p>"
   ]
  },
  {
   "cell_type": "code",
   "execution_count": 49,
   "metadata": {},
   "outputs": [],
   "source": [
    "def compute_rmse_model_list(models, X_train, y_train, X_test, y_test):\n",
    "    print(\"RMSEs for each model\")\n",
    "    testing_scores = dict()\n",
    "    for model_name in models:\n",
    "        model = models[model_name]\n",
    "        model.fit(X_train, y_train)\n",
    "        model_predictions = model.predict(X_test)\n",
    "        model_rmse = np.sqrt(mean_squared_error(y_test, model_predictions))\n",
    "        model_testing_score = model.score(X_test, y_test)\n",
    "        model_training_score = model.score(X_train, y_train)\n",
    "        print(\"For\", model_name)\n",
    "        print(\"\\tTesting RMSE = {}\".format(model_rmse))\n",
    "        print(\"\\tTraining Score =\", model_training_score)\n",
    "        print(\"\\tTesting Score =\", model_testing_score)\n",
    "        \n",
    "        # Storing the results in a dictionary, so they can be easily compared later\n",
    "        testing_scores[model_name] = dict()\n",
    "        testing_scores[model_name]['Training Score'] = model_training_score\n",
    "        testing_scores[model_name]['Testing Score'] = model_testing_score\n",
    "        testing_scores[model_name]['RMSE'] = model_rmse\n",
    "    \n",
    "    # return testing_scores"
   ]
  },
  {
   "cell_type": "code",
   "execution_count": 15,
   "metadata": {
    "scrolled": true
   },
   "outputs": [
    {
     "name": "stdout",
     "output_type": "stream",
     "text": [
      "RMSEs for each model\n",
      "For K-Nearest Neighbours\n",
      "\tTesting RMSE = 263821.32380546525\n",
      "\tTraining Score = 0.376755664209415\n",
      "\tTesting Score = 0.34976990282315645\n",
      "For Vanilla Linear Regression\n",
      "\tTesting RMSE = 251419.8192235889\n",
      "\tTraining Score = 0.4013361571445507\n",
      "\tTesting Score = 0.4094641102628562\n",
      "For Ridge Linear Regression\n",
      "\tTesting RMSE = 251395.20976856566\n",
      "\tTraining Score = 0.401303262994798\n",
      "\tTesting Score = 0.40957971018028033\n",
      "For Elasticnet Linear Regression\n",
      "\tTesting RMSE = 309411.6362690149\n",
      "\tTraining Score = 0.10900893738529349\n",
      "\tTesting Score = 0.10562312336992907\n",
      "For Lasso Linear Regression\n",
      "\tTesting RMSE = 251416.0051469024\n",
      "\tTraining Score = 0.40133597818305683\n",
      "\tTesting Score = 0.40948202716449345\n",
      "For Bayesian Ridge Linear Regression\n",
      "\tTesting RMSE = 251414.41701770766\n",
      "\tTraining Score = 0.4009356351971536\n",
      "\tTesting Score = 0.4094894874363259\n",
      "For Support Vector Regression\n",
      "\tTesting RMSE = 330060.3547257065\n",
      "\tTraining Score = -0.02381723071492714\n",
      "\tTesting Score = -0.017733339289077277\n",
      "For Random Forest Regression\n",
      "\tTesting RMSE = 208070.28595253333\n",
      "\tTraining Score = 0.9384118846396738\n",
      "\tTesting Score = 0.5955476106389511\n",
      "For Decision Tree Regression\n",
      "\tTesting RMSE = 256605.33403960714\n",
      "\tTraining Score = 1.0\n",
      "\tTesting Score = 0.38485338726189716\n"
     ]
    }
   ],
   "source": [
    "X = numeric_data.drop('Total amount Withdrawn', axis=1)\n",
    "y = numeric_data['Total amount Withdrawn']\n",
    "\n",
    "X_train, X_test, y_train, y_test = train_test_split(X, y, test_size=0.3, random_state=101)\n",
    "compute_rmse_model_list(models, X_train, y_train, X_test, y_test)"
   ]
  },
  {
   "cell_type": "markdown",
   "metadata": {},
   "source": [
    "<h3> After observing the testing and training scores, its clear that Random Forest Performed the Best and Decision Tree overfits, other than that everything is not ideal but atleast no overfitting </h3>"
   ]
  },
  {
   "cell_type": "markdown",
   "metadata": {},
   "source": [
    "<a name=\"2017-test-data\"></a>\n",
    "## Using only 2017 data as test data and everything else as training data"
   ]
  },
  {
   "cell_type": "code",
   "execution_count": 16,
   "metadata": {},
   "outputs": [
    {
     "name": "stdout",
     "output_type": "stream",
     "text": [
      "10434\n",
      "1155\n"
     ]
    }
   ],
   "source": [
    "train_data = numeric_data[numeric_data['Year_2017'] == 0]\n",
    "test_data = numeric_data[numeric_data['Year_2017'] == 1]\n",
    "\n",
    "print(len(train_data))\n",
    "print(len(test_data))\n",
    "\n",
    "X_train = train_data.drop('Total amount Withdrawn', axis=1)\n",
    "y_train = train_data['Total amount Withdrawn']\n",
    "\n",
    "X_test = test_data.drop('Total amount Withdrawn', axis=1)\n",
    "y_test = test_data['Total amount Withdrawn']"
   ]
  },
  {
   "cell_type": "code",
   "execution_count": 17,
   "metadata": {
    "scrolled": true
   },
   "outputs": [
    {
     "name": "stdout",
     "output_type": "stream",
     "text": [
      "RMSEs for each model\n",
      "For K-Nearest Neighbours\n",
      "\tTesting RMSE = 349507.030798516\n",
      "\tTraining Score = 0.38667187416152216\n",
      "\tTesting Score = -0.07024480833352564\n",
      "For Vanilla Linear Regression\n",
      "\tTesting RMSE = 351236.18526535534\n",
      "\tTraining Score = 0.4535210215154458\n",
      "\tTesting Score = -0.080860883614569\n",
      "For Ridge Linear Regression\n",
      "\tTesting RMSE = 350822.0331627114\n",
      "\tTraining Score = 0.453491696908386\n",
      "\tTesting Score = -0.0783134416727651\n",
      "For Elasticnet Linear Regression\n",
      "\tTesting RMSE = 341559.4825601102\n",
      "\tTraining Score = 0.11927880563347205\n",
      "\tTesting Score = -0.02212495241294432\n",
      "For Lasso Linear Regression\n",
      "\tTesting RMSE = 351203.8417642888\n",
      "\tTraining Score = 0.4535207159268131\n",
      "\tTesting Score = -0.08066183114206793\n",
      "For Bayesian Ridge Linear Regression\n",
      "\tTesting RMSE = 350009.66670241096\n",
      "\tTraining Score = 0.45328800801809777\n",
      "\tTesting Score = -0.0733253202260633\n",
      "For Support Vector Regression\n",
      "\tTesting RMSE = 339521.12487241626\n",
      "\tTraining Score = -0.025157973486803265\n",
      "\tTesting Score = -0.009961686343598508\n",
      "For Random Forest Regression\n",
      "\tTesting RMSE = 402523.76006694784\n",
      "\tTraining Score = 0.9434341101183275\n",
      "\tTesting Score = -0.4195619120975289\n",
      "For Decision Tree Regression\n",
      "\tTesting RMSE = 416162.04585104395\n",
      "\tTraining Score = 1.0\n",
      "\tTesting Score = -0.5173865714097607\n"
     ]
    }
   ],
   "source": [
    "compute_rmse_model_list(models, X_train, y_train, X_test, y_test)"
   ]
  },
  {
   "cell_type": "markdown",
   "metadata": {},
   "source": [
    "<h3> Random Forest and Decision Tree overfit here but everything else performs quite poorly for both training and testing</h3>"
   ]
  },
  {
   "cell_type": "markdown",
   "metadata": {},
   "source": [
    "<a name=\"outlier-analysis\"></a>\n",
    "## Outlier Analysis\n",
    "\n",
    "<h3> Finding out the total amount withdrawn per month per year </h3>"
   ]
  },
  {
   "cell_type": "code",
   "execution_count": 18,
   "metadata": {},
   "outputs": [],
   "source": [
    "# Takes like 15-20 seconds to compute\n",
    "total_amt_per_mon_per_yr = {}\n",
    "for year in new_data['Year'].unique():\n",
    "    for month in new_data['Month'].unique():\n",
    "        total_amt_per_mon_per_yr[(year, month)] = sum(new_data[new_data.apply(lambda x: x['Year'] == year\n",
    "                            and x['Month'] == month, axis=1)]['Total amount Withdrawn'])"
   ]
  },
  {
   "cell_type": "markdown",
   "metadata": {},
   "source": [
    "<p> total_amt_per_mon_per_yr is basically a dictionary whose key is a tuple (year, month) and its value contains the total amount withdrawn in the month of the year specified in the key, so (2011, 1): 65360200, means that 65360200 was withdrawn in total in the month of January 2011 </p>"
   ]
  },
  {
   "cell_type": "code",
   "execution_count": 19,
   "metadata": {},
   "outputs": [],
   "source": [
    "from pprint import pprint\n",
    "\n",
    "# Uncomment this if you want to see what the dictionary is like but its a big list and takes up space so its commented\n",
    "# pprint(total_amt_per_mon_per_yr)"
   ]
  },
  {
   "cell_type": "code",
   "execution_count": 20,
   "metadata": {},
   "outputs": [
    {
     "name": "stdout",
     "output_type": "stream",
     "text": [
      "Total Amount Withdrawn: 6053002800\n",
      "Average Amount Withdrawn: 72059557.14285715\n"
     ]
    }
   ],
   "source": [
    "total_amount_withdrawn = sum(total_amt_per_mon_per_yr.values())\n",
    "avg_amount_withdrawn = sum(total_amt_per_mon_per_yr.values()) / len(total_amt_per_mon_per_yr.values())\n",
    "print(\"Total Amount Withdrawn:\", total_amount_withdrawn)\n",
    "print(\"Average Amount Withdrawn:\", avg_amount_withdrawn)"
   ]
  },
  {
   "cell_type": "markdown",
   "metadata": {},
   "source": [
    "<a name=\"outlier-months\"></a>\n",
    "<h3> Figuring out Outlier Months </h3>\n",
    "<p> So the logic is that you take the total amount withdrawn in each month (of each year ofc) and then check its difference from the average amount withdrawn per month per year, and there's a tolerance percent variable (currently 0.7), so if the difference (positive or negative) is greater than 70% of the avg_amount_withdrawn, then that month of that year is an outlier </p>"
   ]
  },
  {
   "cell_type": "code",
   "execution_count": 21,
   "metadata": {
    "scrolled": true
   },
   "outputs": [
    {
     "name": "stdout",
     "output_type": "stream",
     "text": [
      "(2016, 11)\n",
      "(2016, 12)\n",
      "(2017, 10)\n",
      "(2017, 11)\n",
      "(2017, 12)\n"
     ]
    }
   ],
   "source": [
    "tolerance_percent = 0.7\n",
    "\n",
    "for key in total_amt_per_mon_per_yr:\n",
    "    amount = total_amt_per_mon_per_yr[key]\n",
    "    if abs(amount - avg_amount_withdrawn) > avg_amount_withdrawn * tolerance_percent:\n",
    "        print(key)"
   ]
  },
  {
   "cell_type": "markdown",
   "metadata": {},
   "source": [
    "<h3> Removing outlier months from 2017 in test set </h3>"
   ]
  },
  {
   "cell_type": "code",
   "execution_count": 22,
   "metadata": {},
   "outputs": [
    {
     "name": "stdout",
     "output_type": "stream",
     "text": [
      "10434\n",
      "1053\n"
     ]
    }
   ],
   "source": [
    "train_data = numeric_data[numeric_data['Year_2017'] == 0]\n",
    "test_data = numeric_data[numeric_data.apply(lambda x: x['Year_2017'] == 1\n",
    "                            and x['Month_10'] != 1 and x['Month_11'] != 1 and x['Month_12'] != 1, axis=1)]\n",
    "\n",
    "print(len(train_data))\n",
    "print(len(test_data))\n",
    "\n",
    "X_train = train_data.drop('Total amount Withdrawn', axis=1)\n",
    "y_train = train_data['Total amount Withdrawn']\n",
    "\n",
    "X_test = test_data.drop('Total amount Withdrawn', axis=1)\n",
    "y_test = test_data['Total amount Withdrawn']"
   ]
  },
  {
   "cell_type": "markdown",
   "metadata": {},
   "source": [
    "<a name=\"outlier-months-compute-rmse\"></a>\n",
    "<h3> Running Compute RMSE Model List after removing Outlier Months from test data </h3>"
   ]
  },
  {
   "cell_type": "code",
   "execution_count": 23,
   "metadata": {
    "scrolled": true
   },
   "outputs": [
    {
     "name": "stdout",
     "output_type": "stream",
     "text": [
      "RMSEs for each model\n",
      "For K-Nearest Neighbours\n",
      "\tTesting RMSE = 351022.25503262907\n",
      "\tTraining Score = 0.38667187416152216\n",
      "\tTesting Score = -0.06821091445126548\n",
      "For Vanilla Linear Regression\n",
      "\tTesting RMSE = 351707.41076749505\n",
      "\tTraining Score = 0.4535210215154458\n",
      "\tTesting Score = -0.0723850379299813\n",
      "For Ridge Linear Regression\n",
      "\tTesting RMSE = 351324.7551906196\n",
      "\tTraining Score = 0.453491696908386\n",
      "\tTesting Score = -0.07005281022397458\n",
      "For Elasticnet Linear Regression\n",
      "\tTesting RMSE = 343412.7436405998\n",
      "\tTraining Score = 0.11927880563347205\n",
      "\tTesting Score = -0.022399249112364794\n",
      "For Lasso Linear Regression\n",
      "\tTesting RMSE = 351678.3929187876\n",
      "\tTraining Score = 0.4535207159268131\n",
      "\tTesting Score = -0.0722080895796422\n",
      "For Bayesian Ridge Linear Regression\n",
      "\tTesting RMSE = 350563.3036768458\n",
      "\tTraining Score = 0.45328800801809777\n",
      "\tTesting Score = -0.06541943133494232\n",
      "For Support Vector Regression\n",
      "\tTesting RMSE = 341482.3478579618\n",
      "\tTraining Score = -0.025157973486803265\n",
      "\tTesting Score = -0.010937309365951718\n",
      "For Random Forest Regression\n",
      "\tTesting RMSE = 402969.7649747407\n",
      "\tTraining Score = 0.9430034498544608\n",
      "\tTesting Score = -0.40777299948047396\n",
      "For Decision Tree Regression\n",
      "\tTesting RMSE = 417891.35987834044\n",
      "\tTraining Score = 1.0\n",
      "\tTesting Score = -0.5139603148628074\n"
     ]
    }
   ],
   "source": [
    "compute_rmse_model_list(models, X_train, y_train, X_test, y_test)"
   ]
  },
  {
   "cell_type": "markdown",
   "metadata": {},
   "source": [
    "<h3> A slight improvement but pretty insignificant</h3>"
   ]
  },
  {
   "cell_type": "markdown",
   "metadata": {},
   "source": [
    "<a name=\"outlier-days\"></a>\n",
    "<h3> Figuring out Outlier Days with 75% difference from the average amount withdrawn per day as the tolerance</h3>"
   ]
  },
  {
   "cell_type": "code",
   "execution_count": 24,
   "metadata": {},
   "outputs": [],
   "source": [
    "avg_amount_withdrawn_per_day = sum(new_data['Total amount Withdrawn']) / len(new_data['Total amount Withdrawn'])\n",
    "tolerance_percent = 0.75\n",
    "\n",
    "outlier_day_data = new_data[new_data.apply(lambda x: abs(avg_amount_withdrawn_per_day - x['Total amount Withdrawn']) > \n",
    "                            avg_amount_withdrawn_per_day * tolerance_percent, axis=1)]"
   ]
  },
  {
   "cell_type": "code",
   "execution_count": 25,
   "metadata": {},
   "outputs": [
    {
     "data": {
      "text/html": [
       "<div>\n",
       "<style scoped>\n",
       "    .dataframe tbody tr th:only-of-type {\n",
       "        vertical-align: middle;\n",
       "    }\n",
       "\n",
       "    .dataframe tbody tr th {\n",
       "        vertical-align: top;\n",
       "    }\n",
       "\n",
       "    .dataframe thead th {\n",
       "        text-align: right;\n",
       "    }\n",
       "</style>\n",
       "<table border=\"1\" class=\"dataframe\">\n",
       "  <thead>\n",
       "    <tr style=\"text-align: right;\">\n",
       "      <th></th>\n",
       "      <th>ATM Name</th>\n",
       "      <th>Total amount Withdrawn</th>\n",
       "      <th>Weekday</th>\n",
       "      <th>Festival Religion</th>\n",
       "      <th>Working Day</th>\n",
       "      <th>Holiday Sequence</th>\n",
       "      <th>Month</th>\n",
       "      <th>Day</th>\n",
       "      <th>Year</th>\n",
       "    </tr>\n",
       "  </thead>\n",
       "  <tbody>\n",
       "    <tr>\n",
       "      <th>0</th>\n",
       "      <td>Big Street ATM</td>\n",
       "      <td>123800</td>\n",
       "      <td>SATURDAY</td>\n",
       "      <td>H</td>\n",
       "      <td>H</td>\n",
       "      <td>WHH</td>\n",
       "      <td>1</td>\n",
       "      <td>1</td>\n",
       "      <td>2011</td>\n",
       "    </tr>\n",
       "    <tr>\n",
       "      <th>3</th>\n",
       "      <td>KK Nagar ATM</td>\n",
       "      <td>945300</td>\n",
       "      <td>SATURDAY</td>\n",
       "      <td>C</td>\n",
       "      <td>H</td>\n",
       "      <td>WHH</td>\n",
       "      <td>1</td>\n",
       "      <td>1</td>\n",
       "      <td>2011</td>\n",
       "    </tr>\n",
       "    <tr>\n",
       "      <th>5</th>\n",
       "      <td>Big Street ATM</td>\n",
       "      <td>52800</td>\n",
       "      <td>SUNDAY</td>\n",
       "      <td>NH</td>\n",
       "      <td>H</td>\n",
       "      <td>HHW</td>\n",
       "      <td>2</td>\n",
       "      <td>1</td>\n",
       "      <td>2011</td>\n",
       "    </tr>\n",
       "    <tr>\n",
       "      <th>10</th>\n",
       "      <td>Big Street ATM</td>\n",
       "      <td>88100</td>\n",
       "      <td>MONDAY</td>\n",
       "      <td>NH</td>\n",
       "      <td>W</td>\n",
       "      <td>WWW</td>\n",
       "      <td>3</td>\n",
       "      <td>1</td>\n",
       "      <td>2011</td>\n",
       "    </tr>\n",
       "    <tr>\n",
       "      <th>13</th>\n",
       "      <td>KK Nagar ATM</td>\n",
       "      <td>1333100</td>\n",
       "      <td>MONDAY</td>\n",
       "      <td>NH</td>\n",
       "      <td>W</td>\n",
       "      <td>WWW</td>\n",
       "      <td>3</td>\n",
       "      <td>1</td>\n",
       "      <td>2011</td>\n",
       "    </tr>\n",
       "    <tr>\n",
       "      <th>...</th>\n",
       "      <td>...</td>\n",
       "      <td>...</td>\n",
       "      <td>...</td>\n",
       "      <td>...</td>\n",
       "      <td>...</td>\n",
       "      <td>...</td>\n",
       "      <td>...</td>\n",
       "      <td>...</td>\n",
       "      <td>...</td>\n",
       "    </tr>\n",
       "    <tr>\n",
       "      <th>11558</th>\n",
       "      <td>Christ College ATM</td>\n",
       "      <td>1253100</td>\n",
       "      <td>SATURDAY</td>\n",
       "      <td>NH</td>\n",
       "      <td>H</td>\n",
       "      <td>WHH</td>\n",
       "      <td>9</td>\n",
       "      <td>23</td>\n",
       "      <td>2017</td>\n",
       "    </tr>\n",
       "    <tr>\n",
       "      <th>11567</th>\n",
       "      <td>KK Nagar ATM</td>\n",
       "      <td>1175200</td>\n",
       "      <td>MONDAY</td>\n",
       "      <td>NH</td>\n",
       "      <td>W</td>\n",
       "      <td>HWW</td>\n",
       "      <td>9</td>\n",
       "      <td>25</td>\n",
       "      <td>2017</td>\n",
       "    </tr>\n",
       "    <tr>\n",
       "      <th>11577</th>\n",
       "      <td>KK Nagar ATM</td>\n",
       "      <td>997800</td>\n",
       "      <td>WEDNESDAY</td>\n",
       "      <td>NH</td>\n",
       "      <td>W</td>\n",
       "      <td>WWW</td>\n",
       "      <td>9</td>\n",
       "      <td>27</td>\n",
       "      <td>2017</td>\n",
       "    </tr>\n",
       "    <tr>\n",
       "      <th>11582</th>\n",
       "      <td>KK Nagar ATM</td>\n",
       "      <td>1154900</td>\n",
       "      <td>THURSDAY</td>\n",
       "      <td>NH</td>\n",
       "      <td>W</td>\n",
       "      <td>WWH</td>\n",
       "      <td>9</td>\n",
       "      <td>28</td>\n",
       "      <td>2017</td>\n",
       "    </tr>\n",
       "    <tr>\n",
       "      <th>11583</th>\n",
       "      <td>Christ College ATM</td>\n",
       "      <td>1120300</td>\n",
       "      <td>THURSDAY</td>\n",
       "      <td>NH</td>\n",
       "      <td>W</td>\n",
       "      <td>WWH</td>\n",
       "      <td>9</td>\n",
       "      <td>28</td>\n",
       "      <td>2017</td>\n",
       "    </tr>\n",
       "  </tbody>\n",
       "</table>\n",
       "<p>2204 rows × 9 columns</p>\n",
       "</div>"
      ],
      "text/plain": [
       "                 ATM Name  Total amount Withdrawn    Weekday  \\\n",
       "0          Big Street ATM                  123800   SATURDAY   \n",
       "3            KK Nagar ATM                  945300   SATURDAY   \n",
       "5          Big Street ATM                   52800     SUNDAY   \n",
       "10         Big Street ATM                   88100     MONDAY   \n",
       "13           KK Nagar ATM                 1333100     MONDAY   \n",
       "...                   ...                     ...        ...   \n",
       "11558  Christ College ATM                 1253100   SATURDAY   \n",
       "11567        KK Nagar ATM                 1175200     MONDAY   \n",
       "11577        KK Nagar ATM                  997800  WEDNESDAY   \n",
       "11582        KK Nagar ATM                 1154900   THURSDAY   \n",
       "11583  Christ College ATM                 1120300   THURSDAY   \n",
       "\n",
       "      Festival Religion Working Day Holiday Sequence  Month  Day  Year  \n",
       "0                     H           H              WHH      1    1  2011  \n",
       "3                     C           H              WHH      1    1  2011  \n",
       "5                    NH           H              HHW      2    1  2011  \n",
       "10                   NH           W              WWW      3    1  2011  \n",
       "13                   NH           W              WWW      3    1  2011  \n",
       "...                 ...         ...              ...    ...  ...   ...  \n",
       "11558                NH           H              WHH      9   23  2017  \n",
       "11567                NH           W              HWW      9   25  2017  \n",
       "11577                NH           W              WWW      9   27  2017  \n",
       "11582                NH           W              WWH      9   28  2017  \n",
       "11583                NH           W              WWH      9   28  2017  \n",
       "\n",
       "[2204 rows x 9 columns]"
      ]
     },
     "execution_count": 25,
     "metadata": {},
     "output_type": "execute_result"
    }
   ],
   "source": [
    "outlier_day_data"
   ]
  },
  {
   "cell_type": "code",
   "execution_count": 26,
   "metadata": {},
   "outputs": [],
   "source": [
    "# Kinda useless, prints a really big list that's all\n",
    "# for idx, row in outlier_day_data.iterrows():\n",
    "#     print(\"{}, {}, {}\".format(row['Year'], row['Month'], row['Day']))"
   ]
  },
  {
   "cell_type": "markdown",
   "metadata": {},
   "source": [
    "<a name=\"outlier-day-per-atm\"></a>\n",
    "<h3> Finding out Outlier Day Data Per ATM Per Month </h3>"
   ]
  },
  {
   "cell_type": "code",
   "execution_count": 27,
   "metadata": {
    "scrolled": true
   },
   "outputs": [
    {
     "name": "stdout",
     "output_type": "stream",
     "text": [
      "For ATM: Big Street ATM\n",
      "11    42\n",
      "3     42\n",
      "4     40\n",
      "1     40\n",
      "7     38\n",
      "8     34\n",
      "2     34\n",
      "6     31\n",
      "5     27\n",
      "12    25\n",
      "10    22\n",
      "9     20\n",
      "Name: Month, dtype: int64 \n",
      "\n",
      "For ATM: KK Nagar ATM\n",
      "1     95\n",
      "5     85\n",
      "8     84\n",
      "10    83\n",
      "7     83\n",
      "11    82\n",
      "3     82\n",
      "6     78\n",
      "4     77\n",
      "2     76\n",
      "9     74\n",
      "12    69\n",
      "Name: Month, dtype: int64 \n",
      "\n",
      "For ATM: Christ College ATM\n",
      "5     38\n",
      "1     35\n",
      "4     34\n",
      "3     33\n",
      "10    29\n",
      "8     26\n",
      "7     26\n",
      "6     26\n",
      "2     24\n",
      "11    16\n",
      "9     15\n",
      "12    10\n",
      "Name: Month, dtype: int64 \n",
      "\n",
      "For ATM: Airport ATM\n",
      "1     23\n",
      "7     22\n",
      "5     19\n",
      "3     18\n",
      "6     17\n",
      "2     17\n",
      "11    16\n",
      "10    16\n",
      "4     15\n",
      "9     14\n",
      "8     14\n",
      "12    11\n",
      "Name: Month, dtype: int64 \n",
      "\n",
      "For ATM: Mount Road ATM\n",
      "6     40\n",
      "4     39\n",
      "5     36\n",
      "3     36\n",
      "1     34\n",
      "8     26\n",
      "7     25\n",
      "11    24\n",
      "10    22\n",
      "2     20\n",
      "9     14\n",
      "12    11\n",
      "Name: Month, dtype: int64 \n",
      "\n"
     ]
    }
   ],
   "source": [
    "for atm in outlier_day_data['ATM Name'].unique():\n",
    "    print(\"For ATM:\", atm)\n",
    "    print(outlier_day_data[outlier_day_data['ATM Name'] == atm]['Month'].value_counts(), \"\\n\")"
   ]
  },
  {
   "cell_type": "markdown",
   "metadata": {},
   "source": [
    "<h3> Basically KK Nagar ATM has vastly large number of outlier days as compared to the others and Airport ATM is the best in this regard </h3>"
   ]
  },
  {
   "cell_type": "markdown",
   "metadata": {},
   "source": [
    "<h3> Finding out Outlier Data Per ATM Per Year </h3>"
   ]
  },
  {
   "cell_type": "code",
   "execution_count": 28,
   "metadata": {
    "scrolled": true
   },
   "outputs": [
    {
     "name": "stdout",
     "output_type": "stream",
     "text": [
      "For ATM: Big Street ATM\n",
      "2011    243\n",
      "2012     78\n",
      "2016     30\n",
      "2017     24\n",
      "2014      8\n",
      "2015      7\n",
      "2013      5\n",
      "Name: Year, dtype: int64 \n",
      "\n",
      "For ATM: KK Nagar ATM\n",
      "2013    260\n",
      "2014    258\n",
      "2012    157\n",
      "2016     86\n",
      "2017     85\n",
      "2015     69\n",
      "2011     53\n",
      "Name: Year, dtype: int64 \n",
      "\n",
      "For ATM: Christ College ATM\n",
      "2017    92\n",
      "2014    75\n",
      "2016    69\n",
      "2015    34\n",
      "2013    19\n",
      "2012    12\n",
      "2011    11\n",
      "Name: Year, dtype: int64 \n",
      "\n",
      "For ATM: Airport ATM\n",
      "2016    68\n",
      "2017    54\n",
      "2015    35\n",
      "2014    17\n",
      "2013    14\n",
      "2012    11\n",
      "2011     3\n",
      "Name: Year, dtype: int64 \n",
      "\n",
      "For ATM: Mount Road ATM\n",
      "2016    106\n",
      "2015     54\n",
      "2014     54\n",
      "2017     50\n",
      "2012     30\n",
      "2013     24\n",
      "2011      9\n",
      "Name: Year, dtype: int64 \n",
      "\n"
     ]
    }
   ],
   "source": [
    "for atm in outlier_day_data['ATM Name'].unique():\n",
    "    print(\"For ATM:\", atm)\n",
    "    print(outlier_day_data[outlier_day_data['ATM Name'] == atm]['Year'].value_counts(), \"\\n\")"
   ]
  },
  {
   "cell_type": "markdown",
   "metadata": {},
   "source": [
    "<a name=\"model-training-per-atm\"></a>\n",
    "## Training all models for each ATM separately"
   ]
  },
  {
   "cell_type": "code",
   "execution_count": 14,
   "metadata": {},
   "outputs": [],
   "source": [
    "def model_training_per_atm(atm_name):\n",
    "    models = {'K-Nearest Neighbours': KNeighborsRegressor(n_neighbors=37, n_jobs=-1), 'Vanilla Linear Regression': LinearRegression(), \n",
    "          'Ridge Linear Regression': Ridge(), 'Elasticnet Linear Regression': ElasticNet(), \n",
    "          'Lasso Linear Regression': Lasso(max_iter=1100), 'Bayesian Ridge Linear Regression': BayesianRidge(), \n",
    "          'Support Vector Regression': SVR(), 'Random Forest Regression': RandomForestRegressor(), \n",
    "          'Decision Tree Regression': DecisionTreeRegressor()}\n",
    "    \n",
    "    categorical_features_list = ['Weekday', 'Festival Religion', 'Working Day', 'Holiday Sequence', 'Month', 'Day', 'Year']\n",
    "    \n",
    "    curr_atm_data = new_data[new_data['ATM Name'] == atm_name].drop('ATM Name', axis=1)\n",
    "    numeric_curr_atm_data = convert_categorical_to_numerical(curr_atm_data, categorical_features_list)\n",
    "    \n",
    "    train_data = numeric_curr_atm_data[numeric_curr_atm_data['Year_2017'] == 0]\n",
    "    test_data = numeric_curr_atm_data[numeric_curr_atm_data['Year_2017'] == 1]\n",
    "    \n",
    "    ''' Finding Outlier Months for each bank separately\n",
    "    print(\"\\nOutlier Months for bank {} are as follows,\".format(bank_name))\n",
    "    total_amt_per_mon_per_yr = {}\n",
    "    for year in curr_bank_data['Year'].unique():\n",
    "       for month in curr_bank_data['Month'].unique():\n",
    "           total_amt_per_mon_per_yr[(year, month)] = sum(curr_bank_data[curr_bank_data.apply(lambda x: x['Year'] == year\n",
    "                               and x['Month'] == month, axis=1)]['Total amount Withdrawn'])\n",
    "\n",
    "    total_amount_withdrawn = sum(total_amt_per_mon_per_yr.values())\n",
    "    avg_amount_withdrawn = sum(total_amt_per_mon_per_yr.values()) / len(total_amt_per_mon_per_yr.values())\n",
    "    # print(\"Total Amount Withdrawn:\", total_amount_withdrawn)\n",
    "    # print(\"Average Amount Withdrawn:\", avg_amount_withdrawn)\n",
    "\n",
    "    tolerance_percent = 0.7\n",
    "\n",
    "    for key in total_amt_per_mon_per_yr:\n",
    "        amount = total_amt_per_mon_per_yr[key]\n",
    "        if abs(amount - avg_amount_withdrawn) > avg_amount_withdrawn * tolerance_percent:\n",
    "            print(key)\n",
    "    '''\n",
    "    \n",
    "    # This takes 2016 data as test data and ignores 2017 data completely\n",
    "    # train_data = numeric_curr_bank_data[numeric_curr_bank_data.apply(lambda x: x['Year_2017'] == 0 and \n",
    "    #                                                                 x['Year_2016'] == 0, axis=1)]\n",
    "    # test_data = numeric_curr_bank_data[numeric_curr_bank_data['Year_2016'] == 1]\n",
    "    # Conclusions: For some reason, Airport ATM accuracy increases slightly somehow but everything else gets destroyed\n",
    "    \n",
    "    \n",
    "    print(\"\\nFor ATM:\", atm_name)\n",
    "    print(\"Number of training rows:\",len(train_data))\n",
    "    print(\"Number of testing rows:\", len(test_data))\n",
    "    print()\n",
    "\n",
    "    X_train = train_data.drop('Total amount Withdrawn', axis=1)\n",
    "    y_train = train_data['Total amount Withdrawn']\n",
    "\n",
    "    X_test = test_data.drop('Total amount Withdrawn', axis=1)\n",
    "    y_test = test_data['Total amount Withdrawn']\n",
    "    \n",
    "    testing_dict_curr_atm = compute_rmse_model_list(models, X_train, y_train, X_test, y_test)\n",
    "    return testing_dict_curr_atm"
   ]
  },
  {
   "cell_type": "code",
   "execution_count": 30,
   "metadata": {
    "scrolled": true
   },
   "outputs": [
    {
     "name": "stdout",
     "output_type": "stream",
     "text": [
      "\n",
      "For ATM: Big Street ATM\n",
      "Number of training rows: 2117\n",
      "Number of testing rows: 237\n",
      "\n",
      "RMSEs for each model\n",
      "For K-Nearest Neighbours\n",
      "\tTesting RMSE = 181461.59767223545\n",
      "\tTraining Score = 0.28999562819250424\n",
      "\tTesting Score = -0.36556725432459025\n",
      "For Vanilla Linear Regression\n",
      "\tTesting RMSE = 276512.2844681913\n",
      "\tTraining Score = 0.5444464813526175\n",
      "\tTesting Score = -2.1708266083172028\n",
      "For Ridge Linear Regression\n",
      "\tTesting RMSE = 273587.69620255945\n",
      "\tTraining Score = 0.5442115519020725\n",
      "\tTesting Score = -2.104107536431348\n",
      "For Elasticnet Linear Regression\n",
      "\tTesting RMSE = 160736.02690753856\n",
      "\tTraining Score = 0.13017936078590775\n",
      "\tTesting Score = -0.07144551642773656\n",
      "For Lasso Linear Regression\n",
      "\tTesting RMSE = 276469.1320024553\n",
      "\tTraining Score = 0.5444461398934355\n",
      "\tTesting Score = -2.169837008089656\n",
      "For Bayesian Ridge Linear Regression\n",
      "\tTesting RMSE = 270701.1207086409\n",
      "\tTraining Score = 0.5436357614309526\n",
      "\tTesting Score = -2.038951303826138\n",
      "For Support Vector Regression\n",
      "\tTesting RMSE = 158495.8194715498\n",
      "\tTraining Score = -0.0014462945200466315\n",
      "\tTesting Score = -0.04178777477528839\n",
      "For Random Forest Regression\n",
      "\tTesting RMSE = 273428.64409180294\n",
      "\tTraining Score = 0.9304587320527592\n",
      "\tTesting Score = -2.100499396516782\n",
      "For Decision Tree Regression\n",
      "\tTesting RMSE = 275395.6840344636\n",
      "\tTraining Score = 1.0\n",
      "\tTesting Score = -2.145269713228765\n",
      "\n",
      "For ATM: Mount Road ATM\n",
      "Number of training rows: 2021\n",
      "Number of testing rows: 235\n",
      "\n",
      "RMSEs for each model\n",
      "For K-Nearest Neighbours\n",
      "\tTesting RMSE = 343922.66193841596\n",
      "\tTraining Score = 0.3529602657639054\n",
      "\tTesting Score = -2.4281120216633076\n",
      "For Vanilla Linear Regression\n",
      "\tTesting RMSE = 322167.22468273697\n",
      "\tTraining Score = 0.5181025322944846\n",
      "\tTesting Score = -2.0081267367669327\n",
      "For Ridge Linear Regression\n",
      "\tTesting RMSE = 323206.278030127\n",
      "\tTraining Score = 0.5169168741625048\n",
      "\tTesting Score = -2.0275616405234143\n",
      "For Elasticnet Linear Regression\n",
      "\tTesting RMSE = 325292.86913239764\n",
      "\tTraining Score = 0.15649508138830026\n",
      "\tTesting Score = -2.0667791651930627\n",
      "For"
     ]
    },
    {
     "name": "stderr",
     "output_type": "stream",
     "text": [
      "c:\\users\\jasvin\\appdata\\local\\programs\\python\\python38\\lib\\site-packages\\sklearn\\linear_model\\_coordinate_descent.py:474: ConvergenceWarning: Objective did not converge. You might want to increase the number of iterations. Duality gap: 318209236896.22656, tolerance: 12393046096.022762\n",
      "  model = cd_fast.enet_coordinate_descent(\n"
     ]
    },
    {
     "name": "stdout",
     "output_type": "stream",
     "text": [
      " Lasso Linear Regression\n",
      "\tTesting RMSE = 322203.5496961272\n",
      "\tTraining Score = 0.5181017969667947\n",
      "\tTesting Score = -2.0088051198912362\n",
      "For Bayesian Ridge Linear Regression\n",
      "\tTesting RMSE = 324014.4789707869\n",
      "\tTraining Score = 0.5135989086530637\n",
      "\tTesting Score = -2.0427218501556643\n",
      "For Support Vector Regression\n",
      "\tTesting RMSE = 322190.0963087881\n",
      "\tTraining Score = -0.00016256288294114185\n",
      "\tTesting Score = -2.0085538639651888\n",
      "For Random Forest Regression\n",
      "\tTesting RMSE = 331526.16585152486\n",
      "\tTraining Score = 0.9213510863896807\n",
      "\tTesting Score = -2.185437144767429\n",
      "For Decision Tree Regression\n",
      "\tTesting RMSE = 353282.6087101108\n",
      "\tTraining Score = 1.0\n",
      "\tTesting Score = -2.617245085793729\n",
      "\n",
      "For ATM: Airport ATM\n",
      "Number of training rows: 2058\n",
      "Number of testing rows: 195\n",
      "\n",
      "RMSEs for each model\n",
      "For K-Nearest Neighbours\n",
      "\tTesting RMSE = 280998.75391993637\n",
      "\tTraining Score = 0.21011877894017894\n",
      "\tTesting Score = -0.320081646974691\n",
      "For Vanilla Linear Regression\n",
      "\tTesting RMSE = 270419.38396096433\n",
      "\tTraining Score = 0.32222981007075846\n",
      "\tTesting Score = -0.2225528522966016\n",
      "For Ridge Linear Regression\n",
      "\tTesting RMSE = 270340.7285163081\n",
      "\tTraining Score = 0.3217569895030462\n",
      "\tTesting Score = -0.22184176086544904\n",
      "For Elasticnet Linear Regression\n",
      "\tTesting RMSE = 274810.90552300756\n",
      "\tTraining Score = 0.09953188228525989\n",
      "\tTesting Score = -0.26258298215092557\n",
      "For Lasso Linear Regression\n",
      "\tTesting RMSE = 270427.41003619053\n",
      "\tTraining Score = 0.3222292592137085\n",
      "\tTesting Score = -0.22262542436323265\n",
      "For Bayesian Ridge Linear Regression\n",
      "\tTesting RMSE = 270597.6230639246\n",
      "\tTraining Score = 0.3157519731139333\n",
      "\tTesting Score = -0.2241650040142349\n",
      "For Support Vector Regression\n",
      "\tTesting RMSE = 277099.6585735705\n",
      "\tTraining Score = -0.00025917436172195885\n",
      "\tTesting Score = -0.2837013158547954\n",
      "For Random Forest Regression\n",
      "\tTesting RMSE = 277740.3296010363\n",
      "\tTraining Score = 0.8887338170481643\n",
      "\tTesting Score = -0.2896441668799059\n",
      "For Decision Tree Regression\n",
      "\tTesting RMSE = 285766.51254530804\n",
      "\tTraining Score = 1.0\n",
      "\tTesting Score = -0.36525782568262377\n",
      "\n",
      "For ATM: KK Nagar ATM\n",
      "Number of training rows: 2123\n",
      "Number of testing rows: 248\n",
      "\n",
      "RMSEs for each model\n",
      "For K-Nearest Neighbours\n",
      "\tTesting RMSE = 509357.0695052921\n",
      "\tTraining Score = 0.4036695621588333\n",
      "\tTesting Score = -0.8766772926341135\n",
      "For Vanilla Linear Regression\n",
      "\tTesting RMSE = 457547.2389128469\n",
      "\tTraining Score = 0.5157346139328643\n",
      "\tTesting Score = -0.5143170094807608\n",
      "For Ridge Linear Regression\n",
      "\tTesting RMSE = 452583.4106613807\n",
      "\tTraining Score = 0.5146716060699499\n",
      "\tTesting Score = -0.4816382614965147\n",
      "For Elasticnet Linear Regression\n",
      "\tTesting RMSE = 505898.64455021545\n",
      "\tTraining Score = 0.18357797183729763\n",
      "\tTesting Score = -0.8512793392665452\n",
      "For Lasso Linear Regression\n",
      "\tTesting RMSE = 457459.42343176226\n",
      "\tTraining Score = 0.5157343902470022\n",
      "\tTesting Score = -0.5137357898638595\n",
      "For"
     ]
    },
    {
     "name": "stderr",
     "output_type": "stream",
     "text": [
      "c:\\users\\jasvin\\appdata\\local\\programs\\python\\python38\\lib\\site-packages\\sklearn\\linear_model\\_coordinate_descent.py:474: ConvergenceWarning: Objective did not converge. You might want to increase the number of iterations. Duality gap: 4886918595366.969, tolerance: 40041415972.54263\n",
      "  model = cd_fast.enet_coordinate_descent(\n"
     ]
    },
    {
     "name": "stdout",
     "output_type": "stream",
     "text": [
      " Bayesian Ridge Linear Regression\n",
      "\tTesting RMSE = 449447.70286618423\n",
      "\tTraining Score = 0.5109456907699065\n",
      "\tTesting Score = -0.46117843124706037\n",
      "For Support Vector Regression\n",
      "\tTesting RMSE = 476342.10707451584\n",
      "\tTraining Score = -0.010162086368770362\n",
      "\tTesting Score = -0.641280726160238\n",
      "For Random Forest Regression\n",
      "\tTesting RMSE = 446464.35931254225\n",
      "\tTraining Score = 0.9296492296426693\n",
      "\tTesting Score = -0.4418447935931553\n",
      "For Decision Tree Regression\n",
      "\tTesting RMSE = 486396.66790428065\n",
      "\tTraining Score = 1.0\n",
      "\tTesting Score = -0.7112998210196062\n",
      "\n",
      "For ATM: Christ College ATM\n",
      "Number of training rows: 2115\n",
      "Number of testing rows: 240\n",
      "\n",
      "RMSEs for each model\n",
      "For K-Nearest Neighbours\n",
      "\tTesting RMSE = 454068.21878890437\n",
      "\tTraining Score = 0.2887955781878394\n",
      "\tTesting Score = -0.48406666444966473\n",
      "For Vanilla Linear Regression\n",
      "\tTesting RMSE = 563369.5987146889\n",
      "\tTraining Score = 0.4884805976915243\n",
      "\tTesting Score = -1.2845360365183236\n",
      "For Ridge Linear Regression\n",
      "\tTesting RMSE = 559635.1538683609\n",
      "\tTraining Score = 0.487886260442293\n",
      "\tTesting Score = -1.254349113835958\n",
      "For Elasticnet Linear Regression\n",
      "\tTesting RMSE = 437212.60466702207\n",
      "\tTraining Score = 0.15157031881129213\n",
      "\tTesting Score = -0.37593065437858364\n",
      "For Lasso Linear Regression\n",
      "\tTesting RMSE = 563333.8566610938\n",
      "\tTraining Score = 0.4884802021606778\n",
      "\tTesting Score = -1.2842461684834077\n",
      "For Bayesian Ridge Linear Regression\n",
      "\tTesting RMSE = 554222.9690183143\n",
      "\tTraining Score = 0.48620201491936166\n",
      "\tTesting Score = -1.2109567113667454\n"
     ]
    },
    {
     "name": "stderr",
     "output_type": "stream",
     "text": [
      "c:\\users\\jasvin\\appdata\\local\\programs\\python\\python38\\lib\\site-packages\\sklearn\\linear_model\\_coordinate_descent.py:474: ConvergenceWarning: Objective did not converge. You might want to increase the number of iterations. Duality gap: 303677188912.1094, tolerance: 13354579722.531445\n",
      "  model = cd_fast.enet_coordinate_descent(\n"
     ]
    },
    {
     "name": "stdout",
     "output_type": "stream",
     "text": [
      "For Support Vector Regression\n",
      "\tTesting RMSE = 464427.1776615809\n",
      "\tTraining Score = -0.01517727140145797\n",
      "\tTesting Score = -0.552553057061139\n",
      "For Random Forest Regression\n",
      "\tTesting RMSE = 570794.3502511033\n",
      "\tTraining Score = 0.9151731091368434\n",
      "\tTesting Score = -1.3451494806430775\n",
      "For Decision Tree Regression\n",
      "\tTesting RMSE = 574500.6400852251\n",
      "\tTraining Score = 1.0\n",
      "\tTesting Score = -1.3757034710467742\n"
     ]
    }
   ],
   "source": [
    "for atm_name in new_data['ATM Name'].unique():\n",
    "    model_training_per_atm(atm_name)\n",
    "    \n",
    "# Note: Bayesian Ridge Linear Regression does not converge for the Mount Road and KK Nagar models and increasing n_iter\n",
    "# to even 5000 (default is 350) didn't change that at all"
   ]
  },
  {
   "cell_type": "markdown",
   "metadata": {},
   "source": [
    "<h3> Performance has drastically improved as a result of training on individual ATMs instead of all of them </h3>"
   ]
  },
  {
   "cell_type": "markdown",
   "metadata": {},
   "source": [
    "<h3> Upto this point, removing outlier months from test set has had no effect, be it for the model with all ATMs or for individual ATMs, infact it made the RMSE worse at times, so the outlier month part is ignored for now </h3>"
   ]
  },
  {
   "cell_type": "markdown",
   "metadata": {},
   "source": [
    "<a name=\"train-one-model-but-diff-test\"></a>\n",
    "## Training Model on All ATMs but using Test Data from individual ATMs"
   ]
  },
  {
   "cell_type": "code",
   "execution_count": 31,
   "metadata": {},
   "outputs": [],
   "source": [
    "def all_atm_model_training_with_different_test_atms(data):\n",
    "    models = {'K-Nearest Neighbours': KNeighborsRegressor(n_neighbors=37, n_jobs=-1), 'Vanilla Linear Regression': LinearRegression(), \n",
    "          'Ridge Linear Regression': Ridge(), 'Elasticnet Linear Regression': ElasticNet(), \n",
    "          'Lasso Linear Regression': Lasso(max_iter=1100), 'Bayesian Ridge Linear Regression': BayesianRidge(), \n",
    "          'Support Vector Regression': SVR(), 'Random Forest Regression': RandomForestRegressor(), \n",
    "          'Decision Tree Regression': DecisionTreeRegressor()}\n",
    "    \n",
    "    categorical_features_list = ['ATM Name', 'Weekday', 'Festival Religion', 'Working Day', 'Holiday Sequence', 'Month', 'Day', 'Year']\n",
    "    atm_names = data['ATM Name'].unique()\n",
    "    \n",
    "    numeric_data = convert_categorical_to_numerical(data, categorical_features_list)\n",
    "    \n",
    "    train_data = numeric_data[numeric_data['Year_2017'] == 0]\n",
    "    test_data = numeric_data[numeric_data['Year_2017'] == 1]\n",
    "    \n",
    "    for atm_name in atm_names:\n",
    "        print(\"\\nFor ATM:\", atm_name)\n",
    "        \n",
    "        # Dropping the first ATM Name_atm_names[0] column because the one-hot function doesn't do drop_first\n",
    "        # for ATM Name column\n",
    "        X_train = train_data.drop(['Total amount Withdrawn', 'ATM Name_' + atm_names[0]], axis=1)\n",
    "        y_train = train_data['Total amount Withdrawn']\n",
    "        \n",
    "        curr_atm_test_data = test_data[test_data['ATM Name_' + atm_name] == 1]\n",
    "        X_test = curr_atm_test_data.drop(['Total amount Withdrawn', 'ATM Name_' + atm_names[0]], axis=1)\n",
    "        y_test = curr_atm_test_data['Total amount Withdrawn']\n",
    "\n",
    "        compute_rmse_model_list(models, X_train, y_train, X_test, y_test)"
   ]
  },
  {
   "cell_type": "code",
   "execution_count": 32,
   "metadata": {
    "scrolled": true
   },
   "outputs": [
    {
     "name": "stdout",
     "output_type": "stream",
     "text": [
      "\n",
      "For ATM: Big Street ATM\n",
      "RMSEs for each model\n",
      "For K-Nearest Neighbours\n",
      "\tTesting RMSE = 160761.22195743438\n",
      "\tTraining Score = 0.4327735808352957\n",
      "\tTesting Score = -0.07178143662536951\n",
      "For Vanilla Linear Regression\n",
      "\tTesting RMSE = 220189.09903158937\n",
      "\tTraining Score = 0.4535210215154458\n",
      "\tTesting Score = -1.010644370788854\n",
      "For Ridge Linear Regression\n",
      "\tTesting RMSE = 219278.1361879842\n",
      "\tTraining Score = 0.4534921286886008\n",
      "\tTesting Score = -0.9940419736478675\n",
      "For Elasticnet Linear Regression\n",
      "\tTesting RMSE = 230626.41352311775\n",
      "\tTraining Score = 0.146904990423854\n",
      "\tTesting Score = -1.2057776103883073\n",
      "For Lasso Linear Regression\n",
      "\tTesting RMSE = 220135.20854777785\n",
      "\tTraining Score = 0.4535207159235627\n",
      "\tTesting Score = -1.009660295385542\n",
      "For Bayesian Ridge Linear Regression\n",
      "\tTesting RMSE = 216769.0031492237\n",
      "\tTraining Score = 0.4532224416363815\n",
      "\tTesting Score = -0.9486686321193216\n",
      "For Support Vector Regression\n",
      "\tTesting RMSE = 206796.59945379852\n",
      "\tTraining Score = -0.02521686557734082\n",
      "\tTesting Score = -0.7734968418030763\n",
      "For Random Forest Regression\n",
      "\tTesting RMSE = 274723.96440879564\n",
      "\tTraining Score = 0.9432761253247451\n",
      "\tTesting Score = -2.129945124517478\n",
      "For Decision Tree Regression\n",
      "\tTesting RMSE = 275499.845390386\n",
      "\tTraining Score = 1.0\n",
      "\tTesting Score = -2.1476493984101968\n",
      "\n",
      "For ATM: Mount Road ATM\n",
      "RMSEs for each model\n",
      "For K-Nearest Neighbours\n",
      "\tTesting RMSE = 296066.96709983225\n",
      "\tTraining Score = 0.4327735808352957\n",
      "\tTesting Score = -1.5404656530651817\n",
      "For Vanilla Linear Regression\n",
      "\tTesting RMSE = 236570.5400194382\n",
      "\tTraining Score = 0.4535210215154458\n",
      "\tTesting Score = -0.6220145307364398\n",
      "For Ridge Linear Regression\n",
      "\tTesting RMSE = 236915.40112081115\n",
      "\tTraining Score = 0.4534921286886008\n",
      "\tTesting Score = -0.626746966385769\n",
      "For Elasticnet Linear Regression\n",
      "\tTesting RMSE = 305282.52403376804\n",
      "\tTraining Score = 0.146904990423854\n",
      "\tTesting Score = -1.7010791183983565\n",
      "For Lasso Linear Regression\n",
      "\tTesting RMSE = 236594.61542081521\n",
      "\tTraining Score = 0.4535207159235627\n",
      "\tTesting Score = -0.6223446871280552\n",
      "For Bayesian Ridge Linear Regression\n",
      "\tTesting RMSE = 237782.9024078032\n",
      "\tTraining Score = 0.4532224416363815\n",
      "\tTesting Score = -0.638681933465496\n",
      "For Support Vector Regression\n",
      "\tTesting RMSE = 275806.51085791795\n",
      "\tTraining Score = -0.02521686557734082\n",
      "\tTesting Score = -1.2046641818844228\n",
      "For Random Forest Regression\n",
      "\tTesting RMSE = 331942.49393227545\n",
      "\tTraining Score = 0.9426861416306612\n",
      "\tTesting Score = -2.193442664556447\n",
      "For Decision Tree Regression\n",
      "\tTesting RMSE = 353530.22597912484\n",
      "\tTraining Score = 1.0\n",
      "\tTesting Score = -2.6223175474698976\n",
      "\n",
      "For ATM: Airport ATM\n",
      "RMSEs for each model\n",
      "For K-Nearest Neighbours\n",
      "\tTesting RMSE = 266209.1384627837\n",
      "\tTraining Score = 0.4327735808352957\n",
      "\tTesting Score = -0.1847805742958737\n",
      "For Vanilla Linear Regression\n",
      "\tTesting RMSE = 252359.49924401758\n",
      "\tTraining Score = 0.4535210215154458\n",
      "\tTesting Score = -0.06470996540650753\n",
      "For Ridge Linear Regression\n",
      "\tTesting RMSE = 252100.3859773988\n",
      "\tTraining Score = 0.4534921286886008\n",
      "\tTesting Score = -0.06252467936732997\n",
      "For Elasticnet Linear Regression\n",
      "\tTesting RMSE = 296236.674509219\n",
      "\tTraining Score = 0.146904990423854\n",
      "\tTesting Score = -0.46713356366525716\n",
      "For Lasso Linear Regression\n",
      "\tTesting RMSE = 252329.5499923005\n",
      "\tTraining Score = 0.4535207159235627\n",
      "\tTesting Score = -0.0644572673728403\n",
      "For Bayesian Ridge Linear Regression\n",
      "\tTesting RMSE = 251569.18901773062\n",
      "\tTraining Score = 0.4532224416363815\n",
      "\tTesting Score = -0.058051736993591334\n",
      "For Support Vector Regression\n",
      "\tTesting RMSE = 287718.95480246906\n",
      "\tTraining Score = -0.02521686557734082\n",
      "\tTesting Score = -0.383977255687874\n",
      "For Random Forest Regression\n",
      "\tTesting RMSE = 275754.1798907042\n",
      "\tTraining Score = 0.9439272752299525\n",
      "\tTesting Score = -0.2712653604591557\n",
      "For Decision Tree Regression\n",
      "\tTesting RMSE = 283590.3389732703\n",
      "\tTraining Score = 1.0\n",
      "\tTesting Score = -0.3445435339651399\n",
      "\n",
      "For ATM: KK Nagar ATM\n",
      "RMSEs for each model\n",
      "For K-Nearest Neighbours\n",
      "\tTesting RMSE = 439900.6725003991\n",
      "\tTraining Score = 0.4327735808352957\n",
      "\tTesting Score = -0.39976192001857025\n",
      "For Vanilla Linear Regression\n",
      "\tTesting RMSE = 442596.94348232786\n",
      "\tTraining Score = 0.4535210215154458\n",
      "\tTesting Score = -0.4169735500121525\n",
      "For Ridge Linear Regression\n",
      "\tTesting RMSE = 442082.9970781393\n",
      "\tTraining Score = 0.4534921286886008\n",
      "\tTesting Score = -0.4136846631448141\n",
      "For Elasticnet Linear Regression\n",
      "\tTesting RMSE = 390643.4303126342\n",
      "\tTraining Score = 0.146904990423854\n",
      "\tTesting Score = -0.10383960587255747\n",
      "For Lasso Linear Regression\n",
      "\tTesting RMSE = 442540.1409016468\n",
      "\tTraining Score = 0.4535207159235627\n",
      "\tTesting Score = -0.4166098665718949\n",
      "For Bayesian Ridge Linear Regression\n",
      "\tTesting RMSE = 441077.7848924154\n",
      "\tTraining Score = 0.4532224416363815\n",
      "\tTesting Score = -0.40726307508050114\n",
      "For Support Vector Regression\n",
      "\tTesting RMSE = 371826.3852616734\n",
      "\tTraining Score = -0.02521686557734082\n",
      "\tTesting Score = -5.833060162729886e-05\n",
      "For Random Forest Regression\n",
      "\tTesting RMSE = 448739.06607066403\n",
      "\tTraining Score = 0.9431279790271636\n",
      "\tTesting Score = -0.45657443167061773\n",
      "For Decision Tree Regression\n",
      "\tTesting RMSE = 476477.97544976795\n",
      "\tTraining Score = 1.0\n",
      "\tTesting Score = -0.6422171537633083\n",
      "\n",
      "For ATM: Christ College ATM\n",
      "RMSEs for each model\n",
      "For K-Nearest Neighbours\n",
      "\tTesting RMSE = 486451.6394307868\n",
      "\tTraining Score = 0.4327735808352957\n",
      "\tTesting Score = -0.7032976262850792\n",
      "For Vanilla Linear Regression\n",
      "\tTesting RMSE = 486682.6738847267\n",
      "\tTraining Score = 0.4535210215154458\n",
      "\tTesting Score = -0.7049159326243717\n",
      "For Ridge Linear Regression\n",
      "\tTesting RMSE = 486305.995228053\n",
      "\tTraining Score = 0.4534921286886008\n",
      "\tTesting Score = -0.7022778402769598\n",
      "For Elasticnet Linear Regression\n",
      "\tTesting RMSE = 447038.859598982\n",
      "\tTraining Score = 0.146904990423854\n",
      "\tTesting Score = -0.43847312213602674\n",
      "For Lasso Linear Regression\n",
      "\tTesting RMSE = 486655.7240515841\n",
      "\tTraining Score = 0.4535207159235627\n",
      "\tTesting Score = -0.7047271199535323\n",
      "For Bayesian Ridge Linear Regression\n",
      "\tTesting RMSE = 485343.5132790658\n",
      "\tTraining Score = 0.4532224416363815\n",
      "\tTesting Score = -0.6955463158362263\n",
      "For Support Vector Regression\n",
      "\tTesting RMSE = 477410.79981771\n",
      "\tTraining Score = -0.02521686557734082\n",
      "\tTesting Score = -0.6405734423324327\n",
      "For Random Forest Regression\n",
      "\tTesting RMSE = 569759.4616370433\n",
      "\tTraining Score = 0.943186686880326\n",
      "\tTesting Score = -1.3366533616257108\n",
      "For Decision Tree Regression\n",
      "\tTesting RMSE = 573906.5681072719\n",
      "\tTraining Score = 1.0\n",
      "\tTesting Score = -1.370792739700641\n"
     ]
    }
   ],
   "source": [
    "all_atm_model_training_with_different_test_atms(new_data)"
   ]
  },
  {
   "cell_type": "markdown",
   "metadata": {},
   "source": [
    "<h3> In some ways, the bad ATMs are performing bad but some models are performing quite well on Mount Road ATM which didn't happen with the individual model, so I guess KK and Christ College ATM data were lowering the RMSE values for the overall model </h3>"
   ]
  },
  {
   "cell_type": "markdown",
   "metadata": {},
   "source": [
    "<a name=\"no-kk\"></a>\n",
    "<h3> Doing the same as above but just using data from Big Street, Mount Road and Airport ATMs </h3>"
   ]
  },
  {
   "cell_type": "code",
   "execution_count": 33,
   "metadata": {},
   "outputs": [
    {
     "name": "stdout",
     "output_type": "stream",
     "text": [
      "\n",
      "For ATM: Big Street ATM\n",
      "RMSEs for each model\n",
      "For K-Nearest Neighbours\n",
      "\tTesting RMSE = 158618.10337009552\n",
      "\tTraining Score = 0.3840104394960905\n",
      "\tTesting Score = -0.043395930938965765\n",
      "For Vanilla Linear Regression\n",
      "\tTesting RMSE = 188278.79850039512\n",
      "\tTraining Score = 0.3888530973235256\n",
      "\tTesting Score = -0.4700986198565593\n",
      "For Ridge Linear Regression\n",
      "\tTesting RMSE = 187658.3412392558\n",
      "\tTraining Score = 0.38878449463634546\n",
      "\tTesting Score = -0.4604254071488416\n",
      "For Elasticnet Linear Regression\n",
      "\tTesting RMSE = 167807.48386731514\n",
      "\tTraining Score = 0.13052242796752922\n",
      "\tTesting Score = -0.16779412109203484\n"
     ]
    },
    {
     "name": "stderr",
     "output_type": "stream",
     "text": [
      "c:\\users\\jasvin\\appdata\\local\\programs\\python\\python38\\lib\\site-packages\\sklearn\\linear_model\\_coordinate_descent.py:474: ConvergenceWarning: Objective did not converge. You might want to increase the number of iterations. Duality gap: 42250940223.5625, tolerance: 31405633558.079407\n",
      "  model = cd_fast.enet_coordinate_descent(\n"
     ]
    },
    {
     "name": "stdout",
     "output_type": "stream",
     "text": [
      "For Lasso Linear Regression\n",
      "\tTesting RMSE = 188247.22492758566\n",
      "\tTraining Score = 0.3888525917818654\n",
      "\tTesting Score = -0.46960560232858234\n",
      "For Bayesian Ridge Linear Regression\n",
      "\tTesting RMSE = 185031.07441716632\n",
      "\tTraining Score = 0.3878119473737709\n",
      "\tTesting Score = -0.4198189711009328\n",
      "For Support Vector Regression\n",
      "\tTesting RMSE = 174880.2829468054\n",
      "\tTraining Score = -0.0013433259042736623\n",
      "\tTesting Score = -0.2683097411069155\n",
      "For Random Forest Regression\n",
      "\tTesting RMSE = 274207.70804347517\n",
      "\tTraining Score = 0.9290848436307648\n",
      "\tTesting Score = -2.1181927034642993\n",
      "For Decision Tree Regression\n",
      "\tTesting RMSE = 274915.451751651\n",
      "\tTraining Score = 1.0\n",
      "\tTesting Score = -2.134309896650307\n",
      "\n",
      "For ATM: Mount Road ATM\n",
      "RMSEs for each model\n",
      "For K-Nearest Neighbours\n",
      "\tTesting RMSE = 294469.2194498337\n",
      "\tTraining Score = 0.3840104394960905\n",
      "\tTesting Score = -1.513120011264927\n",
      "For Vanilla Linear Regression\n",
      "\tTesting RMSE = 262493.3873361208\n",
      "\tTraining Score = 0.3888530973235256\n",
      "\tTesting Score = -0.9969636172379583\n",
      "For Ridge Linear Regression\n",
      "\tTesting RMSE = 262913.9947634632\n",
      "\tTraining Score = 0.38878449463634546\n",
      "\tTesting Score = -1.0033684312945792\n",
      "For Elasticnet Linear Regression\n",
      "\tTesting RMSE = 259961.59685498953\n",
      "\tTraining Score = 0.13052242796752922\n",
      "\tTesting Score = -0.9586273293803254\n"
     ]
    },
    {
     "name": "stderr",
     "output_type": "stream",
     "text": [
      "c:\\users\\jasvin\\appdata\\local\\programs\\python\\python38\\lib\\site-packages\\sklearn\\linear_model\\_coordinate_descent.py:474: ConvergenceWarning: Objective did not converge. You might want to increase the number of iterations. Duality gap: 42250940223.5625, tolerance: 31405633558.079407\n",
      "  model = cd_fast.enet_coordinate_descent(\n"
     ]
    },
    {
     "name": "stdout",
     "output_type": "stream",
     "text": [
      "For Lasso Linear Regression\n",
      "\tTesting RMSE = 262515.15381622716\n",
      "\tTraining Score = 0.3888525917818654\n",
      "\tTesting Score = -0.9972948154557034\n",
      "For Bayesian Ridge Linear Regression\n",
      "\tTesting RMSE = 264676.80225273105\n",
      "\tTraining Score = 0.3878119473737709\n",
      "\tTesting Score = -1.0303231942122686\n",
      "For Support Vector Regression\n",
      "\tTesting RMSE = 237358.8875030304\n",
      "\tTraining Score = -0.0013433259042736623\n",
      "\tTesting Score = -0.6328429429423257\n",
      "For Random Forest Regression\n",
      "\tTesting RMSE = 329998.07822277944\n",
      "\tTraining Score = 0.9295525356286236\n",
      "\tTesting Score = -2.1561398552413413\n",
      "For Decision Tree Regression\n",
      "\tTesting RMSE = 355214.27893237455\n",
      "\tTraining Score = 1.0\n",
      "\tTesting Score = -2.6569098018571227\n",
      "\n",
      "For ATM: Airport ATM\n",
      "RMSEs for each model\n",
      "For K-Nearest Neighbours\n",
      "\tTesting RMSE = 265539.25392855983\n",
      "\tTraining Score = 0.3840104394960905\n",
      "\tTesting Score = -0.1788253497447605\n",
      "For Vanilla Linear Regression\n",
      "\tTesting RMSE = 247679.74538280914\n",
      "\tTraining Score = 0.3888530973235256\n",
      "\tTesting Score = -0.02558814034151591\n",
      "For Ridge Linear Regression\n",
      "\tTesting RMSE = 247664.56194176135\n",
      "\tTraining Score = 0.38878449463634546\n",
      "\tTesting Score = -0.025462401519049882\n",
      "For Elasticnet Linear Regression\n",
      "\tTesting RMSE = 262243.28053838445\n",
      "\tTraining Score = 0.13052242796752922\n",
      "\tTesting Score = -0.14974291809005313\n"
     ]
    },
    {
     "name": "stderr",
     "output_type": "stream",
     "text": [
      "c:\\users\\jasvin\\appdata\\local\\programs\\python\\python38\\lib\\site-packages\\sklearn\\linear_model\\_coordinate_descent.py:474: ConvergenceWarning: Objective did not converge. You might want to increase the number of iterations. Duality gap: 42250940223.5625, tolerance: 31405633558.079407\n",
      "  model = cd_fast.enet_coordinate_descent(\n"
     ]
    },
    {
     "name": "stdout",
     "output_type": "stream",
     "text": [
      "For Lasso Linear Regression\n",
      "\tTesting RMSE = 247683.33469720022\n",
      "\tTraining Score = 0.3888525917818654\n",
      "\tTesting Score = -0.025617865702699305\n",
      "For Bayesian Ridge Linear Regression\n",
      "\tTesting RMSE = 247814.57944030146\n",
      "\tTraining Score = 0.3878119473737709\n",
      "\tTesting Score = -0.026705081496683825\n",
      "For Support Vector Regression\n",
      "\tTesting RMSE = 262533.8514480243\n",
      "\tTraining Score = -0.0013433259042736623\n",
      "\tTesting Score = -0.15229220690026346\n",
      "For Random Forest Regression\n",
      "\tTesting RMSE = 278609.9310957977\n",
      "\tTraining Score = 0.9291228524321696\n",
      "\tTesting Score = -0.2977325288493433\n",
      "For Decision Tree Regression\n",
      "\tTesting RMSE = 286457.2980214391\n",
      "\tTraining Score = 1.0\n",
      "\tTesting Score = -0.3718662988052206\n"
     ]
    }
   ],
   "source": [
    "good_data = new_data[new_data.apply(lambda x: x['ATM Name'] != 'KK Nagar ATM' \n",
    "                                    and x['ATM Name'] != 'Christ College ATM', axis=1)]\n",
    "\n",
    "all_atm_model_training_with_different_test_atms(good_data)"
   ]
  },
  {
   "cell_type": "markdown",
   "metadata": {},
   "source": [
    "<h3> Conclusions: </h3>\n",
    "<p> For Big Street ATM: Before, Best Performance = 160761 by KNN with k = 37. Now, it is 158618 also by KNN with k = 37, so an improvement</p>\n",
    "<p> For Mount Road ATM: Before, Best Performance = 236570 by Vanilla LR with k = 37. Now, it is 237358 by SVR, so performance worsened somehow </p>\n",
    "<p> For Airport ATM: Before, Best Performance = 251569 by Bayesian Ridge. Now, it is 247664 by Ridge, so performance increased </p>\n",
    "<p> In summary, we got an improvement of 2k for Big Street, a decrement of 1k for Mount Road and an increment of 4k for Airport. So its definitely helping improve our cause but that's still very marginal improvement </p>\n",
    "\n"
   ]
  },
  {
   "cell_type": "markdown",
   "metadata": {},
   "source": [
    "<a name=\"hyperparameter\"></a>\n",
    "## Hyperparameter Tuning (done for individual ATMs) with Train-Test Split\n",
    "\n",
    "<p> Note that the function below this cell takes the atm_name and the random search or grid search object and does all the tasks of converting to numeric data, train test split using 2017 data or regular train_test_split and then does Cross Validation and then computes the RMSE on the best estimator found after hyperparameter search </p>\n"
   ]
  },
  {
   "cell_type": "markdown",
   "metadata": {},
   "source": [
    "## Also print Feature Importance for important features\n",
    "<p> Note this is not possible for KNN and SVR </p>\n",
    "\n",
    "<h3> 1. For Random Forest and Decision Tree </h3>\n",
    "\n",
    "    Prints important features based on permutation_importance() function result\n",
    "    And only displays those features whose importance is atleast twice more than the standard deviation of the \n",
    "    entire importance array\n",
    "<h3> <a href=\"https://scikit-learn.org/stable/modules/permutation_importance.html\"> Permutation Importance </a> </h3>\n",
    "\n",
    "<h3> 2. For Linear_Models (Elasticnet, Bayesian Ridge, Lasso, Ridge, etc.) </h3>\n",
    "\n",
    "    Prints p-values of all features (can be filtered down later)\n",
    "    I used significance level as 5%, so if p-value < 0.05, only then would a feature be considered as important\n",
    "<h3> <a href=\"https://statisticsbyjim.com/regression/interpret-coefficients-p-values-regression/\"> Reference </a> </h3>"
   ]
  },
  {
   "cell_type": "code",
   "execution_count": 12,
   "metadata": {},
   "outputs": [],
   "source": [
    "categorical_features_list = ['Weekday', 'Festival Religion', 'Working Day', 'Holiday Sequence', 'Month', 'Day', 'Year']"
   ]
  },
  {
   "cell_type": "code",
   "execution_count": 48,
   "metadata": {},
   "outputs": [],
   "source": [
    "# Works for both RandomizedSearchCV() object and GridSearchCV() object\n",
    "def model_training_hyperparam_per_atm(atm_name, new_data, categorical_features_list, \n",
    "                                      param_cv_obj, test_split=False, tree_model='Invalid'):\n",
    "    \n",
    "    curr_atm_data = new_data[new_data['ATM Name'] == atm_name].drop('ATM Name', axis=1)\n",
    "    numeric_curr_atm_data = convert_categorical_to_numerical(curr_atm_data, categorical_features_list)\n",
    "    \n",
    "    if test_split == True:\n",
    "        print(\"Using Train-Test Split\")\n",
    "        X = numeric_curr_atm_data.drop('Total amount Withdrawn', axis=1)\n",
    "        y = numeric_curr_atm_data['Total amount Withdrawn']\n",
    "        X_train, X_test, y_train, y_test = train_test_split(X, y, test_size=0.2)\n",
    "        \n",
    "    else:\n",
    "        print(\"Using 2017 Data as Test Data\")\n",
    "        train_data = numeric_curr_atm_data[numeric_curr_atm_data['Year_2017'] == 0]\n",
    "        test_data = numeric_curr_atm_data[numeric_curr_atm_data['Year_2017'] == 1]\n",
    "\n",
    "        X_train = train_data.drop('Total amount Withdrawn', axis=1)\n",
    "        y_train = train_data['Total amount Withdrawn']\n",
    "\n",
    "        X_test = test_data.drop('Total amount Withdrawn', axis=1)\n",
    "        y_test = test_data['Total amount Withdrawn']\n",
    "    \n",
    "    param_cv_obj.fit(X_train, y_train)\n",
    "    print(\"Best Parameters:\\n\", param_cv_obj.best_params_)\n",
    "    print(\"\\nBest CV RMSE:\", -param_cv_obj.best_score_)\n",
    "    if 'mean_train_score' in param_cv_obj.cv_results_:\n",
    "        # nanmean() is used here instead of mean() because for DecisionTree the mean_train_score actually contains nan\n",
    "        # for some reason, so nanmean() ignores it while computing mean\n",
    "        print(\"Best Training RMSE:\", -np.nanmean(param_cv_obj.cv_results_['mean_train_score']))\n",
    "    \n",
    "    best_model = param_cv_obj.best_estimator_\n",
    "    model_predictions = best_model.predict(X_test)\n",
    "    model_rmse = np.sqrt(mean_squared_error(y_test, model_predictions))\n",
    "    \n",
    "    print(\"Test RMSE:\", model_rmse)\n",
    "    \n",
    "    column_names = X_train.columns\n",
    "    \n",
    "    if tree_model == False:\n",
    "        # p_val_array[1:] because 0-th index is reserved for intercept p-val which is not required for us\n",
    "        p_val_array = coef_pval(best_model, X_train, y_train)\n",
    "        [print(\"{} : {}\".format(x, y)) for x, y in zip(column_names, p_val_array[1:]) if y < 0.05]\n",
    "        \n",
    "    elif tree_model == True:\n",
    "        r = permutation_importance(best_model, X_test, y_test, n_repeats=30, random_state=0)\n",
    "        for i in r.importances_mean.argsort()[::-1]:\n",
    "            if r.importances_mean[i] - 2 * r.importances_std[i] > 0:\n",
    "                print(f\"{column_names[i]:<8}: \"\n",
    "                      f\"{r.importances_mean[i]:.3f}\"\n",
    "                      f\" +/- {r.importances_std[i]:.3f}\")\n",
    "        \n",
    "    print(\"------------------------------------------------------------------------\\n\")    "
   ]
  },
  {
   "cell_type": "markdown",
   "metadata": {},
   "source": [
    "<a name=\"hyperparameter-svr\"></a>\n",
    "<h3> SVR Hyperparameter Tuning </h3>"
   ]
  },
  {
   "cell_type": "code",
   "execution_count": 35,
   "metadata": {},
   "outputs": [],
   "source": [
    "svr_param_grid = {'C': list(np.logspace(-3, 5, num=25)),\n",
    "                         'epsilon': list(np.logspace(-3, 3, num=25))}\n",
    "\n",
    "random_cv_svr = RandomizedSearchCV(SVR(), svr_param_grid, n_iter=50, cv=10, verbose=2, \n",
    "                                   n_jobs=-1, scoring='neg_root_mean_squared_error', return_train_score=True)\n",
    "grid_cv_svr = GridSearchCV(SVR(), svr_param_grid, verbose=2, cv=10, n_jobs=-1, scoring='neg_root_mean_squared_error')"
   ]
  },
  {
   "cell_type": "code",
   "execution_count": 36,
   "metadata": {
    "scrolled": true
   },
   "outputs": [
    {
     "name": "stdout",
     "output_type": "stream",
     "text": [
      "\n",
      "Performing Random Search with SVR on Big Street ATM \n",
      "\n",
      "Using Train-Test Split\n",
      "Fitting 10 folds for each of 50 candidates, totalling 500 fits\n"
     ]
    },
    {
     "name": "stderr",
     "output_type": "stream",
     "text": [
      "[Parallel(n_jobs=-1)]: Using backend LokyBackend with 4 concurrent workers.\n",
      "[Parallel(n_jobs=-1)]: Done  33 tasks      | elapsed:    9.0s\n",
      "[Parallel(n_jobs=-1)]: Done 154 tasks      | elapsed:   33.0s\n",
      "[Parallel(n_jobs=-1)]: Done 357 tasks      | elapsed:  1.2min\n",
      "[Parallel(n_jobs=-1)]: Done 500 out of 500 | elapsed:  1.7min finished\n"
     ]
    },
    {
     "name": "stdout",
     "output_type": "stream",
     "text": [
      "Best Parameters:\n",
      " {'epsilon': 177.82794100389228, 'C': 100000.0}\n",
      "\n",
      "Best CV RMSE: 115436.08251199863\n",
      "Best Training RMSE: 149058.4208142128\n",
      "Test RMSE: 113207.55750350958\n",
      "\n",
      "Performing Random Search with SVR on Mount Road ATM \n",
      "\n",
      "Using Train-Test Split\n",
      "Fitting 10 folds for each of 50 candidates, totalling 500 fits\n"
     ]
    },
    {
     "name": "stderr",
     "output_type": "stream",
     "text": [
      "[Parallel(n_jobs=-1)]: Using backend LokyBackend with 4 concurrent workers.\n",
      "[Parallel(n_jobs=-1)]: Done  33 tasks      | elapsed:    6.1s\n",
      "[Parallel(n_jobs=-1)]: Done 154 tasks      | elapsed:   26.7s\n",
      "[Parallel(n_jobs=-1)]: Done 357 tasks      | elapsed:  1.0min\n",
      "[Parallel(n_jobs=-1)]: Done 500 out of 500 | elapsed:  1.4min finished\n"
     ]
    },
    {
     "name": "stdout",
     "output_type": "stream",
     "text": [
      "Best Parameters:\n",
      " {'epsilon': 3.1622776601683795, 'C': 100000.0}\n",
      "\n",
      "Best CV RMSE: 177915.88727891992\n",
      "Best Training RMSE: 239275.9864220719\n",
      "Test RMSE: 178854.37727720288\n",
      "\n",
      "Performing Random Search with SVR on Airport ATM \n",
      "\n",
      "Using Train-Test Split\n",
      "Fitting 10 folds for each of 50 candidates, totalling 500 fits\n"
     ]
    },
    {
     "name": "stderr",
     "output_type": "stream",
     "text": [
      "[Parallel(n_jobs=-1)]: Using backend LokyBackend with 4 concurrent workers.\n",
      "[Parallel(n_jobs=-1)]: Done  33 tasks      | elapsed:    6.1s\n",
      "[Parallel(n_jobs=-1)]: Done 154 tasks      | elapsed:   26.1s\n",
      "[Parallel(n_jobs=-1)]: Done 357 tasks      | elapsed:   59.8s\n",
      "[Parallel(n_jobs=-1)]: Done 500 out of 500 | elapsed:  1.4min finished\n"
     ]
    },
    {
     "name": "stdout",
     "output_type": "stream",
     "text": [
      "Best Parameters:\n",
      " {'epsilon': 1000.0, 'C': 46415.888336127726}\n",
      "\n",
      "Best CV RMSE: 174459.49102225475\n",
      "Best Training RMSE: 194473.7388945959\n",
      "Test RMSE: 173268.41091633053\n",
      "\n",
      "Performing Random Search with SVR on KK Nagar ATM \n",
      "\n",
      "Using Train-Test Split\n",
      "Fitting 10 folds for each of 50 candidates, totalling 500 fits\n"
     ]
    },
    {
     "name": "stderr",
     "output_type": "stream",
     "text": [
      "[Parallel(n_jobs=-1)]: Using backend LokyBackend with 4 concurrent workers.\n",
      "[Parallel(n_jobs=-1)]: Done  33 tasks      | elapsed:    6.6s\n",
      "[Parallel(n_jobs=-1)]: Done 154 tasks      | elapsed:   29.5s\n",
      "[Parallel(n_jobs=-1)]: Done 357 tasks      | elapsed:  1.1min\n",
      "[Parallel(n_jobs=-1)]: Done 500 out of 500 | elapsed:  1.6min finished\n"
     ]
    },
    {
     "name": "stdout",
     "output_type": "stream",
     "text": [
      "Best Parameters:\n",
      " {'epsilon': 0.1778279410038923, 'C': 100000.0}\n",
      "\n",
      "Best CV RMSE: 312430.66224168206\n",
      "Best Training RMSE: 419045.3798527236\n",
      "Test RMSE: 323852.884543254\n",
      "\n",
      "Performing Random Search with SVR on Christ College ATM \n",
      "\n",
      "Using Train-Test Split\n",
      "Fitting 10 folds for each of 50 candidates, totalling 500 fits\n"
     ]
    },
    {
     "name": "stderr",
     "output_type": "stream",
     "text": [
      "[Parallel(n_jobs=-1)]: Using backend LokyBackend with 4 concurrent workers.\n",
      "[Parallel(n_jobs=-1)]: Done  33 tasks      | elapsed:    6.5s\n",
      "[Parallel(n_jobs=-1)]: Done 154 tasks      | elapsed:   29.2s\n",
      "[Parallel(n_jobs=-1)]: Done 357 tasks      | elapsed:  1.1min\n",
      "[Parallel(n_jobs=-1)]: Done 500 out of 500 | elapsed:  1.6min finished\n"
     ]
    },
    {
     "name": "stdout",
     "output_type": "stream",
     "text": [
      "Best Parameters:\n",
      " {'epsilon': 0.0031622776601683794, 'C': 100000.0}\n",
      "\n",
      "Best CV RMSE: 213569.11955877114\n",
      "Best Training RMSE: 271251.5549474188\n",
      "Test RMSE: 210804.00454386178\n"
     ]
    }
   ],
   "source": [
    "for atm_name in atm_names:\n",
    "    print(\"\\nPerforming Random Search with SVR on\", atm_name, \"\\n\")\n",
    "    # model_training_hyperparam_per_atm(atm_name, grid_cv_svr)\n",
    "    # model_training_hyperparam_per_atm(atm_name, random_cv_svr)\n",
    "    model_training_hyperparam_per_atm(atm_name, new_data, categorical_features_list, random_cv_svr, test_split=True)"
   ]
  },
  {
   "cell_type": "markdown",
   "metadata": {},
   "source": [
    "<h3> For some reason the Training RMSE is higher than both CV and Test RMSEs for all ATMs </h3>\n"
   ]
  },
  {
   "cell_type": "markdown",
   "metadata": {},
   "source": [
    "<a name=\"validation-curve\"></a>\n",
    "<h3> Plotting Validation Curve => Train Error vs Cross Validation Error (Y-Axis) wrt one numeric parameter (X-Axis) </h3>\n",
    "\n",
    "<p> Note that the validation_curve() method returns the train_score and validation_scores. These scores are an array of dimension (n_ticks, n_cv_folds). cv=10, so n_cv_folds=10, n_ticks = number of values that the parameter being tested again takes, here that parameter is alpha and I used 50 values of alpha in the range 10^-3 to 10^3 (log-spaced) </p>\n",
    "\n",
    "<p> Plotting these curves for Lasso and Ridge Regression basically proved that hyperparameter tuning actually works and that weird behaviour displayed before where hyperparameters kept taking the maximum value in the specified parameter range as the best value (no matter how many times the range was updated wasn't really weird </p>"
   ]
  },
  {
   "cell_type": "code",
   "execution_count": 37,
   "metadata": {},
   "outputs": [],
   "source": [
    "def plot_validation_curve_each_atm(model, param_name, param_range):\n",
    "    best_param_per_atm = dict()\n",
    "    \n",
    "    for atm_name in atm_names:\n",
    "        categorical_features_list = ['Weekday', 'Festival Religion', 'Working Day', 'Holiday Sequence', 'Month', 'Day', 'Year']\n",
    "\n",
    "        curr_atm_data = new_data[new_data['ATM Name'] == atm_name].drop('ATM Name', axis=1)\n",
    "        numeric_curr_atm_data = convert_categorical_to_numerical(curr_atm_data, categorical_features_list)\n",
    "\n",
    "        train_data = numeric_curr_atm_data[numeric_curr_atm_data['Year_2017'] == 0]\n",
    "        test_data = numeric_curr_atm_data[numeric_curr_atm_data['Year_2017'] == 1]\n",
    "\n",
    "        X_train = train_data.drop('Total amount Withdrawn', axis=1)\n",
    "        y_train = train_data['Total amount Withdrawn']\n",
    "\n",
    "        X_test = test_data.drop('Total amount Withdrawn', axis=1)\n",
    "        y_test = test_data['Total amount Withdrawn']\n",
    "\n",
    "        train_scores, valid_scores = validation_curve(model, X_train, y_train, param_name, \n",
    "                                                      param_range, cv=10, \n",
    "                                                      scoring='neg_root_mean_squared_error',\n",
    "                                                     verbose=2, n_jobs=-1)\n",
    "\n",
    "        # The scoring used was neg_root_mean_squared_error, so multiply each element by -1 to get its positive equivalent\n",
    "        train_scores = np.array([-1 * x for x in train_scores])\n",
    "        valid_scores = np.array([-1 * x for x in valid_scores])\n",
    "\n",
    "        # Taking the mean of the 10 CV errors and converting train_scores and valid_scores to an array of size n_ticks = 50\n",
    "        train_scores_mean = np.mean(train_scores, axis=1) \n",
    "        valid_scores_mean = np.mean(valid_scores, axis=1)\n",
    "\n",
    "        # print(train_scores_mean)\n",
    "        plt.figure(figsize=(12, 5))\n",
    "\n",
    "        plt.title(\"Validation Curve For {}\\nBest CV RMSE = {} for {} = {}\".\n",
    "                  format(atm_name, min(valid_scores_mean), param_name, param_range[np.argmin(valid_scores_mean)]))\n",
    "\n",
    "        plt.xlabel(param_name)\n",
    "        plt.ylabel(\"RMSE\")\n",
    "        lw = 2\n",
    "\n",
    "        # Note semilogx is just plot function where the X-axis is scaled according to logscale\n",
    "        plt.semilogx(param_range, train_scores_mean, label=\"Training score\",\n",
    "                     color=\"darkorange\", lw=lw)\n",
    "        plt.semilogx(param_range, valid_scores_mean, label=\"Cross-validation score\",\n",
    "                     color=\"navy\", lw=lw)\n",
    "        plt.legend(loc=\"best\")\n",
    "        plt.show()\n",
    "        \n",
    "        best_param_per_atm[atm_name] = param_range[np.argmin(valid_scores_mean)]\n",
    "        \n",
    "    return best_param_per_atm"
   ]
  },
  {
   "cell_type": "markdown",
   "metadata": {},
   "source": [
    "<a name=\"hyperparameter-lasso\"></a>\n",
    "<h3> Hyperparameter Tuning for Lasso </h3>\n",
    "<p> Alpha is the only tunable parameter here </p>"
   ]
  },
  {
   "cell_type": "markdown",
   "metadata": {},
   "source": [
    "<h3> GridSearch with Lasso() </h3>"
   ]
  },
  {
   "cell_type": "code",
   "execution_count": 49,
   "metadata": {
    "scrolled": true
   },
   "outputs": [
    {
     "name": "stdout",
     "output_type": "stream",
     "text": [
      "\n",
      "For Big Street ATM\n",
      "Using Train-Test Split\n",
      "Fitting 10 folds for each of 50 candidates, totalling 500 fits\n"
     ]
    },
    {
     "name": "stderr",
     "output_type": "stream",
     "text": [
      "[Parallel(n_jobs=-1)]: Using backend LokyBackend with 4 concurrent workers.\n",
      "[Parallel(n_jobs=-1)]: Done  33 tasks      | elapsed:   18.4s\n",
      "[Parallel(n_jobs=-1)]: Done 154 tasks      | elapsed:   50.9s\n",
      "[Parallel(n_jobs=-1)]: Done 357 tasks      | elapsed:  1.3min\n",
      "[Parallel(n_jobs=-1)]: Done 493 out of 500 | elapsed:  1.3min remaining:    1.0s\n",
      "[Parallel(n_jobs=-1)]: Done 500 out of 500 | elapsed:  1.3min finished\n"
     ]
    },
    {
     "name": "stdout",
     "output_type": "stream",
     "text": [
      "Best Parameters:\n",
      " {'alpha': 79.06043210907701}\n",
      "\n",
      "Best CV RMSE: 115168.57557097558\n",
      "Best Training RMSE: 111594.7894698708\n",
      "Test RMSE: 110094.77526150743\n",
      "Weekday_MONDAY : 0.029683930625768573\n",
      "Weekday_THURSDAY : 0.00599333044293715\n",
      "Weekday_TUESDAY : 0.002392573696966549\n",
      "Weekday_WEDNESDAY : 0.0014389817055817655\n",
      "Festival Religion_N : 0.02213304229397428\n",
      "Month_7 : 0.04731337340759878\n",
      "Month_9 : 0.04320011351352626\n",
      "Month_10 : 0.011322005102376576\n",
      "Month_12 : 0.037423129043171466\n",
      "Day_6 : 0.00041814471478462956\n",
      "Day_8 : 0.009987041364592164\n",
      "Day_9 : 9.215740790935456e-06\n",
      "Day_10 : 0.02244931303613784\n",
      "Day_11 : 0.0008106010385153795\n",
      "Day_12 : 3.3856745567106827e-06\n",
      "Day_17 : 0.024804045780659312\n",
      "Day_23 : 0.0026162257472921446\n",
      "Day_24 : 0.002459432362825309\n",
      "Day_25 : 0.037919499378254784\n",
      "Day_27 : 0.03507618144967162\n",
      "Day_31 : 0.020998406581065554\n",
      "Year_2012 : 0.0\n",
      "Year_2013 : 0.0\n",
      "Year_2014 : 0.0\n",
      "Year_2015 : 0.0\n",
      "Year_2016 : 0.0\n",
      "Year_2017 : 0.0\n",
      "------------------------------------------------------------------------\n",
      "\n",
      "\n",
      "For Mount Road ATM\n",
      "Using Train-Test Split\n",
      "Fitting 10 folds for each of 50 candidates, totalling 500 fits\n"
     ]
    },
    {
     "name": "stderr",
     "output_type": "stream",
     "text": [
      "[Parallel(n_jobs=-1)]: Using backend LokyBackend with 4 concurrent workers.\n",
      "[Parallel(n_jobs=-1)]: Done  33 tasks      | elapsed:    9.4s\n",
      "[Parallel(n_jobs=-1)]: Done 154 tasks      | elapsed:   41.8s\n",
      "[Parallel(n_jobs=-1)]: Done 357 tasks      | elapsed:  1.3min\n",
      "[Parallel(n_jobs=-1)]: Done 500 out of 500 | elapsed:  1.4min finished\n"
     ]
    },
    {
     "name": "stdout",
     "output_type": "stream",
     "text": [
      "Best Parameters:\n",
      " {'alpha': 59.636233165946365}\n",
      "\n",
      "Best CV RMSE: 178230.89375495748\n",
      "Best Training RMSE: 171430.5524360542\n",
      "Test RMSE: 180578.96756323558\n",
      "Weekday_SATURDAY : 1.3905631535138241e-08\n",
      "Weekday_THURSDAY : 0.013397435630235988\n",
      "Weekday_WEDNESDAY : 0.006933739693454566\n",
      "Working Day_W : 0.04883960812772581\n",
      "Month_2 : 0.007864181875821386\n",
      "Month_3 : 0.005394203619536242\n",
      "Month_4 : 0.0166155401172694\n",
      "Month_5 : 2.2873093907804787e-07\n",
      "Month_6 : 0.003478167634181739\n",
      "Month_7 : 0.0036072624899077255\n",
      "Month_8 : 0.009980633019166518\n",
      "Month_10 : 0.0016042153953250704\n",
      "Month_11 : 0.005107589462370221\n",
      "Day_10 : 0.003146347572537511\n",
      "Day_13 : 8.813234830817862e-08\n",
      "Day_14 : 4.944747966639795e-08\n",
      "Day_15 : 2.722710945590734e-12\n",
      "Day_16 : 4.374278717023117e-12\n",
      "Day_17 : 1.906675928253776e-09\n",
      "Day_18 : 1.0719514165202781e-10\n",
      "Day_19 : 4.7052617357934423e-07\n",
      "Day_20 : 1.88457323080371e-08\n",
      "Day_21 : 6.73456914679349e-08\n",
      "Day_22 : 5.706990435783155e-12\n",
      "Day_23 : 5.760725230175012e-12\n",
      "Day_24 : 8.413492125214361e-12\n",
      "Day_25 : 6.641354133307686e-13\n",
      "Day_26 : 2.4347190930029683e-12\n",
      "Day_27 : 4.5033288209594957e-10\n",
      "Day_28 : 4.6629367034256575e-15\n",
      "Day_29 : 5.915854695004441e-09\n",
      "Day_30 : 0.000289492128906943\n",
      "Year_2012 : 1.5543122344752192e-15\n",
      "Year_2014 : 0.0\n",
      "Year_2015 : 7.890577080615913e-12\n",
      "Year_2016 : 0.0\n",
      "Year_2017 : 0.0\n",
      "------------------------------------------------------------------------\n",
      "\n",
      "\n",
      "For Airport ATM\n",
      "Using Train-Test Split\n",
      "Fitting 10 folds for each of 50 candidates, totalling 500 fits\n"
     ]
    },
    {
     "name": "stderr",
     "output_type": "stream",
     "text": [
      "[Parallel(n_jobs=-1)]: Using backend LokyBackend with 4 concurrent workers.\n",
      "[Parallel(n_jobs=-1)]: Done  33 tasks      | elapsed:    7.7s\n",
      "[Parallel(n_jobs=-1)]: Done 154 tasks      | elapsed:   33.4s\n",
      "[Parallel(n_jobs=-1)]: Done 357 tasks      | elapsed:  1.0min\n",
      "[Parallel(n_jobs=-1)]: Done 493 out of 500 | elapsed:  1.1min remaining:    0.9s\n",
      "[Parallel(n_jobs=-1)]: Done 500 out of 500 | elapsed:  1.1min finished\n"
     ]
    },
    {
     "name": "stdout",
     "output_type": "stream",
     "text": [
      "Best Parameters:\n",
      " {'alpha': 244.205309454865}\n",
      "\n",
      "Best CV RMSE: 177497.1787373141\n",
      "Best Training RMSE: 170390.9042503523\n",
      "Test RMSE: 162220.62598650812\n",
      "Weekday_SATURDAY : 0.00016048376518984497\n",
      "Holiday Sequence_HHW : 0.019171571141196386\n",
      "Month_3 : 0.03903777094218652\n",
      "Month_12 : 0.004248461602344822\n",
      "Day_3 : 0.036349385091613895\n",
      "Day_4 : 0.03323392481804799\n",
      "Day_6 : 0.0011427773913683659\n",
      "Day_8 : 1.1992676409722236e-06\n",
      "Day_11 : 0.009743733014536016\n",
      "Day_25 : 0.016318589031079522\n",
      "Day_31 : 0.025963706130915698\n",
      "Year_2012 : 6.391998041976876e-12\n",
      "Year_2013 : 2.220446049250313e-16\n",
      "Year_2014 : 1.421366538689739e-06\n",
      "Year_2016 : 0.0\n",
      "Year_2017 : 1.311839525897085e-12\n",
      "------------------------------------------------------------------------\n",
      "\n",
      "\n",
      "For KK Nagar ATM\n",
      "Using Train-Test Split\n",
      "Fitting 10 folds for each of 50 candidates, totalling 500 fits\n"
     ]
    },
    {
     "name": "stderr",
     "output_type": "stream",
     "text": [
      "[Parallel(n_jobs=-1)]: Using backend LokyBackend with 4 concurrent workers.\n",
      "[Parallel(n_jobs=-1)]: Done  33 tasks      | elapsed:    8.5s\n",
      "[Parallel(n_jobs=-1)]: Done 154 tasks      | elapsed:   33.8s\n",
      "[Parallel(n_jobs=-1)]: Done 357 tasks      | elapsed:  1.0min\n",
      "[Parallel(n_jobs=-1)]: Done 500 out of 500 | elapsed:  1.1min finished\n"
     ]
    },
    {
     "name": "stdout",
     "output_type": "stream",
     "text": [
      "Best Parameters:\n",
      " {'alpha': 754.3120063354608}\n",
      "\n",
      "Best CV RMSE: 314191.72812336654\n",
      "Best Training RMSE: 302351.31385273125\n",
      "Test RMSE: 351035.2366434492\n",
      "Weekday_SATURDAY : 0.02100223000036472\n",
      "Weekday_SUNDAY : 0.004882702327106747\n",
      "Weekday_WEDNESDAY : 0.014888366392040053\n",
      "Month_5 : 0.03597872004320979\n",
      "Month_7 : 0.02171995814251093\n",
      "Month_9 : 0.03984642470745081\n",
      "Month_11 : 0.0011122221610502248\n",
      "Day_4 : 0.01841213980445544\n",
      "Day_6 : 5.008109038584507e-09\n",
      "Day_9 : 0.029459547600099167\n",
      "Day_10 : 0.00012669955051647364\n",
      "Day_18 : 0.03326446723749821\n",
      "Day_23 : 0.009291600015463253\n",
      "Day_24 : 0.0028309582240859665\n",
      "Day_31 : 0.00023269757615329567\n",
      "Year_2012 : 0.0\n",
      "Year_2013 : 0.0\n",
      "Year_2014 : 0.0\n",
      "Year_2015 : 2.220446049250313e-16\n",
      "Year_2016 : 1.7548185127225224e-12\n",
      "Year_2017 : 0.0\n",
      "------------------------------------------------------------------------\n",
      "\n",
      "\n",
      "For Christ College ATM\n",
      "Using Train-Test Split\n",
      "Fitting 10 folds for each of 50 candidates, totalling 500 fits\n"
     ]
    },
    {
     "name": "stderr",
     "output_type": "stream",
     "text": [
      "[Parallel(n_jobs=-1)]: Using backend LokyBackend with 4 concurrent workers.\n",
      "[Parallel(n_jobs=-1)]: Done  33 tasks      | elapsed:    7.4s\n",
      "[Parallel(n_jobs=-1)]: Done 154 tasks      | elapsed:   29.2s\n",
      "[Parallel(n_jobs=-1)]: Done 357 tasks      | elapsed:   49.9s\n",
      "[Parallel(n_jobs=-1)]: Done 493 out of 500 | elapsed:   54.0s remaining:    0.7s\n",
      "[Parallel(n_jobs=-1)]: Done 500 out of 500 | elapsed:   54.1s finished\n"
     ]
    },
    {
     "name": "stdout",
     "output_type": "stream",
     "text": [
      "Best Parameters:\n",
      " {'alpha': 19.306977288832496}\n",
      "\n",
      "Best CV RMSE: 201877.34820063427\n",
      "Best Training RMSE: 195688.16435452233\n",
      "Test RMSE: 223285.9678860619\n",
      "Weekday_MONDAY : 0.006964633609960469\n",
      "Weekday_SATURDAY : 2.7400304247748863e-13\n",
      "Weekday_THURSDAY : 1.0266048752205492e-05\n",
      "Weekday_TUESDAY : 0.0024892154601121597\n",
      "Weekday_WEDNESDAY : 2.64581019118193e-05\n",
      "Working Day_W : 8.122657504383568e-06\n",
      "Holiday Sequence_HHW : 0.005869121336808503\n",
      "Holiday Sequence_WHH : 0.012515078818277514\n",
      "Holiday Sequence_WHW : 0.007505624547645917\n",
      "Month_12 : 5.415395025210046e-05\n",
      "Day_3 : 0.04938747244520081\n",
      "Day_7 : 0.0017341605381060443\n",
      "Day_8 : 0.018451480971285017\n",
      "Day_9 : 1.8954863636677644e-05\n",
      "Day_10 : 0.0003656808576861792\n",
      "Day_13 : 0.014647062770526187\n",
      "Day_14 : 0.000239079407340137\n",
      "Day_15 : 0.030842550638222166\n",
      "Day_16 : 6.625614463517948e-06\n",
      "Day_17 : 0.0014099466232706526\n",
      "Day_18 : 3.3271964405834353e-07\n",
      "Day_19 : 0.0005290345677086972\n",
      "Day_20 : 8.911279693091245e-05\n",
      "Day_21 : 3.620333565779177e-05\n",
      "Day_22 : 8.504852417878794e-07\n",
      "Day_23 : 2.0088346541768942e-09\n",
      "Day_24 : 1.9837376186160327e-10\n",
      "Day_25 : 4.905425843304556e-09\n",
      "Day_26 : 1.8382384503468074e-09\n",
      "Day_27 : 0.00026950971108608\n",
      "Day_28 : 1.9287850183680177e-07\n",
      "Day_29 : 0.0002395459085287044\n",
      "Year_2012 : 0.0\n",
      "Year_2013 : 0.0\n",
      "Year_2014 : 0.0\n",
      "Year_2015 : 0.0\n",
      "Year_2016 : 0.0\n",
      "Year_2017 : 0.0\n",
      "------------------------------------------------------------------------\n",
      "\n"
     ]
    }
   ],
   "source": [
    "lasso_param_grid = {'alpha':np.logspace(-3, 3, num=50)}\n",
    "grid_cv_lasso = GridSearchCV(Lasso(max_iter=2000), lasso_param_grid, verbose=2, n_jobs=-1, \n",
    "                             scoring='neg_root_mean_squared_error', cv=10, return_train_score=True)\n",
    "# random_cv_lasso = RandomizedSearchCV(Lasso(max_iter=2000), lasso_param_grid, n_iter=25, verbose=2, n_jobs=-1, scoring='neg_root_mean_squared_error', cv=10)\n",
    "\n",
    "for atm_name in atm_names:\n",
    "    print(\"\\nFor\", atm_name)\n",
    "    model_training_hyperparam_per_atm(atm_name, new_data, categorical_features_list, \n",
    "                                      grid_cv_lasso, test_split=True, tree_model=False)\n",
    "    # model_training_hyperparam_per_atm(atm_name, new_data, categorical_features_list, grid_cv_lasso)"
   ]
  },
  {
   "cell_type": "markdown",
   "metadata": {},
   "source": [
    "<h3> Cross Validation Curve for Lasso wrt Alpha </h3>"
   ]
  },
  {
   "cell_type": "code",
   "execution_count": 39,
   "metadata": {
    "scrolled": true
   },
   "outputs": [
    {
     "name": "stderr",
     "output_type": "stream",
     "text": [
      "[Parallel(n_jobs=-1)]: Using backend LokyBackend with 4 concurrent workers.\n",
      "[Parallel(n_jobs=-1)]: Done 250 out of 500 | elapsed:   32.0s remaining:   32.0s\n",
      "[Parallel(n_jobs=-1)]: Done 500 out of 500 | elapsed:   55.9s finished\n"
     ]
    },
    {
     "data": {
      "image/png": "[encoded data removed]",
      "text/plain": [
       "<Figure size 864x360 with 1 Axes>"
      ]
     },
     "metadata": {
      "needs_background": "light"
     },
     "output_type": "display_data"
    },
    {
     "name": "stderr",
     "output_type": "stream",
     "text": [
      "[Parallel(n_jobs=-1)]: Using backend LokyBackend with 4 concurrent workers.\n",
      "[Parallel(n_jobs=-1)]: Done 250 out of 500 | elapsed:   36.2s remaining:   36.2s\n",
      "[Parallel(n_jobs=-1)]: Done 500 out of 500 | elapsed:  1.1min finished\n"
     ]
    },
    {
     "data": {
      "image/png": "[encoded data removed]",
      "text/plain": [
       "<Figure size 864x360 with 1 Axes>"
      ]
     },
     "metadata": {
      "needs_background": "light"
     },
     "output_type": "display_data"
    },
    {
     "name": "stderr",
     "output_type": "stream",
     "text": [
      "[Parallel(n_jobs=-1)]: Using backend LokyBackend with 4 concurrent workers.\n",
      "[Parallel(n_jobs=-1)]: Done 250 out of 500 | elapsed:   29.7s remaining:   29.7s\n",
      "[Parallel(n_jobs=-1)]: Done 500 out of 500 | elapsed:   47.3s finished\n"
     ]
    },
    {
     "data": {
      "image/png": "[encoded data removed]",
      "text/plain": [
       "<Figure size 864x360 with 1 Axes>"
      ]
     },
     "metadata": {
      "needs_background": "light"
     },
     "output_type": "display_data"
    },
    {
     "name": "stderr",
     "output_type": "stream",
     "text": [
      "[Parallel(n_jobs=-1)]: Using backend LokyBackend with 4 concurrent workers.\n",
      "[Parallel(n_jobs=-1)]: Done 250 out of 500 | elapsed:   43.3s remaining:   43.3s\n",
      "[Parallel(n_jobs=-1)]: Done 500 out of 500 | elapsed:  1.3min finished\n"
     ]
    },
    {
     "data": {
      "image/png": "[encoded data removed]",
      "text/plain": [
       "<Figure size 864x360 with 1 Axes>"
      ]
     },
     "metadata": {
      "needs_background": "light"
     },
     "output_type": "display_data"
    },
    {
     "name": "stderr",
     "output_type": "stream",
     "text": [
      "[Parallel(n_jobs=-1)]: Using backend LokyBackend with 4 concurrent workers.\n",
      "[Parallel(n_jobs=-1)]: Done 250 out of 500 | elapsed:   37.3s remaining:   37.3s\n",
      "[Parallel(n_jobs=-1)]: Done 500 out of 500 | elapsed:  1.1min finished\n"
     ]
    },
    {
     "data": {
      "image/png": "[encoded data removed]",
      "text/plain": [
       "<Figure size 864x360 with 1 Axes>"
      ]
     },
     "metadata": {
      "needs_background": "light"
     },
     "output_type": "display_data"
    }
   ],
   "source": [
    "\n",
    "alphas = np.logspace(-3, 3, num=50)\n",
    "best_alpha_values_lasso = plot_validation_curve_each_atm(Lasso(max_iter=5000), \"alpha\", alphas)\n"
   ]
  },
  {
   "cell_type": "markdown",
   "metadata": {},
   "source": [
    "<h3>  We achieve quite good CV and Test RMSEs which outperform even SVR and they are also higher than Training RMSEs unlike SVR </h3>"
   ]
  },
  {
   "cell_type": "markdown",
   "metadata": {},
   "source": [
    "<a name=\"hyperparameter-ridge\"></a>\n",
    "<h3> Hyperparameter Tuning for Ridge </h3>\n",
    "<p> Alpha is again the only tunable parameter here </p>"
   ]
  },
  {
   "cell_type": "code",
   "execution_count": 50,
   "metadata": {
    "scrolled": true
   },
   "outputs": [
    {
     "name": "stdout",
     "output_type": "stream",
     "text": [
      "\n",
      "For Big Street ATM\n",
      "Using Train-Test Split\n",
      "Fitting 5 folds for each of 50 candidates, totalling 250 fits\n"
     ]
    },
    {
     "name": "stderr",
     "output_type": "stream",
     "text": [
      "[Parallel(n_jobs=-1)]: Using backend LokyBackend with 4 concurrent workers.\n",
      "[Parallel(n_jobs=-1)]: Done  12 tasks      | elapsed:    0.0s\n",
      "[Parallel(n_jobs=-1)]: Done 250 out of 250 | elapsed:    1.9s finished\n",
      "[Parallel(n_jobs=-1)]: Using backend LokyBackend with 4 concurrent workers.\n"
     ]
    },
    {
     "name": "stdout",
     "output_type": "stream",
     "text": [
      "Best Parameters:\n",
      " {'alpha': 2.023589647725158}\n",
      "\n",
      "Best CV RMSE: 115474.27493629821\n",
      "Best Training RMSE: 117945.85122695476\n",
      "Test RMSE: 111375.79518693798\n",
      "Weekday_MONDAY : 0.0037898158173899077\n",
      "Weekday_SATURDAY : 0.03713128761779827\n",
      "Weekday_THURSDAY : 0.0007008999280473382\n",
      "Weekday_TUESDAY : 2.725724989516287e-05\n",
      "Weekday_WEDNESDAY : 0.00022082560837732856\n",
      "Festival Religion_N : 0.04799461960365292\n",
      "Month_9 : 0.011274820346668157\n",
      "Month_10 : 0.0009727506474053182\n",
      "Month_12 : 0.007896285188309093\n",
      "Day_8 : 0.026070968739658973\n",
      "Day_9 : 0.00017872807187879758\n",
      "Day_10 : 0.027699153528793152\n",
      "Day_11 : 0.0013570462151435425\n",
      "Day_12 : 0.0005430454817845209\n",
      "Day_17 : 0.0018460377662985472\n",
      "Day_18 : 0.0025073823540227025\n",
      "Day_19 : 0.013940329862032197\n",
      "Day_21 : 0.03316383702424597\n",
      "Day_22 : 0.009455641507960744\n",
      "Day_23 : 0.0005220636059992678\n",
      "Day_24 : 0.0003000575807545758\n",
      "Day_25 : 0.0010950760298542583\n",
      "Day_26 : 0.016463520687352906\n",
      "Day_27 : 0.002241103038902237\n",
      "Day_28 : 0.01822577646227197\n",
      "Day_31 : 0.0039331881994402185\n",
      "Year_2012 : 0.0\n",
      "Year_2013 : 0.0\n",
      "Year_2014 : 0.0\n",
      "Year_2015 : 0.0\n",
      "Year_2016 : 0.0\n",
      "Year_2017 : 0.0\n",
      "------------------------------------------------------------------------\n",
      "\n",
      "\n",
      "For Mount Road ATM\n",
      "Using Train-Test Split\n",
      "Fitting 5 folds for each of 50 candidates, totalling 250 fits\n"
     ]
    },
    {
     "name": "stderr",
     "output_type": "stream",
     "text": [
      "[Parallel(n_jobs=-1)]: Done  12 tasks      | elapsed:    0.0s\n",
      "[Parallel(n_jobs=-1)]: Done 250 out of 250 | elapsed:    1.8s finished\n",
      "[Parallel(n_jobs=-1)]: Using backend LokyBackend with 4 concurrent workers.\n"
     ]
    },
    {
     "name": "stdout",
     "output_type": "stream",
     "text": [
      "Best Parameters:\n",
      " {'alpha': 0.15998587196060574}\n",
      "\n",
      "Best CV RMSE: 178463.11619137603\n",
      "Best Training RMSE: 179843.60970978535\n",
      "Test RMSE: 182915.40342190603\n",
      "Weekday_SATURDAY : 4.187783453346583e-11\n",
      "Weekday_WEDNESDAY : 0.02691360508469498\n",
      "Working Day_W : 0.04094302077571377\n",
      "Holiday Sequence_WHW : 0.01978563074273354\n",
      "Month_2 : 0.0013490122923476289\n",
      "Month_3 : 0.00047354756020423494\n",
      "Month_4 : 0.0002645779896264244\n",
      "Month_5 : 7.88457077405269e-10\n",
      "Month_6 : 0.00017018735709051214\n",
      "Month_7 : 8.373784050785815e-05\n",
      "Month_8 : 0.0001014835691355298\n",
      "Month_9 : 0.008571667945696637\n",
      "Month_10 : 0.0015845696189640268\n",
      "Month_11 : 0.03168002493971844\n",
      "Day_5 : 0.004317227655251887\n",
      "Day_10 : 0.008065421735887535\n",
      "Day_13 : 1.109623504191859e-11\n",
      "Day_14 : 1.907320594796147e-07\n",
      "Day_15 : 1.3367085216486885e-13\n",
      "Day_16 : 2.220446049250313e-16\n",
      "Day_17 : 8.880229884766777e-12\n",
      "Day_18 : 1.2743139876647547e-12\n",
      "Day_19 : 1.5622925175762248e-10\n",
      "Day_20 : 3.2006486350155683e-10\n",
      "Day_21 : 3.1596947280831955e-13\n",
      "Day_22 : 6.94999613415348e-14\n",
      "Day_23 : 2.220446049250313e-16\n",
      "Day_24 : 4.4853010194856324e-14\n",
      "Day_25 : 1.060329601898502e-11\n",
      "Day_26 : 1.199040866595169e-14\n",
      "Day_27 : 1.589173237448449e-12\n",
      "Day_28 : 0.0\n",
      "Day_29 : 1.113997782908882e-12\n",
      "Day_30 : 6.797223723209456e-06\n",
      "Year_2012 : 1.887379141862766e-14\n",
      "Year_2013 : 0.015598271907793837\n",
      "Year_2014 : 0.0\n",
      "Year_2015 : 7.168710070004636e-12\n",
      "Year_2016 : 0.0\n",
      "Year_2017 : 0.0\n",
      "------------------------------------------------------------------------\n",
      "\n",
      "\n",
      "For Airport ATM\n",
      "Using Train-Test Split\n",
      "Fitting 5 folds for each of 50 candidates, totalling 250 fits\n"
     ]
    },
    {
     "name": "stderr",
     "output_type": "stream",
     "text": [
      "[Parallel(n_jobs=-1)]: Done  12 tasks      | elapsed:    0.0s\n",
      "[Parallel(n_jobs=-1)]: Done 216 tasks      | elapsed:    4.8s\n",
      "[Parallel(n_jobs=-1)]: Done 250 out of 250 | elapsed:    5.5s finished\n"
     ]
    },
    {
     "name": "stdout",
     "output_type": "stream",
     "text": [
      "Best Parameters:\n",
      " {'alpha': 4.714866363457395}\n",
      "\n",
      "Best CV RMSE: 171369.0941336552\n",
      "Best Training RMSE: 169182.60377974212\n",
      "Test RMSE: 180786.23298270753\n",
      "Weekday_SATURDAY : 0.000313788170467566\n",
      "Weekday_WEDNESDAY : 0.007131192231025318\n",
      "Holiday Sequence_WHH : 0.0016319614997397647\n",
      "Month_3 : 0.03125755327979074\n",
      "Day_4 : 0.026687756123723316\n",
      "Day_6 : 0.010791962523886589\n",
      "Day_8 : 2.167589034063333e-05\n",
      "Day_15 : 0.03811530041281608\n",
      "Day_16 : 0.011285087175856967\n",
      "Day_17 : 0.021473543752656088\n",
      "Day_19 : 0.011861723974486482\n",
      "Day_22 : 0.014184418084416839\n",
      "Day_23 : 0.012781560439539152\n",
      "Day_24 : 0.01038561180651043\n",
      "Day_25 : 0.0026299796291169297\n",
      "Day_26 : 0.02824110590144646\n",
      "Day_28 : 0.028570958337060803\n",
      "Day_31 : 0.03067119961077225\n",
      "Year_2012 : 5.728750807065808e-14\n",
      "Year_2013 : 0.0\n",
      "Year_2014 : 3.893173339264422e-09\n",
      "Year_2016 : 0.0\n",
      "Year_2017 : 2.859934511434403e-13\n",
      "------------------------------------------------------------------------\n",
      "\n",
      "\n",
      "For KK Nagar ATM\n",
      "Using Train-Test Split\n",
      "Fitting 5 folds for each of 50 candidates, totalling 250 fits\n"
     ]
    },
    {
     "name": "stderr",
     "output_type": "stream",
     "text": [
      "[Parallel(n_jobs=-1)]: Using backend LokyBackend with 4 concurrent workers.\n",
      "[Parallel(n_jobs=-1)]: Done  12 tasks      | elapsed:    0.4s\n",
      "[Parallel(n_jobs=-1)]: Done 120 tasks      | elapsed:    3.8s\n",
      "[Parallel(n_jobs=-1)]: Done 250 out of 250 | elapsed:    7.3s finished\n"
     ]
    },
    {
     "name": "stdout",
     "output_type": "stream",
     "text": [
      "Best Parameters:\n",
      " {'alpha': 3.5564803062231287}\n",
      "\n",
      "Best CV RMSE: 321154.2146088114\n",
      "Best Training RMSE: 322308.411788776\n",
      "Test RMSE: 319257.46497516654\n",
      "Weekday_SATURDAY : 0.02159614441387281\n",
      "Weekday_SUNDAY : 0.0033755310056866605\n",
      "Weekday_THURSDAY : 0.0018824918327033924\n",
      "Weekday_TUESDAY : 0.03435208558358083\n",
      "Weekday_WEDNESDAY : 7.494543649011476e-06\n",
      "Festival Religion_H : 0.0009275393523648923\n",
      "Month_7 : 0.00013519973347775327\n",
      "Month_8 : 0.023863669646824626\n",
      "Month_9 : 0.0002798659737952569\n",
      "Month_11 : 1.1607129779989123e-05\n",
      "Month_12 : 0.0006016015451730805\n",
      "Day_6 : 0.0002266870997607029\n",
      "Day_10 : 0.0065918653599355\n",
      "Day_12 : 0.028998241289937665\n",
      "Day_13 : 0.019403324433648894\n",
      "Day_14 : 0.005352052210286118\n",
      "Day_15 : 0.028908818862719565\n",
      "Day_16 : 0.001336031274919991\n",
      "Day_17 : 0.015547310391055502\n",
      "Day_18 : 0.0017362220084173874\n",
      "Day_19 : 0.008494003097237135\n",
      "Day_20 : 0.003475882260837615\n",
      "Day_21 : 0.028516123898628454\n",
      "Day_22 : 0.0007791266019552268\n",
      "Day_23 : 1.9160359404857275e-05\n",
      "Day_24 : 3.976820619921995e-06\n",
      "Day_25 : 0.019335784865865735\n",
      "Day_27 : 4.275146738708102e-05\n",
      "Day_28 : 0.043227838353989245\n",
      "Year_2012 : 0.0\n",
      "Year_2013 : 0.0\n",
      "Year_2014 : 0.0\n",
      "Year_2015 : 0.0\n",
      "Year_2016 : 2.731148640577885e-14\n",
      "Year_2017 : 0.0\n",
      "------------------------------------------------------------------------\n",
      "\n",
      "\n",
      "For Christ College ATM\n",
      "Using Train-Test Split\n",
      "Fitting 5 folds for each of 50 candidates, totalling 250 fits\n"
     ]
    },
    {
     "name": "stderr",
     "output_type": "stream",
     "text": [
      "[Parallel(n_jobs=-1)]: Using backend LokyBackend with 4 concurrent workers.\n",
      "[Parallel(n_jobs=-1)]: Done  12 tasks      | elapsed:    0.3s\n",
      "[Parallel(n_jobs=-1)]: Done 216 tasks      | elapsed:    5.3s\n",
      "[Parallel(n_jobs=-1)]: Done 250 out of 250 | elapsed:    6.2s finished\n"
     ]
    },
    {
     "name": "stdout",
     "output_type": "stream",
     "text": [
      "Best Parameters:\n",
      " {'alpha': 0.655128556859551}\n",
      "\n",
      "Best CV RMSE: 205212.13960557565\n",
      "Best Training RMSE: 206122.25076828428\n",
      "Test RMSE: 218433.90164038737\n",
      "Weekday_MONDAY : 0.03679780841125013\n",
      "Weekday_SATURDAY : 5.433431482515516e-13\n",
      "Weekday_THURSDAY : 0.03859543291825229\n",
      "Working Day_W : 0.00036511010242268327\n",
      "Month_12 : 0.0001780877442498774\n",
      "Day_8 : 0.03221619710928558\n",
      "Day_9 : 0.00011359471162730728\n",
      "Day_10 : 0.002619710883620563\n",
      "Day_13 : 0.04043826324764899\n",
      "Day_14 : 0.0001493996501071848\n",
      "Day_16 : 1.4664176060108502e-06\n",
      "Day_17 : 9.327683910997919e-05\n",
      "Day_18 : 1.6959231856628065e-06\n",
      "Day_19 : 4.1491749461552985e-05\n",
      "Day_20 : 0.0001721134867065377\n",
      "Day_21 : 0.001129942013045504\n",
      "Day_22 : 6.810257925349283e-05\n",
      "Day_23 : 2.9435695059198963e-07\n",
      "Day_24 : 8.263616457782064e-10\n",
      "Day_25 : 1.2114542897068148e-05\n",
      "Day_26 : 2.7569125293780417e-07\n",
      "Day_27 : 0.00011791821528039925\n",
      "Day_28 : 3.9659290074212095e-07\n",
      "Day_29 : 1.2734481560583433e-05\n",
      "Year_2012 : 0.0\n",
      "Year_2013 : 0.0\n",
      "Year_2014 : 0.0\n",
      "Year_2015 : 0.0\n",
      "Year_2016 : 0.0\n",
      "Year_2017 : 0.0\n",
      "------------------------------------------------------------------------\n",
      "\n"
     ]
    }
   ],
   "source": [
    "ridge_param_grid = {'alpha':np.logspace(-3, 3, num=50)}\n",
    "grid_cv_ridge = GridSearchCV(Ridge(), ridge_param_grid, verbose=5, n_jobs=-1, scoring='neg_root_mean_squared_error'\n",
    "                            ,return_train_score=True)\n",
    "\n",
    "for atm_name in atm_names:\n",
    "    print(\"\\nFor\", atm_name)\n",
    "    model_training_hyperparam_per_atm(atm_name, new_data, categorical_features_list, \n",
    "                                      grid_cv_ridge, test_split=True, tree_model=False)\n",
    "    # model_training_hyperparam_per_atm(atm_name, new_data, categorical_features_list, grid_cv_ridge)\n",
    "    "
   ]
  },
  {
   "cell_type": "markdown",
   "metadata": {},
   "source": [
    "<h3> Relatively worse results than Lasso, also often has CV RMSEs lower than Training RMSEs </h3>"
   ]
  },
  {
   "cell_type": "markdown",
   "metadata": {},
   "source": [
    "<h3> Cross Validation Curve for Ridge wrt Alpha </h3>"
   ]
  },
  {
   "cell_type": "code",
   "execution_count": 41,
   "metadata": {
    "scrolled": true
   },
   "outputs": [
    {
     "name": "stderr",
     "output_type": "stream",
     "text": [
      "[Parallel(n_jobs=-1)]: Using backend LokyBackend with 4 concurrent workers.\n",
      "[Parallel(n_jobs=-1)]: Done 250 out of 500 | elapsed:    1.9s remaining:    1.9s\n",
      "[Parallel(n_jobs=-1)]: Done 500 out of 500 | elapsed:    3.4s finished\n"
     ]
    },
    {
     "data": {
      "image/png": "[encoded data removed]",
      "text/plain": [
       "<Figure size 864x360 with 1 Axes>"
      ]
     },
     "metadata": {
      "needs_background": "light"
     },
     "output_type": "display_data"
    },
    {
     "name": "stderr",
     "output_type": "stream",
     "text": [
      "[Parallel(n_jobs=-1)]: Using backend LokyBackend with 4 concurrent workers.\n",
      "[Parallel(n_jobs=-1)]: Done 250 out of 500 | elapsed:    1.6s remaining:    1.6s\n",
      "[Parallel(n_jobs=-1)]: Done 500 out of 500 | elapsed:    3.0s finished\n"
     ]
    },
    {
     "data": {
      "image/png": "[encoded data removed]",
      "text/plain": [
       "<Figure size 864x360 with 1 Axes>"
      ]
     },
     "metadata": {
      "needs_background": "light"
     },
     "output_type": "display_data"
    },
    {
     "name": "stderr",
     "output_type": "stream",
     "text": [
      "[Parallel(n_jobs=-1)]: Using backend LokyBackend with 4 concurrent workers.\n",
      "[Parallel(n_jobs=-1)]: Done 250 out of 500 | elapsed:    1.8s remaining:    1.8s\n",
      "[Parallel(n_jobs=-1)]: Done 500 out of 500 | elapsed:    3.3s finished\n"
     ]
    },
    {
     "data": {
      "image/png": "[encoded data removed]",
      "text/plain": [
       "<Figure size 864x360 with 1 Axes>"
      ]
     },
     "metadata": {
      "needs_background": "light"
     },
     "output_type": "display_data"
    },
    {
     "name": "stderr",
     "output_type": "stream",
     "text": [
      "[Parallel(n_jobs=-1)]: Using backend LokyBackend with 4 concurrent workers.\n",
      "[Parallel(n_jobs=-1)]: Done 250 out of 500 | elapsed:    1.7s remaining:    1.7s\n",
      "[Parallel(n_jobs=-1)]: Done 500 out of 500 | elapsed:    3.1s finished\n"
     ]
    },
    {
     "data": {
      "image/png": "[encoded data removed]",
      "text/plain": [
       "<Figure size 864x360 with 1 Axes>"
      ]
     },
     "metadata": {
      "needs_background": "light"
     },
     "output_type": "display_data"
    },
    {
     "name": "stderr",
     "output_type": "stream",
     "text": [
      "[Parallel(n_jobs=-1)]: Using backend LokyBackend with 4 concurrent workers.\n",
      "[Parallel(n_jobs=-1)]: Done 250 out of 500 | elapsed:    1.6s remaining:    1.6s\n",
      "[Parallel(n_jobs=-1)]: Done 500 out of 500 | elapsed:    3.1s finished\n"
     ]
    },
    {
     "data": {
      "image/png": "[encoded data removed]",
      "text/plain": [
       "<Figure size 864x360 with 1 Axes>"
      ]
     },
     "metadata": {
      "needs_background": "light"
     },
     "output_type": "display_data"
    }
   ],
   "source": [
    "alphas = np.logspace(-3, 3, num=50)\n",
    "best_alpha_values_ridge = plot_validation_curve_each_atm(Ridge(), \"alpha\", alphas)\n"
   ]
  },
  {
   "cell_type": "markdown",
   "metadata": {},
   "source": [
    "<a name=\"hyperparameter-enet\"></a>\n",
    "<h3> Hyperparameter tuning for Elasticnet </h3>\n",
    "<p> l1_ratio and alpha are the tunable parameters here </p>"
   ]
  },
  {
   "cell_type": "code",
   "execution_count": 51,
   "metadata": {
    "scrolled": true
   },
   "outputs": [
    {
     "name": "stdout",
     "output_type": "stream",
     "text": [
      "\n",
      "For Big Street ATM\n",
      "Using Train-Test Split\n",
      "Fitting 10 folds for each of 350 candidates, totalling 3500 fits\n"
     ]
    },
    {
     "name": "stderr",
     "output_type": "stream",
     "text": [
      "[Parallel(n_jobs=-1)]: Using backend LokyBackend with 4 concurrent workers.\n",
      "[Parallel(n_jobs=-1)]: Done  33 tasks      | elapsed:    5.9s\n",
      "[Parallel(n_jobs=-1)]: Done 154 tasks      | elapsed:   22.5s\n",
      "[Parallel(n_jobs=-1)]: Done 357 tasks      | elapsed:   49.2s\n",
      "[Parallel(n_jobs=-1)]: Done 640 tasks      | elapsed:  1.3min\n",
      "[Parallel(n_jobs=-1)]: Done 1005 tasks      | elapsed:  1.7min\n",
      "[Parallel(n_jobs=-1)]: Done 2124 tasks      | elapsed:  2.4min\n",
      "[Parallel(n_jobs=-1)]: Done 3500 out of 3500 | elapsed:  2.7min finished\n"
     ]
    },
    {
     "name": "stdout",
     "output_type": "stream",
     "text": [
      "Best Parameters:\n",
      " {'alpha': 0.012648552168552958, 'l1_ratio': 0.95}\n",
      "\n",
      "Best CV RMSE: 115670.98014997055\n",
      "Best Training RMSE: 131999.6427281511\n",
      "Test RMSE: 111073.800247383\n",
      "Weekday_MONDAY : 0.00131962747535197\n",
      "Weekday_SATURDAY : 0.0037589115836205167\n",
      "Weekday_SUNDAY : 0.009874898575635616\n",
      "Weekday_THURSDAY : 7.819660704555531e-05\n",
      "Weekday_TUESDAY : 3.3626268418407435e-05\n",
      "Weekday_WEDNESDAY : 2.453961562776108e-05\n",
      "Festival Religion_M : 0.005815046110802857\n",
      "Festival Religion_N : 0.007636465918914315\n",
      "Holiday Sequence_WHW : 0.03792679440181024\n",
      "Month_10 : 0.01232614171212143\n",
      "Month_12 : 0.007968611222168853\n",
      "Day_6 : 0.0018520887859618806\n",
      "Day_8 : 0.009890088965013755\n",
      "Day_9 : 1.5662920711090322e-05\n",
      "Day_11 : 0.03248908630670244\n",
      "Day_12 : 9.591976556455606e-05\n",
      "Day_17 : 0.0013523144368181583\n",
      "Day_18 : 0.013672705383664718\n",
      "Day_19 : 0.028701239347234786\n",
      "Day_21 : 0.041054003397115846\n",
      "Day_22 : 0.008664361968961032\n",
      "Day_23 : 0.0015686470061939684\n",
      "Day_24 : 1.9268819734907794e-05\n",
      "Day_25 : 0.00013393532146777076\n",
      "Day_26 : 0.02821425099572572\n",
      "Day_27 : 0.0017043151834448267\n",
      "Day_28 : 0.021028519527872325\n",
      "Day_31 : 0.024623588303176236\n",
      "Year_2012 : 0.0\n",
      "Year_2013 : 0.0\n",
      "Year_2014 : 0.0\n",
      "Year_2015 : 0.0\n",
      "Year_2016 : 0.0\n",
      "Year_2017 : 0.0\n",
      "------------------------------------------------------------------------\n",
      "\n",
      "\n",
      "For Mount Road ATM\n",
      "Using Train-Test Split\n",
      "Fitting 10 folds for each of 350 candidates, totalling 3500 fits\n"
     ]
    },
    {
     "name": "stderr",
     "output_type": "stream",
     "text": [
      "[Parallel(n_jobs=-1)]: Using backend LokyBackend with 4 concurrent workers.\n",
      "[Parallel(n_jobs=-1)]: Done  33 tasks      | elapsed:    5.0s\n",
      "[Parallel(n_jobs=-1)]: Done 154 tasks      | elapsed:   22.3s\n",
      "[Parallel(n_jobs=-1)]: Done 357 tasks      | elapsed:   48.6s\n",
      "[Parallel(n_jobs=-1)]: Done 640 tasks      | elapsed:  1.3min\n",
      "[Parallel(n_jobs=-1)]: Done 1074 tasks      | elapsed:  1.7min\n",
      "[Parallel(n_jobs=-1)]: Done 2192 tasks      | elapsed:  2.3min\n",
      "[Parallel(n_jobs=-1)]: Done 3493 out of 3500 | elapsed:  2.6min remaining:    0.2s\n",
      "[Parallel(n_jobs=-1)]: Done 3500 out of 3500 | elapsed:  2.6min finished\n"
     ]
    },
    {
     "name": "stdout",
     "output_type": "stream",
     "text": [
      "Best Parameters:\n",
      " {'alpha': 79.06043210907701, 'l1_ratio': 1}\n",
      "\n",
      "Best CV RMSE: 178376.39482133585\n",
      "Best Training RMSE: 205873.92355915444\n",
      "Test RMSE: 177892.5105252424\n",
      "Weekday_MONDAY : 0.046283173943413525\n",
      "Weekday_SATURDAY : 1.0298114028195471e-07\n",
      "Weekday_WEDNESDAY : 0.03829961890003908\n",
      "Month_2 : 0.0066845984260768265\n",
      "Month_4 : 0.003837585495813256\n",
      "Month_5 : 3.38207727059725e-05\n",
      "Month_6 : 0.007930659563039955\n",
      "Month_7 : 0.004534714853751565\n",
      "Month_8 : 0.017299423326476493\n",
      "Month_11 : 0.0009652787311182909\n",
      "Day_10 : 0.00024016102063928457\n",
      "Day_13 : 2.76037702495735e-06\n",
      "Day_14 : 4.110322082695461e-07\n",
      "Day_15 : 1.9116708216415645e-11\n",
      "Day_16 : 8.533174167268953e-13\n",
      "Day_17 : 2.067963864593736e-07\n",
      "Day_18 : 3.915940904875015e-10\n",
      "Day_19 : 1.0979394536647646e-05\n",
      "Day_20 : 6.455192580467894e-07\n",
      "Day_21 : 2.651268499853643e-06\n",
      "Day_22 : 6.192157897544348e-12\n",
      "Day_23 : 1.924396197949818e-10\n",
      "Day_24 : 1.3989360780897186e-09\n",
      "Day_25 : 9.944694623342798e-09\n",
      "Day_26 : 1.3118430786107638e-09\n",
      "Day_27 : 5.933948887815177e-10\n",
      "Day_28 : 4.894973315572315e-12\n",
      "Day_29 : 3.270717030545711e-12\n",
      "Day_30 : 0.0002210322786377894\n",
      "Year_2012 : 1.2878587085651816e-14\n",
      "Year_2014 : 0.0\n",
      "Year_2015 : 3.222277555892106e-08\n",
      "Year_2016 : 0.0\n",
      "Year_2017 : 0.0\n",
      "------------------------------------------------------------------------\n",
      "\n",
      "\n",
      "For Airport ATM\n",
      "Using Train-Test Split\n",
      "Fitting 10 folds for each of 350 candidates, totalling 3500 fits\n"
     ]
    },
    {
     "name": "stderr",
     "output_type": "stream",
     "text": [
      "[Parallel(n_jobs=-1)]: Using backend LokyBackend with 4 concurrent workers.\n",
      "[Parallel(n_jobs=-1)]: Done  33 tasks      | elapsed:    4.1s\n",
      "[Parallel(n_jobs=-1)]: Done 154 tasks      | elapsed:   22.1s\n",
      "[Parallel(n_jobs=-1)]: Done 357 tasks      | elapsed:   46.9s\n",
      "[Parallel(n_jobs=-1)]: Done 640 tasks      | elapsed:  1.2min\n",
      "[Parallel(n_jobs=-1)]: Done 1005 tasks      | elapsed:  1.7min\n",
      "[Parallel(n_jobs=-1)]: Done 2556 tasks      | elapsed:  2.4min\n",
      "[Parallel(n_jobs=-1)]: Done 3493 out of 3500 | elapsed:  2.6min remaining:    0.2s\n",
      "[Parallel(n_jobs=-1)]: Done 3500 out of 3500 | elapsed:  2.6min finished\n"
     ]
    },
    {
     "name": "stdout",
     "output_type": "stream",
     "text": [
      "Best Parameters:\n",
      " {'alpha': 0.0517947467923121, 'l1_ratio': 0.9}\n",
      "\n",
      "Best CV RMSE: 174993.23136477865\n",
      "Best Training RMSE: 182178.307582174\n",
      "Test RMSE: 172538.80934800787\n",
      "Weekday_SATURDAY : 0.002492860418785714\n",
      "Holiday Sequence_WHH : 0.03408496449149978\n",
      "Month_3 : 0.0007792243666535636\n",
      "Month_5 : 0.023883088878609016\n",
      "Month_8 : 0.013101274513432015\n",
      "Day_3 : 0.04967587395264883\n",
      "Day_6 : 0.013524857060715822\n",
      "Day_7 : 0.01040243243702843\n",
      "Day_8 : 0.000307509459548605\n",
      "Day_23 : 0.04330208512089251\n",
      "Day_24 : 0.013389053563512388\n",
      "Day_25 : 0.0019530908430323013\n",
      "Day_26 : 0.009921871142897665\n",
      "Day_27 : 0.049339628073992836\n",
      "Day_28 : 0.04774199934379775\n",
      "Day_31 : 0.04494124526868504\n",
      "Year_2012 : 1.576982988638065e-11\n",
      "Year_2013 : 0.0\n",
      "Year_2014 : 1.4142370549308225e-05\n",
      "Year_2016 : 0.0\n",
      "Year_2017 : 3.644995416607344e-11\n",
      "------------------------------------------------------------------------\n",
      "\n",
      "\n",
      "For KK Nagar ATM\n",
      "Using Train-Test Split\n",
      "Fitting 10 folds for each of 350 candidates, totalling 3500 fits\n"
     ]
    },
    {
     "name": "stderr",
     "output_type": "stream",
     "text": [
      "[Parallel(n_jobs=-1)]: Using backend LokyBackend with 4 concurrent workers.\n",
      "[Parallel(n_jobs=-1)]: Done  58 tasks      | elapsed:    4.5s\n",
      "[Parallel(n_jobs=-1)]: Done 210 tasks      | elapsed:   24.3s\n",
      "[Parallel(n_jobs=-1)]: Done 413 tasks      | elapsed:   51.3s\n",
      "[Parallel(n_jobs=-1)]: Done 696 tasks      | elapsed:  1.4min\n",
      "[Parallel(n_jobs=-1)]: Done 1110 tasks      | elapsed:  1.9min\n",
      "[Parallel(n_jobs=-1)]: Done 2000 tasks      | elapsed:  2.5min\n",
      "[Parallel(n_jobs=-1)]: Done 3500 out of 3500 | elapsed:  3.0min finished\n"
     ]
    },
    {
     "name": "stdout",
     "output_type": "stream",
     "text": [
      "Best Parameters:\n",
      " {'alpha': 0.0517947467923121, 'l1_ratio': 0.95}\n",
      "\n",
      "Best CV RMSE: 315872.73996706074\n",
      "Best Training RMSE: 357034.3470935562\n",
      "Test RMSE: 339040.6820791663\n",
      "Weekday_MONDAY : 0.0061135543097698974\n",
      "Weekday_SATURDAY : 0.0069170470732144995\n",
      "Weekday_SUNDAY : 0.02419360593588804\n",
      "Weekday_THURSDAY : 0.004669384778329677\n",
      "Weekday_TUESDAY : 0.016531561004156092\n",
      "Weekday_WEDNESDAY : 2.3873622205794476e-06\n",
      "Festival Religion_H : 0.003641849146455378\n",
      "Month_7 : 0.004539613668020026\n",
      "Month_9 : 0.01347492302263742\n",
      "Month_11 : 1.080223675398173e-06\n",
      "Month_12 : 0.0018751559962248976\n",
      "Day_6 : 5.299016121451672e-06\n",
      "Day_7 : 0.015912380747199473\n",
      "Day_16 : 0.019356487240278275\n",
      "Day_17 : 0.013309154245610966\n",
      "Day_18 : 0.00226039522436694\n",
      "Day_19 : 0.011860935148740648\n",
      "Day_20 : 0.004905475028059714\n",
      "Day_21 : 0.009900830353208212\n",
      "Day_22 : 0.0021864389270891404\n",
      "Day_23 : 0.0005815124198291777\n",
      "Day_24 : 1.4811023443250804e-06\n",
      "Day_25 : 0.00824378450915364\n",
      "Day_27 : 0.0013607973314446742\n",
      "Year_2012 : 0.0\n",
      "Year_2013 : 0.0\n",
      "Year_2014 : 0.0\n",
      "Year_2015 : 0.0\n",
      "Year_2016 : 8.5131901528257e-13\n",
      "Year_2017 : 0.0\n",
      "------------------------------------------------------------------------\n",
      "\n",
      "\n",
      "For Christ College ATM\n",
      "Using Train-Test Split\n",
      "Fitting 10 folds for each of 350 candidates, totalling 3500 fits\n"
     ]
    },
    {
     "name": "stderr",
     "output_type": "stream",
     "text": [
      "[Parallel(n_jobs=-1)]: Using backend LokyBackend with 4 concurrent workers.\n",
      "[Parallel(n_jobs=-1)]: Done  33 tasks      | elapsed:    3.1s\n",
      "[Parallel(n_jobs=-1)]: Done 154 tasks      | elapsed:   12.8s\n",
      "[Parallel(n_jobs=-1)]: Done 357 tasks      | elapsed:   26.9s\n",
      "[Parallel(n_jobs=-1)]: Done 640 tasks      | elapsed:   42.7s\n",
      "[Parallel(n_jobs=-1)]: Done 1616 tasks      | elapsed:  1.1min\n"
     ]
    },
    {
     "name": "stdout",
     "output_type": "stream",
     "text": [
      "Best Parameters:\n",
      " {'alpha': 184.20699693267164, 'l1_ratio': 1}\n",
      "\n",
      "Best CV RMSE: 207382.88012267955\n",
      "Best Training RMSE: 231350.26977893093\n",
      "Test RMSE: 208290.84496626235\n",
      "Weekday_SATURDAY : 3.82898002193599e-09\n",
      "Weekday_WEDNESDAY : 0.04585446179877306\n",
      "Working Day_W : 0.021293465953729163\n",
      "Month_7 : 0.02323999515108799\n",
      "Month_11 : 0.0017964234703966575\n",
      "Month_12 : 2.583214400164735e-07\n",
      "Day_2 : 0.005905859730857443\n",
      "Day_3 : 0.000794870347784693\n",
      "Day_7 : 0.01116840479202752\n",
      "Day_9 : 4.1949025653131855e-07\n",
      "Day_10 : 3.203324288425513e-05\n",
      "Day_11 : 0.028713765463939778\n",
      "Day_14 : 0.009054487129235955\n",
      "Day_16 : 0.00010290323818962221\n",
      "Day_18 : 3.8755751986752074e-05\n",
      "Day_19 : 0.005102177967492683\n",
      "Day_20 : 0.04190575155271037\n",
      "Day_21 : 0.0038738709969434737\n",
      "Day_22 : 7.709341936745773e-05\n",
      "Day_23 : 2.1765619359515043e-05\n",
      "Day_24 : 2.8243330474353456e-07\n",
      "Day_25 : 0.0004975420244157647\n",
      "Day_26 : 6.707561313046284e-07\n",
      "Day_27 : 0.0023245029205647416\n",
      "Day_28 : 0.000359963012976916\n",
      "Day_29 : 0.007894368401324847\n",
      "Year_2012 : 0.0\n",
      "Year_2013 : 0.0\n",
      "Year_2014 : 0.0\n",
      "Year_2015 : 0.0\n",
      "Year_2016 : 0.0\n",
      "Year_2017 : 0.0\n",
      "------------------------------------------------------------------------\n",
      "\n"
     ]
    },
    {
     "name": "stderr",
     "output_type": "stream",
     "text": [
      "[Parallel(n_jobs=-1)]: Done 3500 out of 3500 | elapsed:  1.4min finished\n"
     ]
    }
   ],
   "source": [
    "elastic_param_grid = {'l1_ratio': [.1, .5, .7, .9, .95, .99, 1], 'alpha': np.logspace(-3, 3, num=50)}\n",
    "                      \n",
    "# random_cv_elastic = RandomizedSearchCV(ElasticNet(max_iter=5000), elastic_param_grid, n_iter=25, n_jobs=-1, \n",
    "#                                       scoring='neg_root_mean_squared_error', verbose=2, cv=10, return_train_score=True)\n",
    "grid_cv_elastic = GridSearchCV(ElasticNet(), elastic_param_grid, n_jobs=-1,\n",
    "                                       scoring='neg_root_mean_squared_error', verbose=2, cv=10, return_train_score=True)\n",
    "\n",
    "for atm_name in atm_names:\n",
    "    print(\"\\nFor\", atm_name)\n",
    "    # model_training_hyperparam_per_atm(atm_name, random_cv_elastic)\n",
    "    # model_training_hyperparam_per_atm(atm_name, grid_cv_elastic)\n",
    "    model_training_hyperparam_per_atm(atm_name, new_data, categorical_features_list, \n",
    "                                      grid_cv_elastic, test_split=True, tree_model=False)"
   ]
  },
  {
   "cell_type": "markdown",
   "metadata": {},
   "source": [
    "<h3> A bit worse than Lasso and Ridge both, also shows the same behaviour of lower CV RMSEs than training </h3>"
   ]
  },
  {
   "cell_type": "markdown",
   "metadata": {},
   "source": [
    "<a name=\"hyperparameter-bayes\"></a>\n",
    "\n",
    "<h3> Hyperparameter Tuning for Bayesian Ridge Regression </h3>\n",
    "\n",
    "<p> There are four tunable parameters alpha_1, alpha_2, lambda_1, lambda_2. <br> Grid Search is kinda illogical here because of 4 parameters to tune here, so just Random Search is used with large number of iterations </p>"
   ]
  },
  {
   "cell_type": "code",
   "execution_count": 52,
   "metadata": {
    "scrolled": true
   },
   "outputs": [
    {
     "name": "stdout",
     "output_type": "stream",
     "text": [
      "\n",
      "For Big Street ATM\n",
      "Using Train-Test Split\n",
      "Fitting 10 folds for each of 200 candidates, totalling 2000 fits\n"
     ]
    },
    {
     "name": "stderr",
     "output_type": "stream",
     "text": [
      "[Parallel(n_jobs=-1)]: Using backend LokyBackend with 4 concurrent workers.\n",
      "[Parallel(n_jobs=-1)]: Done 128 tasks      | elapsed:    1.1s\n",
      "[Parallel(n_jobs=-1)]: Done 1096 tasks      | elapsed:    8.3s\n",
      "[Parallel(n_jobs=-1)]: Done 2000 out of 2000 | elapsed:   15.0s finished\n"
     ]
    },
    {
     "name": "stdout",
     "output_type": "stream",
     "text": [
      "Best Parameters:\n",
      " {'lambda_2': 184.20699693267164, 'lambda_1': 0.0017575106248547913, 'alpha_2': 33.9322177189533, 'alpha_1': 244.205309454865}\n",
      "\n",
      "Best CV RMSE: 114330.16337055899\n",
      "Best Training RMSE: 152999.4494338082\n",
      "Test RMSE: 114989.60508637778\n",
      "Weekday_MONDAY : 0.01275399221807616\n",
      "Weekday_THURSDAY : 0.0002023127342987152\n",
      "Weekday_TUESDAY : 1.942343425076487e-05\n",
      "Weekday_WEDNESDAY : 8.337747660713823e-05\n",
      "Festival Religion_N : 0.006546780335018987\n",
      "Holiday Sequence_HHW : 0.019849061880477192\n",
      "Holiday Sequence_WHH : 0.0308294294183602\n",
      "Holiday Sequence_WHW : 0.013871870702038214\n",
      "Month_10 : 0.0010048522089864953\n",
      "Month_12 : 0.007810222141405143\n",
      "Day_6 : 8.14193804523633e-05\n",
      "Day_8 : 0.016213659754750198\n",
      "Day_9 : 1.6189620755113765e-08\n",
      "Day_10 : 0.036313680762319445\n",
      "Day_11 : 0.0002627044434693193\n",
      "Day_12 : 1.9429531941117517e-06\n",
      "Day_17 : 0.02995706793909836\n",
      "Day_19 : 0.01334538751360137\n",
      "Day_22 : 0.01149182406714555\n",
      "Day_23 : 0.0022490673652493243\n",
      "Day_24 : 9.233642934058928e-05\n",
      "Day_28 : 0.03270209848960226\n",
      "Day_31 : 0.00617903722091695\n",
      "Year_2012 : 0.0\n",
      "Year_2013 : 0.0\n",
      "Year_2014 : 0.0\n",
      "Year_2015 : 0.0\n",
      "Year_2016 : 0.0\n",
      "Year_2017 : 0.0\n",
      "------------------------------------------------------------------------\n",
      "\n",
      "\n",
      "For Mount Road ATM\n",
      "Using Train-Test Split\n",
      "Fitting 10 folds for each of 200 candidates, totalling 2000 fits\n"
     ]
    },
    {
     "name": "stderr",
     "output_type": "stream",
     "text": [
      "[Parallel(n_jobs=-1)]: Using backend LokyBackend with 4 concurrent workers.\n",
      "[Parallel(n_jobs=-1)]: Done 128 tasks      | elapsed:    1.0s\n",
      "[Parallel(n_jobs=-1)]: Done 1096 tasks      | elapsed:    7.9s\n",
      "[Parallel(n_jobs=-1)]: Done 2000 out of 2000 | elapsed:   13.9s finished\n",
      "[Parallel(n_jobs=-1)]: Using backend LokyBackend with 4 concurrent workers.\n"
     ]
    },
    {
     "name": "stdout",
     "output_type": "stream",
     "text": [
      "Best Parameters:\n",
      " {'lambda_2': 44.98432668969444, 'lambda_1': 0.022229964825261943, 'alpha_2': 0.0030888435964774815, 'alpha_1': 754.3120063354608}\n",
      "\n",
      "Best CV RMSE: 178591.39431577286\n",
      "Best Training RMSE: 250952.2868798778\n",
      "Test RMSE: 178565.170179613\n",
      "Weekday_SATURDAY : 1.7204657920544264e-08\n",
      "Month_2 : 0.0009961476813244996\n",
      "Month_3 : 0.003356143354380725\n",
      "Month_4 : 0.00020659923373211875\n",
      "Month_5 : 7.168657001344059e-09\n",
      "Month_6 : 0.00010387190769289845\n",
      "Month_7 : 0.0021399938775918947\n",
      "Month_8 : 0.00026102071468736554\n",
      "Month_9 : 0.032144932360804956\n",
      "Month_10 : 0.010651649872628788\n",
      "Month_11 : 0.0058931917532421\n",
      "Day_4 : 0.01085011280525161\n",
      "Day_7 : 0.007135697457433476\n",
      "Day_10 : 2.0199256400843524e-06\n",
      "Day_11 : 0.014010749298619674\n",
      "Day_13 : 5.5521311757011915e-06\n",
      "Day_14 : 2.6395879883400752e-05\n",
      "Day_15 : 2.689405231848241e-08\n",
      "Day_16 : 6.693570142601857e-09\n",
      "Day_17 : 6.030088927966304e-06\n",
      "Day_18 : 2.816552542306283e-07\n",
      "Day_19 : 2.8413837410479204e-05\n",
      "Day_20 : 4.439204153783294e-05\n",
      "Day_21 : 2.47695128312575e-05\n",
      "Day_22 : 1.9544188489817316e-09\n",
      "Day_23 : 4.326543501242952e-08\n",
      "Day_24 : 9.63903974415814e-07\n",
      "Day_25 : 4.290005284346421e-08\n",
      "Day_26 : 6.213700043389281e-08\n",
      "Day_27 : 1.8149175100568016e-06\n",
      "Day_28 : 8.700127263061574e-08\n",
      "Day_29 : 2.7525734691558057e-07\n",
      "Year_2012 : 0.0\n",
      "Year_2013 : 0.016935599239593868\n",
      "Year_2014 : 0.0\n",
      "Year_2015 : 4.606637293846916e-10\n",
      "Year_2016 : 0.0\n",
      "Year_2017 : 0.0\n",
      "------------------------------------------------------------------------\n",
      "\n",
      "\n",
      "For Airport ATM\n",
      "Using Train-Test Split\n",
      "Fitting 10 folds for each of 200 candidates, totalling 2000 fits\n"
     ]
    },
    {
     "name": "stderr",
     "output_type": "stream",
     "text": [
      "[Parallel(n_jobs=-1)]: Done 128 tasks      | elapsed:    0.9s\n",
      "[Parallel(n_jobs=-1)]: Done 1096 tasks      | elapsed:    8.0s\n",
      "[Parallel(n_jobs=-1)]: Done 2000 out of 2000 | elapsed:   14.7s finished\n",
      "[Parallel(n_jobs=-1)]: Using backend LokyBackend with 4 concurrent workers.\n"
     ]
    },
    {
     "name": "stdout",
     "output_type": "stream",
     "text": [
      "Best Parameters:\n",
      " {'lambda_2': 138.9495494373136, 'lambda_1': 0.022229964825261943, 'alpha_2': 0.0071968567300115215, 'alpha_1': 1000.0}\n",
      "\n",
      "Best CV RMSE: 171709.00632736433\n",
      "Best Training RMSE: 199233.6191009819\n",
      "Test RMSE: 177436.1508104097\n",
      "Weekday_SATURDAY : 0.00024164395284786977\n",
      "Weekday_THURSDAY : 0.023669025832106838\n",
      "Weekday_WEDNESDAY : 0.004693136885663307\n",
      "Festival Religion_NH : 0.045786229526971534\n",
      "Holiday Sequence_HHW : 0.0065734371026131555\n",
      "Holiday Sequence_WHH : 0.001422692667915948\n",
      "Month_3 : 0.009368341887260545\n",
      "Month_12 : 0.02932632940946167\n",
      "Day_3 : 0.038361110230783924\n",
      "Day_6 : 0.003928473012555722\n",
      "Day_7 : 0.028050123418329242\n",
      "Day_8 : 5.333211082758638e-06\n",
      "Day_16 : 0.006926646025504413\n",
      "Day_17 : 0.018771134630104935\n",
      "Day_19 : 0.027617025972979548\n",
      "Day_22 : 0.026643994061382292\n",
      "Day_23 : 0.0069803053099095624\n",
      "Day_24 : 0.006296667094675357\n",
      "Day_25 : 0.002827077165123537\n",
      "Day_26 : 0.023853870433021118\n",
      "Day_28 : 0.004214059561290062\n",
      "Day_29 : 0.01646578214205152\n",
      "Year_2012 : 9.614531393253856e-14\n",
      "Year_2013 : 0.0\n",
      "Year_2014 : 7.550364899744366e-06\n",
      "Year_2016 : 0.0\n",
      "Year_2017 : 2.3239188351453777e-12\n",
      "------------------------------------------------------------------------\n",
      "\n",
      "\n",
      "For KK Nagar ATM\n",
      "Using Train-Test Split\n",
      "Fitting 10 folds for each of 200 candidates, totalling 2000 fits\n"
     ]
    },
    {
     "name": "stderr",
     "output_type": "stream",
     "text": [
      "[Parallel(n_jobs=-1)]: Done 112 tasks      | elapsed:    1.0s\n",
      "[Parallel(n_jobs=-1)]: Done 1080 tasks      | elapsed:    8.1s\n",
      "[Parallel(n_jobs=-1)]: Done 2000 out of 2000 | elapsed:   14.9s finished\n",
      "[Parallel(n_jobs=-1)]: Using backend LokyBackend with 4 concurrent workers.\n"
     ]
    },
    {
     "name": "stdout",
     "output_type": "stream",
     "text": [
      "Best Parameters:\n",
      " {'lambda_2': 59.636233165946365, 'lambda_1': 0.0030888435964774815, 'alpha_2': 2.023589647725158, 'alpha_1': 0.016768329368110083}\n",
      "\n",
      "Best CV RMSE: 319236.45216634084\n",
      "Best Training RMSE: 430528.4478278871\n",
      "Test RMSE: 327141.7903944825\n",
      "Weekday_SUNDAY : 0.012003971103425215\n",
      "Weekday_THURSDAY : 0.003344253981798495\n",
      "Weekday_WEDNESDAY : 1.051381723726763e-05\n",
      "Festival Religion_H : 0.001469007281310608\n",
      "Month_7 : 0.001788406449477975\n",
      "Month_8 : 0.012839117325819549\n",
      "Month_9 : 0.0028403590935022205\n",
      "Month_11 : 1.0319597428809502e-05\n",
      "Month_12 : 0.00022824396294574\n",
      "Day_4 : 0.030959933064728773\n",
      "Day_6 : 3.3715808329670693e-06\n",
      "Day_7 : 0.03226153978511359\n",
      "Day_10 : 0.0009094447079447399\n",
      "Day_14 : 0.039078429021790484\n",
      "Day_15 : 0.024592377214199157\n",
      "Day_16 : 0.03257760178993241\n",
      "Day_17 : 0.038885654874090125\n",
      "Day_18 : 0.0026938535435101496\n",
      "Day_19 : 0.01100113488272747\n",
      "Day_20 : 0.006435154615930694\n",
      "Day_21 : 0.03109647243966629\n",
      "Day_22 : 0.00654258504839933\n",
      "Day_23 : 0.0005261161966474415\n",
      "Day_24 : 0.00021641725930177103\n",
      "Day_25 : 0.04166509308141353\n",
      "Day_27 : 0.002719232192296417\n",
      "Day_31 : 0.010818177926262162\n",
      "Year_2012 : 0.0\n",
      "Year_2013 : 0.0\n",
      "Year_2014 : 0.0\n",
      "Year_2015 : 4.440892098500626e-16\n",
      "Year_2016 : 5.900613331277782e-12\n",
      "Year_2017 : 0.0\n",
      "------------------------------------------------------------------------\n",
      "\n",
      "\n",
      "For Christ College ATM\n",
      "Using Train-Test Split\n",
      "Fitting 10 folds for each of 200 candidates, totalling 2000 fits\n"
     ]
    },
    {
     "name": "stderr",
     "output_type": "stream",
     "text": [
      "[Parallel(n_jobs=-1)]: Done 128 tasks      | elapsed:    1.0s\n",
      "[Parallel(n_jobs=-1)]: Done 1096 tasks      | elapsed:    8.0s\n"
     ]
    },
    {
     "name": "stdout",
     "output_type": "stream",
     "text": [
      "Best Parameters:\n",
      " {'lambda_2': 0.0517947467923121, 'lambda_1': 0.001, 'alpha_2': 0.002329951810515372, 'alpha_1': 1000.0}\n",
      "\n",
      "Best CV RMSE: 205071.95502038137\n",
      "Best Training RMSE: 268005.60533672455\n",
      "Test RMSE: 213485.3083591795\n",
      "Weekday_SATURDAY : 1.9170372844712347e-08\n",
      "Weekday_WEDNESDAY : 0.011885219701436966\n",
      "Working Day_W : 0.01027100849176632\n",
      "Holiday Sequence_WHW : 0.036829835465912675\n",
      "Month_11 : 0.00346668166388997\n",
      "Month_12 : 1.2512290443966734e-05\n",
      "Day_8 : 0.03302537807818351\n",
      "Day_9 : 4.69106348210957e-07\n",
      "Day_10 : 0.00029731255909837273\n",
      "Day_14 : 0.00039820875082940965\n",
      "Day_15 : 0.0036540781550906676\n",
      "Day_16 : 7.284474996005486e-05\n",
      "Day_17 : 0.00027794769425604215\n",
      "Day_18 : 4.815970919835877e-06\n",
      "Day_19 : 0.0006345884166152338\n",
      "Day_20 : 4.374312044674866e-05\n",
      "Day_21 : 2.6737135117027577e-06\n",
      "Day_22 : 4.840674977968362e-06\n",
      "Day_23 : 1.6069424066955662e-06\n",
      "Day_24 : 1.788629244714457e-10\n",
      "Day_25 : 3.4016157899330324e-06\n",
      "Day_26 : 6.6040555246615895e-09\n",
      "Day_27 : 1.4283330858733123e-05\n",
      "Day_28 : 3.4869756131428176e-06\n",
      "Day_29 : 0.00016412750562122547\n",
      "Year_2012 : 0.0\n",
      "Year_2013 : 0.0\n",
      "Year_2014 : 0.0\n",
      "Year_2015 : 0.0\n",
      "Year_2016 : 0.0\n",
      "Year_2017 : 0.0\n",
      "------------------------------------------------------------------------\n",
      "\n"
     ]
    },
    {
     "name": "stderr",
     "output_type": "stream",
     "text": [
      "[Parallel(n_jobs=-1)]: Done 2000 out of 2000 | elapsed:   14.7s finished\n"
     ]
    }
   ],
   "source": [
    "bayes_param_grid = {'alpha_1': np.logspace(-3, 3, num=50), 'alpha_2': np.logspace(-3, 3, num=50),\n",
    "                   'lambda_1': np.logspace(-3, 3, num=50), 'lambda_2': np.logspace(-3, 3, num=50)}\n",
    "                      \n",
    "random_cv_bayes = RandomizedSearchCV(BayesianRidge(), bayes_param_grid, n_iter=200, n_jobs=-1, \n",
    "                                      scoring='neg_root_mean_squared_error', verbose=2, cv=10, return_train_score=True)\n",
    "\n",
    "for atm_name in atm_names:\n",
    "    print(\"\\nFor\", atm_name)\n",
    "    # model_training_hyperparam_per_atm(atm_name, random_cv_bayes)\n",
    "    model_training_hyperparam_per_atm(atm_name, new_data, categorical_features_list, \n",
    "                                      random_cv_bayes, test_split=True, tree_model=False)"
   ]
  },
  {
   "cell_type": "markdown",
   "metadata": {},
   "source": [
    "<h3> Again Training RMSEs are higher than CV RMSEs, but still performance is good, although Elasticnet performs marginally better and Lasso performs way better, so not much point in using this </h3>"
   ]
  },
  {
   "cell_type": "markdown",
   "metadata": {},
   "source": [
    "<a name=\"hyperparameter-knn\"></a>\n",
    "<h3> Hyperparameter Tuning for KNN </h3>\n",
    "<p> n_neighbors, leaf_size and p (distance metric selection) are the tunable parameters here </p>"
   ]
  },
  {
   "cell_type": "code",
   "execution_count": 40,
   "metadata": {
    "scrolled": true
   },
   "outputs": [
    {
     "name": "stdout",
     "output_type": "stream",
     "text": [
      "\n",
      "For Big Street ATM\n",
      "Using Train-Test Split\n",
      "Fitting 10 folds for each of 25 candidates, totalling 250 fits\n"
     ]
    },
    {
     "name": "stderr",
     "output_type": "stream",
     "text": [
      "[Parallel(n_jobs=-1)]: Using backend LokyBackend with 4 concurrent workers.\n",
      "[Parallel(n_jobs=-1)]: Done  33 tasks      | elapsed:   12.8s\n",
      "[Parallel(n_jobs=-1)]: Done 154 tasks      | elapsed:   57.1s\n",
      "[Parallel(n_jobs=-1)]: Done 250 out of 250 | elapsed:  1.6min finished\n"
     ]
    },
    {
     "name": "stdout",
     "output_type": "stream",
     "text": [
      "Best Parameters:\n",
      " {'p': 2, 'n_neighbors': 49, 'leaf_size': 20}\n",
      "\n",
      "Best CV RMSE: 137271.97607919868\n",
      "Best Training RMSE: 137893.0515321369\n",
      "Test RMSE: 129359.42464815477\n",
      "------------------------------------------------------------------------\n",
      "\n",
      "\n",
      "For Mount Road ATM\n",
      "Using Train-Test Split\n",
      "Fitting 10 folds for each of 25 candidates, totalling 250 fits\n"
     ]
    },
    {
     "name": "stderr",
     "output_type": "stream",
     "text": [
      "[Parallel(n_jobs=-1)]: Using backend LokyBackend with 4 concurrent workers.\n",
      "[Parallel(n_jobs=-1)]: Done  33 tasks      | elapsed:   11.2s\n",
      "[Parallel(n_jobs=-1)]: Done 154 tasks      | elapsed:   50.9s\n",
      "[Parallel(n_jobs=-1)]: Done 250 out of 250 | elapsed:  1.4min finished\n"
     ]
    },
    {
     "name": "stdout",
     "output_type": "stream",
     "text": [
      "Best Parameters:\n",
      " {'p': 2, 'n_neighbors': 24, 'leaf_size': 24}\n",
      "\n",
      "Best CV RMSE: 207683.72752831812\n",
      "Best Training RMSE: 187381.51065939196\n",
      "Test RMSE: 217166.2969268255\n",
      "------------------------------------------------------------------------\n",
      "\n",
      "\n",
      "For Airport ATM\n",
      "Using Train-Test Split\n",
      "Fitting 10 folds for each of 25 candidates, totalling 250 fits\n"
     ]
    },
    {
     "name": "stderr",
     "output_type": "stream",
     "text": [
      "[Parallel(n_jobs=-1)]: Using backend LokyBackend with 4 concurrent workers.\n",
      "[Parallel(n_jobs=-1)]: Done  33 tasks      | elapsed:   10.4s\n",
      "[Parallel(n_jobs=-1)]: Done 154 tasks      | elapsed:   57.6s\n",
      "[Parallel(n_jobs=-1)]: Done 250 out of 250 | elapsed:  1.6min finished\n"
     ]
    },
    {
     "name": "stdout",
     "output_type": "stream",
     "text": [
      "Best Parameters:\n",
      " {'p': 2, 'n_neighbors': 22, 'leaf_size': 36}\n",
      "\n",
      "Best CV RMSE: 182125.2882343421\n",
      "Best Training RMSE: 172270.4389337518\n",
      "Test RMSE: 191403.05552388198\n",
      "------------------------------------------------------------------------\n",
      "\n",
      "\n",
      "For KK Nagar ATM\n",
      "Using Train-Test Split\n",
      "Fitting 10 folds for each of 25 candidates, totalling 250 fits\n"
     ]
    },
    {
     "name": "stderr",
     "output_type": "stream",
     "text": [
      "[Parallel(n_jobs=-1)]: Using backend LokyBackend with 4 concurrent workers.\n",
      "[Parallel(n_jobs=-1)]: Done  33 tasks      | elapsed:   14.2s\n",
      "[Parallel(n_jobs=-1)]: Done 154 tasks      | elapsed:  1.0min\n",
      "[Parallel(n_jobs=-1)]: Done 250 out of 250 | elapsed:  1.6min finished\n"
     ]
    },
    {
     "name": "stdout",
     "output_type": "stream",
     "text": [
      "Best Parameters:\n",
      " {'p': 1, 'n_neighbors': 27, 'leaf_size': 27}\n",
      "\n",
      "Best CV RMSE: 351604.0739477012\n",
      "Best Training RMSE: 332915.2011712744\n",
      "Test RMSE: 351923.98969311814\n",
      "------------------------------------------------------------------------\n",
      "\n",
      "\n",
      "For Christ College ATM\n",
      "Using Train-Test Split\n",
      "Fitting 10 folds for each of 25 candidates, totalling 250 fits\n"
     ]
    },
    {
     "name": "stderr",
     "output_type": "stream",
     "text": [
      "[Parallel(n_jobs=-1)]: Using backend LokyBackend with 4 concurrent workers.\n",
      "[Parallel(n_jobs=-1)]: Done  33 tasks      | elapsed:   16.7s\n",
      "[Parallel(n_jobs=-1)]: Done 154 tasks      | elapsed:  1.1min\n",
      "[Parallel(n_jobs=-1)]: Done 250 out of 250 | elapsed:  1.6min finished\n"
     ]
    },
    {
     "name": "stdout",
     "output_type": "stream",
     "text": [
      "Best Parameters:\n",
      " {'p': 1, 'n_neighbors': 48, 'leaf_size': 42}\n",
      "\n",
      "Best CV RMSE: 233090.65155808063\n",
      "Best Training RMSE: 222305.5332334696\n",
      "Test RMSE: 249320.4033704999\n",
      "------------------------------------------------------------------------\n",
      "\n"
     ]
    }
   ],
   "source": [
    "knn_param_grid = {'n_neighbors': list(range(1,50)), 'leaf_size': list(range(1,50)), 'p': [1, 2]}\n",
    "                      \n",
    "random_cv_knn = RandomizedSearchCV(KNeighborsRegressor(), knn_param_grid, n_iter=25, n_jobs=-1, \n",
    "                                      scoring='neg_root_mean_squared_error', verbose=2, cv=10, return_train_score=True)\n",
    "# grid_cv_knn = GridSearchCV(KNeighborsRegressor(), knn_param_grid, n_jobs=-1,\n",
    "#                                       scoring='neg_root_mean_squared_error', verbose=2, cv=10, return_train_score=True)\n",
    "\n",
    "for atm_name in atm_names:\n",
    "    print(\"\\nFor\", atm_name)\n",
    "    # model_training_hyperparam_per_atm(atm_name, random_cv_knn)\n",
    "    # model_training_hyperparam_per_atm(atm_name, grid_cv_knn)\n",
    "    model_training_hyperparam_per_atm(atm_name, new_data, categorical_features_list, random_cv_knn, test_split=True)"
   ]
  },
  {
   "cell_type": "markdown",
   "metadata": {},
   "source": [
    "<h3> Not as good CV RMSEs as the above linear model ones, but here the CV RMSE is always higher than the Training RMSE so that is a plus, but still Lasso wins out</h3>"
   ]
  },
  {
   "cell_type": "markdown",
   "metadata": {},
   "source": [
    "<a name=\"hyperparameter-dtree\"></a>\n",
    "<h3> Hyperparameter Tuning for Decision Tree </h3>\n",
    "\n",
    "https://towardsdatascience.com/how-to-tune-a-decision-tree-f03721801680\n",
    "<p> splitter='best' is optimal but if your model is overfitting, then you can change the splitter to “random” and retrain. </p>\n",
    "<p> max_depth, In general, the deeper you allow your tree to grow, the more complex your model will become because you will have more splits and it captures more information about the data and this is one of the root causes of overfitting in decision trees because your model will fit perfectly for the training data and will not be able to generalize well on test set. So, if your model is overfitting, reducing the number for max_depth is one way to combat overfitting. Basically, let the model decide the max_depth first and then by comparing my train and test scores I look for overfitting or underfitting and depending on the degree I decrease or increase the max_depth.</p>\n",
    "<p> The ideal min_samples_split values tend to be between 1 to 40 for the CART algorithm which is the algorithm implemented in scikit-learn </p>\n",
    "\n",
    "<p> The ideal min_samples_leaf values tend to be between 1 to 20 for the CART algorithm </p>\n",
    "\n",
    "<p> Note that the paper these values were taken from concluded that, min_samples_split and leaf were the ones most responsible for determining how good the model would be </p>\n",
    "\n",
    "<p> min_weight_fraction_leaf is the fraction of the input samples required to be at a leaf node where weights are determined by sample_weight, this is a way to deal with class imbalance. So I'm ignoring it for now </p>\n",
    "\n",
    "<p> max_features, Every time there is a split, your algorithm looks at a number of features and takes the one with the optimal metric using gini impurity or entropy, and creates two branches according to that feature. It is computationally heavy to look at all the features every single time, so you can just check some of them using the various max_features options. Another use of max_features is to limit overfitting. If you have a high computational cost or you have a lot of overfitting, you can try with “log2” and depending on what that produces, you can either bring it slightly up using sqrt or take it down further using a custom float value </p>\n",
    "\n",
    "<p> All other parameters are more useful for Classfication and also require us to determine the state of our current model, whether it is overfitting, underfitting, etc. </p>"
   ]
  },
  {
   "cell_type": "code",
   "execution_count": 41,
   "metadata": {
    "scrolled": true
   },
   "outputs": [
    {
     "name": "stdout",
     "output_type": "stream",
     "text": [
      "\n",
      "For Big Street ATM\n",
      "Using Train-Test Split\n",
      "Fitting 10 folds for each of 1131 candidates, totalling 11310 fits\n"
     ]
    },
    {
     "name": "stderr",
     "output_type": "stream",
     "text": [
      "[Parallel(n_jobs=-1)]: Using backend LokyBackend with 4 concurrent workers.\n",
      "[Parallel(n_jobs=-1)]: Done  58 tasks      | elapsed:    1.1s\n",
      "[Parallel(n_jobs=-1)]: Done 328 tasks      | elapsed:    5.5s\n",
      "[Parallel(n_jobs=-1)]: Done 1140 tasks      | elapsed:   15.9s\n",
      "[Parallel(n_jobs=-1)]: Done 2272 tasks      | elapsed:   29.7s\n",
      "[Parallel(n_jobs=-1)]: Done 3732 tasks      | elapsed:   45.6s\n",
      "[Parallel(n_jobs=-1)]: Done 5512 tasks      | elapsed:  1.0min\n",
      "[Parallel(n_jobs=-1)]: Done 7800 tasks      | elapsed:  1.4min\n",
      "[Parallel(n_jobs=-1)]: Done 11310 out of 11310 | elapsed:  1.8min finished\n"
     ]
    },
    {
     "name": "stdout",
     "output_type": "stream",
     "text": [
      "Best Parameters:\n",
      " {'min_samples_leaf': 7, 'min_samples_split': 36}\n",
      "\n",
      "Best CV RMSE: 114968.89827212188\n",
      "Best Training RMSE: 107148.5547671572\n",
      "Test RMSE: 120014.13469869681\n",
      "Year_2015: 0.588 +/- 0.038\n",
      "Year_2016: 0.389 +/- 0.032\n",
      "Year_2014: 0.331 +/- 0.027\n",
      "Year_2013: 0.245 +/- 0.019\n",
      "Year_2012: 0.170 +/- 0.028\n",
      "Year_2017: 0.140 +/- 0.017\n",
      "Month_11: 0.050 +/- 0.012\n",
      "Day_12  : 0.023 +/- 0.006\n",
      "Month_5 : 0.016 +/- 0.006\n",
      "Month_9 : 0.015 +/- 0.006\n",
      "Month_7 : 0.012 +/- 0.005\n",
      "Day_11  : 0.008 +/- 0.004\n",
      "Month_8 : 0.007 +/- 0.003\n",
      "------------------------------------------------------------------------\n",
      "\n",
      "\n",
      "For Mount Road ATM\n",
      "Using Train-Test Split\n",
      "Fitting 10 folds for each of 1131 candidates, totalling 11310 fits\n"
     ]
    },
    {
     "name": "stderr",
     "output_type": "stream",
     "text": [
      "[Parallel(n_jobs=-1)]: Using backend LokyBackend with 4 concurrent workers.\n",
      "[Parallel(n_jobs=-1)]: Done  92 tasks      | elapsed:    1.2s\n",
      "[Parallel(n_jobs=-1)]: Done 576 tasks      | elapsed:    6.5s\n",
      "[Parallel(n_jobs=-1)]: Done 1388 tasks      | elapsed:   16.5s\n",
      "[Parallel(n_jobs=-1)]: Done 2520 tasks      | elapsed:   26.9s\n",
      "[Parallel(n_jobs=-1)]: Done 4400 tasks      | elapsed:   42.0s\n",
      "[Parallel(n_jobs=-1)]: Done 7960 tasks      | elapsed:  1.1min\n",
      "[Parallel(n_jobs=-1)]: Done 11310 out of 11310 | elapsed:  1.6min finished\n"
     ]
    },
    {
     "name": "stdout",
     "output_type": "stream",
     "text": [
      "Best Parameters:\n",
      " {'min_samples_leaf': 29, 'min_samples_split': 2}\n",
      "\n",
      "Best CV RMSE: 193221.82028636918\n",
      "Best Training RMSE: 176544.6441229367\n",
      "Test RMSE: 211781.13030543464\n",
      "Year_2016: 0.342 +/- 0.041\n",
      "Year_2017: 0.194 +/- 0.031\n",
      "Holiday Sequence_HHW: 0.120 +/- 0.025\n",
      "Year_2014: 0.038 +/- 0.012\n",
      "Weekday_SATURDAY: 0.030 +/- 0.007\n",
      "Year_2012: 0.030 +/- 0.007\n",
      "Year_2015: 0.018 +/- 0.007\n",
      "Working Day_W: 0.007 +/- 0.003\n",
      "Weekday_WEDNESDAY: 0.005 +/- 0.002\n",
      "Festival Religion_H: 0.003 +/- 0.001\n",
      "------------------------------------------------------------------------\n",
      "\n",
      "\n",
      "For Airport ATM\n",
      "Using Train-Test Split\n",
      "Fitting 10 folds for each of 1131 candidates, totalling 11310 fits\n"
     ]
    },
    {
     "name": "stderr",
     "output_type": "stream",
     "text": [
      "[Parallel(n_jobs=-1)]: Using backend LokyBackend with 4 concurrent workers.\n",
      "[Parallel(n_jobs=-1)]: Done  92 tasks      | elapsed:    1.2s\n",
      "[Parallel(n_jobs=-1)]: Done 576 tasks      | elapsed:    7.1s\n",
      "[Parallel(n_jobs=-1)]: Done 1388 tasks      | elapsed:   16.4s\n",
      "[Parallel(n_jobs=-1)]: Done 2520 tasks      | elapsed:   28.0s\n",
      "[Parallel(n_jobs=-1)]: Done 4000 tasks      | elapsed:   42.8s\n",
      "[Parallel(n_jobs=-1)]: Done 7560 tasks      | elapsed:  1.2min\n",
      "[Parallel(n_jobs=-1)]: Done 11310 out of 11310 | elapsed:  1.7min finished\n"
     ]
    },
    {
     "name": "stdout",
     "output_type": "stream",
     "text": [
      "Best Parameters:\n",
      " {'min_samples_leaf': 19, 'min_samples_split': 2}\n",
      "\n",
      "Best CV RMSE: 180480.71060366687\n",
      "Best Training RMSE: 164720.6507065366\n",
      "Test RMSE: 176075.83690768087\n",
      "Year_2016: 0.173 +/- 0.030\n",
      "Year_2017: 0.137 +/- 0.024\n",
      "Weekday_SATURDAY: 0.102 +/- 0.017\n",
      "Year_2013: 0.068 +/- 0.020\n",
      "Year_2012: 0.058 +/- 0.008\n",
      "Working Day_W: 0.047 +/- 0.015\n",
      "Month_9 : 0.024 +/- 0.008\n",
      "Day_7   : 0.018 +/- 0.008\n",
      "Festival Religion_NH: 0.004 +/- 0.001\n",
      "------------------------------------------------------------------------\n",
      "\n",
      "\n",
      "For KK Nagar ATM\n",
      "Using Train-Test Split\n",
      "Fitting 10 folds for each of 1131 candidates, totalling 11310 fits\n"
     ]
    },
    {
     "name": "stderr",
     "output_type": "stream",
     "text": [
      "[Parallel(n_jobs=-1)]: Using backend LokyBackend with 4 concurrent workers.\n",
      "[Parallel(n_jobs=-1)]: Done  92 tasks      | elapsed:    1.1s\n",
      "[Parallel(n_jobs=-1)]: Done 576 tasks      | elapsed:    7.3s\n",
      "[Parallel(n_jobs=-1)]: Done 1388 tasks      | elapsed:   16.5s\n",
      "[Parallel(n_jobs=-1)]: Done 2520 tasks      | elapsed:   27.8s\n",
      "[Parallel(n_jobs=-1)]: Done 4000 tasks      | elapsed:   41.1s\n",
      "[Parallel(n_jobs=-1)]: Done 7560 tasks      | elapsed:  1.2min\n",
      "[Parallel(n_jobs=-1)]: Done 11069 tasks      | elapsed:  2.0min\n",
      "[Parallel(n_jobs=-1)]: Done 11310 out of 11310 | elapsed:  2.3min finished\n"
     ]
    },
    {
     "name": "stdout",
     "output_type": "stream",
     "text": [
      "Best Parameters:\n",
      " {'min_samples_leaf': 4, 'min_samples_split': 37}\n",
      "\n",
      "Best CV RMSE: 309887.8253634718\n",
      "Best Training RMSE: 295539.1903612227\n",
      "Test RMSE: 317823.1520349274\n",
      "Weekday_SUNDAY: 0.370 +/- 0.043\n",
      "Year_2014: 0.342 +/- 0.050\n",
      "Year_2013: 0.319 +/- 0.044\n",
      "Year_2012: 0.255 +/- 0.026\n",
      "Year_2017: 0.093 +/- 0.019\n",
      "Holiday Sequence_HHW: 0.084 +/- 0.006\n",
      "Day_6   : 0.048 +/- 0.016\n",
      "Year_2015: 0.037 +/- 0.004\n",
      "Day_2   : 0.035 +/- 0.011\n",
      "Year_2016: 0.026 +/- 0.010\n",
      "Month_9 : 0.023 +/- 0.005\n",
      "Month_12: 0.023 +/- 0.010\n",
      "Weekday_MONDAY: 0.020 +/- 0.004\n",
      "Day_7   : 0.017 +/- 0.005\n",
      "Month_8 : 0.016 +/- 0.006\n",
      "Day_12  : 0.015 +/- 0.005\n",
      "Month_6 : 0.013 +/- 0.003\n",
      "Month_5 : 0.011 +/- 0.004\n",
      "Holiday Sequence_WWH: 0.008 +/- 0.003\n",
      "------------------------------------------------------------------------\n",
      "\n",
      "\n",
      "For Christ College ATM\n",
      "Using Train-Test Split\n",
      "Fitting 10 folds for each of 1131 candidates, totalling 11310 fits\n"
     ]
    },
    {
     "name": "stderr",
     "output_type": "stream",
     "text": [
      "[Parallel(n_jobs=-1)]: Using backend LokyBackend with 4 concurrent workers.\n",
      "[Parallel(n_jobs=-1)]: Done  58 tasks      | elapsed:    4.1s\n",
      "[Parallel(n_jobs=-1)]: Done 202 tasks      | elapsed:   22.4s\n",
      "[Parallel(n_jobs=-1)]: Done 405 tasks      | elapsed:   46.6s\n",
      "[Parallel(n_jobs=-1)]: Done 688 tasks      | elapsed:  1.3min\n",
      "[Parallel(n_jobs=-1)]: Done 1053 tasks      | elapsed:  1.8min\n",
      "[Parallel(n_jobs=-1)]: Done 1498 tasks      | elapsed:  2.5min\n",
      "[Parallel(n_jobs=-1)]: Done 2025 tasks      | elapsed:  3.2min\n",
      "[Parallel(n_jobs=-1)]: Done 2632 tasks      | elapsed:  4.0min\n",
      "[Parallel(n_jobs=-1)]: Done 3321 tasks      | elapsed:  4.8min\n",
      "[Parallel(n_jobs=-1)]: Done 4090 tasks      | elapsed:  5.6min\n",
      "[Parallel(n_jobs=-1)]: Done 5578 tasks      | elapsed:  7.1min\n",
      "[Parallel(n_jobs=-1)]: Done 7440 tasks      | elapsed:  8.8min\n",
      "[Parallel(n_jobs=-1)]: Done 11310 out of 11310 | elapsed: 10.2min finished\n"
     ]
    },
    {
     "name": "stdout",
     "output_type": "stream",
     "text": [
      "Best Parameters:\n",
      " {'min_samples_leaf': 4, 'min_samples_split': 29}\n",
      "\n",
      "Best CV RMSE: 220929.40138870873\n",
      "Best Training RMSE: 203777.3316788178\n",
      "Test RMSE: 234524.93646074805\n",
      "Year_2017: 0.378 +/- 0.034\n",
      "Year_2014: 0.353 +/- 0.031\n",
      "Holiday Sequence_HHW: 0.135 +/- 0.021\n",
      "Year_2016: 0.119 +/- 0.017\n",
      "Year_2013: 0.100 +/- 0.008\n",
      "Year_2015: 0.084 +/- 0.010\n",
      "Festival Religion_NH: 0.060 +/- 0.019\n",
      "Weekday_SATURDAY: 0.044 +/- 0.012\n",
      "Year_2012: 0.036 +/- 0.004\n",
      "Day_3   : 0.029 +/- 0.012\n",
      "Day_9   : 0.025 +/- 0.012\n",
      "Day_6   : 0.022 +/- 0.009\n",
      "Weekday_SUNDAY: 0.016 +/- 0.007\n",
      "Month_10: 0.008 +/- 0.004\n",
      "Day_12  : 0.007 +/- 0.002\n",
      "Day_25  : 0.000 +/- 0.000\n",
      "------------------------------------------------------------------------\n",
      "\n"
     ]
    }
   ],
   "source": [
    "dtree_param_grid = {'min_samples_split': list(range(1,40)), 'min_samples_leaf': list(range(1,30))}\n",
    "                      \n",
    "# random_cv_dtree = RandomizedSearchCV(DecisionTreeRegressor(), dtree_param_grid, n_iter=100, n_jobs=-1, \n",
    "#                                      scoring='neg_root_mean_squared_error', verbose=2, cv=10, return_train_score=True)\n",
    "grid_cv_dtree = GridSearchCV(DecisionTreeRegressor(), dtree_param_grid, n_jobs=-1,\n",
    "                                       scoring='neg_root_mean_squared_error', verbose=2, cv=10, return_train_score=True)\n",
    "\n",
    "for atm_name in atm_names:\n",
    "    print(\"\\nFor\", atm_name)\n",
    "    model_training_hyperparam_per_atm(atm_name, new_data, categorical_features_list, \n",
    "                                      grid_cv_dtree, test_split=True, tree_model=True)"
   ]
  },
  {
   "cell_type": "markdown",
   "metadata": {},
   "source": [
    "<h3> Not as good as the Lasso but still quite good results and Decision Tree doesn't show the weird behaviour of CV RMSE being greater than Training RMSE </h3>"
   ]
  },
  {
   "cell_type": "markdown",
   "metadata": {},
   "source": [
    "<a name=\"hyperparameter-rforest\"></a>\n",
    "\n",
    "<h3> Random Forest Hyperparameter Tuning </h3>\n",
    "\n",
    "<p> All the parameters are pretty much the same as Decision Tree and the same implications as Decision Tree but there's one important new feature which is n_estimators </p>\n",
    "\n",
    "<p> n_estimators: This is the number of trees you want to build before taking the maximum voting or averages of predictions. Higher number of trees give you better performance but makes your code slower. You should choose as high value as your processor can handle because this makes your predictions stronger and more stable. </p>\n",
    "\n",
    "<p> Do not even dream of running Grid Search on this, even Randomized Search takes ages because of the large value of n_estimators </p>"
   ]
  },
  {
   "cell_type": "code",
   "execution_count": 32,
   "metadata": {
    "scrolled": true
   },
   "outputs": [
    {
     "name": "stdout",
     "output_type": "stream",
     "text": [
      "\n",
      "For Big Street ATM\n",
      "Using Train-Test Split\n",
      "Fitting 10 folds for each of 25 candidates, totalling 250 fits\n"
     ]
    },
    {
     "name": "stderr",
     "output_type": "stream",
     "text": [
      "[Parallel(n_jobs=-1)]: Using backend LokyBackend with 4 concurrent workers.\n",
      "[Parallel(n_jobs=-1)]: Done  33 tasks      | elapsed:  1.2min\n",
      "[Parallel(n_jobs=-1)]: Done 154 tasks      | elapsed:  5.5min\n",
      "[Parallel(n_jobs=-1)]: Done 250 out of 250 | elapsed: 10.2min finished\n"
     ]
    },
    {
     "name": "stdout",
     "output_type": "stream",
     "text": [
      "Best Parameters:\n",
      " {'n_estimators': 1000, 'min_samples_split': 38, 'min_samples_leaf': 3}\n",
      "\n",
      "Best CV RMSE: 111270.13423159772\n",
      "Best Training RMSE: 110377.44532931887\n",
      "Test RMSE: 113576.53110605341\n",
      "Year_2016: 0.579 +/- 0.040\n",
      "Year_2015: 0.502 +/- 0.036\n",
      "Year_2014: 0.384 +/- 0.036\n",
      "Year_2013: 0.265 +/- 0.021\n",
      "Year_2017: 0.184 +/- 0.021\n",
      "Year_2012: 0.098 +/- 0.016\n",
      "Month_11: 0.033 +/- 0.015\n",
      "Day_11  : 0.028 +/- 0.006\n",
      "Day_9   : 0.017 +/- 0.005\n",
      "Day_8   : 0.015 +/- 0.005\n",
      "Day_12  : 0.015 +/- 0.004\n",
      "Day_6   : 0.014 +/- 0.007\n",
      "Month_12: 0.010 +/- 0.004\n",
      "Day_5   : 0.007 +/- 0.003\n",
      "Day_10  : 0.004 +/- 0.002\n",
      "Day_2   : 0.003 +/- 0.001\n",
      "Day_15  : 0.002 +/- 0.001\n",
      "------------------------------------------------------------------------\n",
      "\n",
      "\n",
      "For Mount Road ATM\n",
      "Using Train-Test Split\n",
      "Fitting 10 folds for each of 25 candidates, totalling 250 fits\n"
     ]
    },
    {
     "name": "stderr",
     "output_type": "stream",
     "text": [
      "[Parallel(n_jobs=-1)]: Using backend LokyBackend with 4 concurrent workers.\n",
      "[Parallel(n_jobs=-1)]: Done  33 tasks      | elapsed:  1.4min\n",
      "[Parallel(n_jobs=-1)]: Done 154 tasks      | elapsed:  6.8min\n",
      "[Parallel(n_jobs=-1)]: Done 250 out of 250 | elapsed: 10.4min finished\n"
     ]
    },
    {
     "name": "stdout",
     "output_type": "stream",
     "text": [
      "Best Parameters:\n",
      " {'n_estimators': 2000, 'min_samples_split': 39, 'min_samples_leaf': 1}\n",
      "\n",
      "Best CV RMSE: 182282.17700952367\n",
      "Best Training RMSE: 182968.14823835687\n",
      "Test RMSE: 178031.1713361249\n",
      "Year_2016: 0.411 +/- 0.031\n",
      "Year_2017: 0.331 +/- 0.036\n",
      "Holiday Sequence_HHW: 0.142 +/- 0.015\n",
      "Weekday_SUNDAY: 0.111 +/- 0.019\n",
      "Year_2014: 0.047 +/- 0.014\n",
      "Festival Religion_NH: 0.042 +/- 0.011\n",
      "Day_10  : 0.039 +/- 0.008\n",
      "Year_2015: 0.033 +/- 0.009\n",
      "Year_2012: 0.031 +/- 0.005\n",
      "Day_7   : 0.025 +/- 0.005\n",
      "Month_11: 0.016 +/- 0.005\n",
      "Day_3   : 0.015 +/- 0.005\n",
      "Month_7 : 0.011 +/- 0.003\n",
      "Day_2   : 0.010 +/- 0.004\n",
      "Day_6   : 0.008 +/- 0.004\n",
      "Year_2013: 0.005 +/- 0.002\n",
      "Holiday Sequence_HWW: 0.002 +/- 0.001\n",
      "------------------------------------------------------------------------\n",
      "\n",
      "\n",
      "For Airport ATM\n",
      "Using Train-Test Split\n",
      "Fitting 10 folds for each of 25 candidates, totalling 250 fits\n"
     ]
    },
    {
     "name": "stderr",
     "output_type": "stream",
     "text": [
      "[Parallel(n_jobs=-1)]: Using backend LokyBackend with 4 concurrent workers.\n",
      "[Parallel(n_jobs=-1)]: Done  33 tasks      | elapsed:  1.1min\n",
      "[Parallel(n_jobs=-1)]: Done 154 tasks      | elapsed:  7.3min\n",
      "[Parallel(n_jobs=-1)]: Done 250 out of 250 | elapsed: 10.8min finished\n"
     ]
    },
    {
     "name": "stdout",
     "output_type": "stream",
     "text": [
      "Best Parameters:\n",
      " {'n_estimators': 1400, 'min_samples_split': 35, 'min_samples_leaf': 3}\n",
      "\n",
      "Best CV RMSE: 174187.18850444874\n",
      "Best Training RMSE: 164191.71015107527\n",
      "Test RMSE: 161772.41276853022\n",
      "Year_2016: 0.247 +/- 0.041\n",
      "Year_2017: 0.144 +/- 0.032\n",
      "Year_2013: 0.064 +/- 0.016\n",
      "Weekday_SATURDAY: 0.047 +/- 0.010\n",
      "Day_8   : 0.043 +/- 0.016\n",
      "Year_2012: 0.030 +/- 0.012\n",
      "Month_9 : 0.024 +/- 0.010\n",
      "Year_2014: 0.014 +/- 0.005\n",
      "Day_3   : 0.013 +/- 0.003\n",
      "Day_7   : 0.012 +/- 0.004\n",
      "Day_4   : 0.010 +/- 0.004\n",
      "Year_2015: 0.010 +/- 0.003\n",
      "Day_5   : 0.008 +/- 0.003\n",
      "Month_3 : 0.005 +/- 0.002\n",
      "Day_27  : 0.004 +/- 0.002\n",
      "Day_29  : 0.003 +/- 0.001\n",
      "Day_18  : 0.003 +/- 0.002\n",
      "Holiday Sequence_WHW: 0.000 +/- 0.000\n",
      "Festival Religion_N: 0.000 +/- 0.000\n",
      "------------------------------------------------------------------------\n",
      "\n",
      "\n",
      "For KK Nagar ATM\n",
      "Using Train-Test Split\n",
      "Fitting 10 folds for each of 25 candidates, totalling 250 fits\n"
     ]
    },
    {
     "name": "stderr",
     "output_type": "stream",
     "text": [
      "[Parallel(n_jobs=-1)]: Using backend LokyBackend with 4 concurrent workers.\n",
      "[Parallel(n_jobs=-1)]: Done  33 tasks      | elapsed:  1.0min\n",
      "[Parallel(n_jobs=-1)]: Done 154 tasks      | elapsed:  6.8min\n",
      "[Parallel(n_jobs=-1)]: Done 250 out of 250 | elapsed: 11.6min finished\n"
     ]
    },
    {
     "name": "stdout",
     "output_type": "stream",
     "text": [
      "Best Parameters:\n",
      " {'n_estimators': 1200, 'min_samples_split': 12, 'min_samples_leaf': 1}\n",
      "\n",
      "Best CV RMSE: 304662.28821211157\n",
      "Best Training RMSE: 303202.63359490805\n",
      "Test RMSE: 285005.8804777849\n",
      "Year_2013: 0.319 +/- 0.037\n",
      "Year_2014: 0.314 +/- 0.035\n",
      "Weekday_SUNDAY: 0.272 +/- 0.034\n",
      "Year_2012: 0.254 +/- 0.023\n",
      "Year_2017: 0.099 +/- 0.011\n",
      "Year_2016: 0.058 +/- 0.009\n",
      "Year_2015: 0.043 +/- 0.010\n",
      "Day_6   : 0.027 +/- 0.009\n",
      "Month_12: 0.024 +/- 0.008\n",
      "Day_4   : 0.023 +/- 0.005\n",
      "Day_12  : 0.020 +/- 0.003\n",
      "Day_2   : 0.018 +/- 0.005\n",
      "Day_9   : 0.017 +/- 0.006\n",
      "Month_11: 0.013 +/- 0.005\n",
      "Month_7 : 0.012 +/- 0.003\n",
      "Day_10  : 0.012 +/- 0.005\n",
      "Day_24  : 0.011 +/- 0.004\n",
      "Day_8   : 0.010 +/- 0.004\n",
      "Month_9 : 0.009 +/- 0.004\n",
      "Month_10: 0.007 +/- 0.002\n",
      "Day_29  : 0.005 +/- 0.002\n",
      "Holiday Sequence_HWW: 0.004 +/- 0.002\n",
      "Day_19  : 0.004 +/- 0.002\n",
      "Holiday Sequence_WWH: 0.004 +/- 0.002\n",
      "Month_5 : 0.004 +/- 0.001\n",
      "Month_6 : 0.003 +/- 0.001\n",
      "------------------------------------------------------------------------\n",
      "\n",
      "\n",
      "For Christ College ATM\n",
      "Using Train-Test Split\n",
      "Fitting 10 folds for each of 25 candidates, totalling 250 fits\n"
     ]
    },
    {
     "name": "stderr",
     "output_type": "stream",
     "text": [
      "[Parallel(n_jobs=-1)]: Using backend LokyBackend with 4 concurrent workers.\n",
      "[Parallel(n_jobs=-1)]: Done  33 tasks      | elapsed:  1.6min\n",
      "[Parallel(n_jobs=-1)]: Done 154 tasks      | elapsed:  8.3min\n",
      "[Parallel(n_jobs=-1)]: Done 250 out of 250 | elapsed: 14.3min finished\n"
     ]
    },
    {
     "name": "stdout",
     "output_type": "stream",
     "text": [
      "Best Parameters:\n",
      " {'n_estimators': 1800, 'min_samples_split': 32, 'min_samples_leaf': 1}\n",
      "\n",
      "Best CV RMSE: 210016.04081008845\n",
      "Best Training RMSE: 207308.45875965792\n",
      "Test RMSE: 210450.49881944954\n",
      "Year_2017: 0.459 +/- 0.034\n",
      "Year_2014: 0.315 +/- 0.035\n",
      "Year_2016: 0.217 +/- 0.019\n",
      "Year_2015: 0.120 +/- 0.011\n",
      "Year_2013: 0.092 +/- 0.011\n",
      "Holiday Sequence_HHW: 0.072 +/- 0.027\n",
      "Day_9   : 0.036 +/- 0.010\n",
      "Festival Religion_NH: 0.034 +/- 0.015\n",
      "Day_10  : 0.032 +/- 0.008\n",
      "Day_6   : 0.024 +/- 0.006\n",
      "Day_7   : 0.017 +/- 0.004\n",
      "Day_12  : 0.017 +/- 0.006\n",
      "Year_2012: 0.014 +/- 0.004\n",
      "Month_10: 0.013 +/- 0.005\n",
      "Day_5   : 0.012 +/- 0.006\n",
      "Weekday_SATURDAY: 0.009 +/- 0.003\n",
      "Holiday Sequence_WHH: 0.006 +/- 0.002\n",
      "Month_3 : 0.005 +/- 0.002\n",
      "Day_28  : 0.004 +/- 0.002\n",
      "Day_25  : 0.002 +/- 0.001\n",
      "Holiday Sequence_WWW: 0.002 +/- 0.001\n",
      "Weekday_TUESDAY: 0.001 +/- 0.001\n",
      "------------------------------------------------------------------------\n",
      "\n"
     ]
    }
   ],
   "source": [
    "rforest_param_grid = {'n_estimators': [int(x) for x in np.linspace(start = 200, stop = 2000, num = 10)], \n",
    "                      'min_samples_split': list(range(1,40)), 'min_samples_leaf': list(range(1,25))}\n",
    "                      \n",
    "random_cv_rforest = RandomizedSearchCV(RandomForestRegressor(), rforest_param_grid, n_iter=25, n_jobs=-1, \n",
    "                                      scoring='neg_root_mean_squared_error', verbose=2, cv=10, return_train_score=True)\n",
    "\n",
    "for atm_name in atm_names:\n",
    "    print(\"\\nFor\", atm_name)\n",
    "    # model_training_hyperparam_per_atm(atm_name, random_cv_rforest)\n",
    "    model_training_hyperparam_per_atm(atm_name, new_data, categorical_features_list, \n",
    "                                      random_cv_rforest, test_split=True, tree_model=True)"
   ]
  },
  {
   "cell_type": "markdown",
   "metadata": {},
   "source": [
    "<h3> Outperforms Lasso for all ATMs except Christ College but that's Random Search with just 25 iterations, increasing the iterations will definitely help find better results, so this probably means that Random Forest is the best model so far </h3>"
   ]
  },
  {
   "cell_type": "markdown",
   "metadata": {},
   "source": [
    "# Conclusions on Feature Importances and Co-efficients\n",
    "<h3> Summary about testing methods and how it is done, </h3>\n",
    "<p> Cannot do for SVR (unless Linear Kernel is used, but we generally use RBF for fitting non-linear hyperplanes) and Cannot do for KNN </p>\n",
    "\n",
    "<p> Also cannot do for Polynomial Regression as of right now (have to look this up more) </p>\n",
    "\n",
    "<p> Also for Random Forest and Decision Tree instead of feature coefficients, we get feature importance which returns importance measure (like Gini Index or Entropy) for each attribute (feature) so value scale is different\n",
    "it was found that this was unreliable and requires use of permutation importance function<br>So a standardized method from sklearn documentation was used for implementing it and it will print proper importance in descending order but for only those columns whose importance is atleast 2 times more than the standard deviation for the entire importance list.\n",
    "Note that this method can end up giving less importance to highly correlated input columns, but overall gives a good estimate of importance.</p>"
   ]
  },
  {
   "cell_type": "markdown",
   "metadata": {},
   "source": [
    "<h3> Summary for Linear Models </h3><br>\n",
    "Years and most days were always important features. <br>\n",
    "Occasionally some months weren't that important but still overall they are important <br>\n",
    "Holiday Sequence doesn't seem to be an important feature as its printed quite less <br>\n",
    "\n",
    "<h3> ATM-Wise Breakdown for Linear_Models</h3>\n",
    "<br> For Big Street ATM <br>\n",
    "Working Day was not important<br>\n",
    "\n",
    "1. Lasso, Ridge, Bayesian Ridge<br>\n",
    "Festival Religion N<br>\n",
    "<br>\n",
    "2. Elasticnet<br>\n",
    "Festival Religion M, N<br>\n",
    "\n",
    "For Mount Road ATM <br>\n",
    "Working Day was not important<br>\n",
    "1. Lasso<br>\n",
    "No Religion, No Holiday Sequence, Working Day Present<br>\n",
    "\n",
    "2. Elasticnet, Bayesian Ridge<br>\n",
    "No Religion, No Holiday Sequence<br>\n",
    "\n",
    "3. Ridge<br>\n",
    "Working Day Present<br>\n",
    "No Religion, One Holiday Sequence, Working Day Present<br>\n",
    "\n",
    "Have to write for the other ATMs\n"
   ]
  },
  {
   "cell_type": "markdown",
   "metadata": {},
   "source": [
    "<h3> Decision Tree </h3><br>\n",
    "For Big Street ATM <br>\n",
    "Festival Religion was not there at all.<br>\n",
    "No Holiday Sequence as well<br>\n",
    "<br>\n",
    "For Airport ATM<br>\n",
    "No Days and Months at all.<br>\n",
    "No Holiday Sequence as well<br>\n",
    "<br>\n",
    "For Mount Road ATM<br>\n",
    "No Months and Festival Religion<br>\n",
    "<br>\n",
    "For KK Nagar ATM<br>\n",
    "Atleast one value from all features was there<br>\n",
    "<br>\n",
    "For Christ College ATM<br>\n",
    "No Festival Religion everything else had atleast 1 value.<br>"
   ]
  },
  {
   "cell_type": "markdown",
   "metadata": {},
   "source": [
    "<h3> Random Forest </h3><br>\n",
    "None of them had Working Day column values.<br>\n",
    "<br>\n",
    "For Big Street ATM,<br>\n",
    "No Festival Religion, Holiday Sequences.<br>\n",
    "<br>\n",
    "For Mount Road ATM,<br>\n",
    "Atleast one column from all features were there, except Working Day<br>\n",
    "<br>\n",
    "For Airport ATM<br>\n",
    "Only Working Day column.<br>\n",
    "<br>\n",
    "For KK Nagar ATM<br>\n",
    "Festival Religion<br>\n",
    "<br>\n",
    "For Christ College ATM<br>\n",
    "Only Working Day column.<br>\n",
    "\n"
   ]
  },
  {
   "cell_type": "markdown",
   "metadata": {},
   "source": [
    "## Conclusion on Feature Importance\n",
    "\n",
    "<p> The important features found varies per ATM per Model so there high amount of variation and more research needs to be done on this front. Plus since all our columns are categorical finding important columns becomes kind of confusing in that regard as well. Limiting ourselves to just one ATM will definitely help our cause in narrowing down important features </p>"
   ]
  },
  {
   "cell_type": "markdown",
   "metadata": {},
   "source": [
    "<a name=\"polynomial\"></a>\n",
    "## Polynomial Regression\n",
    "\n",
    "<p> Generate a new feature matrix consisting of all polynomial combinations of the features with degree less than or equal to the specified degree. For example, if an input sample is two dimensional and of the form [a, b], the degree-2 polynomial features are [1, a, b, a^2, ab, b^2] </p>\n",
    "\n",
    "<p> This is what the PolynomialFeatures() method does </p>\n",
    "\n",
    "<p> Note: Running time is quite slow, so better use RandomizedSearch </p>"
   ]
  },
  {
   "cell_type": "markdown",
   "metadata": {},
   "source": [
    "<h3> For Lasso Regression </h3>"
   ]
  },
  {
   "cell_type": "code",
   "execution_count": 47,
   "metadata": {
    "scrolled": true
   },
   "outputs": [
    {
     "name": "stdout",
     "output_type": "stream",
     "text": [
      "\n",
      "For Big Street ATM\n",
      "Using Train-Test Split\n",
      "Fitting 10 folds for each of 50 candidates, totalling 500 fits\n"
     ]
    },
    {
     "name": "stderr",
     "output_type": "stream",
     "text": [
      "[Parallel(n_jobs=-1)]: Using backend LokyBackend with 4 concurrent workers.\n",
      "[Parallel(n_jobs=-1)]: Done  33 tasks      | elapsed:  2.8min\n",
      "[Parallel(n_jobs=-1)]: Done 154 tasks      | elapsed: 12.1min\n",
      "[Parallel(n_jobs=-1)]: Done 357 tasks      | elapsed: 29.0min\n",
      "[Parallel(n_jobs=-1)]: Done 500 out of 500 | elapsed: 34.1min finished\n"
     ]
    },
    {
     "name": "stdout",
     "output_type": "stream",
     "text": [
      "Best Parameters:\n",
      " {'fit__alpha': 244.205309454865}\n",
      "\n",
      "Best CV RMSE: 110849.30615056204\n",
      "Best Training RMSE: 66507.69732116071\n",
      "Test RMSE: 110831.03072170877\n",
      "\n",
      "For Mount Road ATM\n",
      "Using Train-Test Split\n",
      "Fitting 10 folds for each of 50 candidates, totalling 500 fits\n"
     ]
    },
    {
     "name": "stderr",
     "output_type": "stream",
     "text": [
      "[Parallel(n_jobs=-1)]: Using backend LokyBackend with 4 concurrent workers.\n",
      "[Parallel(n_jobs=-1)]: Done  33 tasks      | elapsed:  3.0min\n",
      "[Parallel(n_jobs=-1)]: Done 154 tasks      | elapsed: 14.2min\n",
      "[Parallel(n_jobs=-1)]: Done 357 tasks      | elapsed: 29.1min\n",
      "[Parallel(n_jobs=-1)]: Done 500 out of 500 | elapsed: 39.7min finished\n"
     ]
    },
    {
     "name": "stdout",
     "output_type": "stream",
     "text": [
      "Best Parameters:\n",
      " {'fit__alpha': 429.1934260128778}\n",
      "\n",
      "Best CV RMSE: 175654.93344711044\n",
      "Best Training RMSE: 99077.88103095208\n",
      "Test RMSE: 174268.15572258152\n",
      "\n",
      "For Airport ATM\n",
      "Using Train-Test Split\n",
      "Fitting 10 folds for each of 50 candidates, totalling 500 fits\n"
     ]
    },
    {
     "name": "stderr",
     "output_type": "stream",
     "text": [
      "[Parallel(n_jobs=-1)]: Using backend LokyBackend with 4 concurrent workers.\n",
      "[Parallel(n_jobs=-1)]: Done  33 tasks      | elapsed:  2.9min\n",
      "[Parallel(n_jobs=-1)]: Done 154 tasks      | elapsed: 12.1min\n",
      "[Parallel(n_jobs=-1)]: Done 357 tasks      | elapsed: 28.8min\n",
      "[Parallel(n_jobs=-1)]: Done 500 out of 500 | elapsed: 38.7min finished\n",
      "c:\\users\\jasvin\\appdata\\local\\programs\\python\\python38\\lib\\site-packages\\sklearn\\linear_model\\_coordinate_descent.py:474: ConvergenceWarning: Objective did not converge. You might want to increase the number of iterations. Duality gap: 8341813142.2578125, tolerance: 7318353093.755827\n",
      "  model = cd_fast.enet_coordinate_descent(\n",
      "[Parallel(n_jobs=-1)]: Using backend LokyBackend with 4 concurrent workers.\n"
     ]
    },
    {
     "name": "stdout",
     "output_type": "stream",
     "text": [
      "Best Parameters:\n",
      " {'fit__alpha': 323.745754281764}\n",
      "\n",
      "Best CV RMSE: 167383.069260649\n",
      "Best Training RMSE: 95801.93829945469\n",
      "Test RMSE: 168937.13528254244\n",
      "\n",
      "For KK Nagar ATM\n",
      "Using Train-Test Split\n",
      "Fitting 10 folds for each of 50 candidates, totalling 500 fits\n"
     ]
    },
    {
     "name": "stderr",
     "output_type": "stream",
     "text": [
      "[Parallel(n_jobs=-1)]: Done  33 tasks      | elapsed:  3.0min\n",
      "[Parallel(n_jobs=-1)]: Done 154 tasks      | elapsed: 13.2min\n",
      "[Parallel(n_jobs=-1)]: Done 357 tasks      | elapsed: 27.9min\n",
      "[Parallel(n_jobs=-1)]: Done 500 out of 500 | elapsed: 36.5min finished\n"
     ]
    },
    {
     "name": "stdout",
     "output_type": "stream",
     "text": [
      "Best Parameters:\n",
      " {'fit__alpha': 754.3120063354608}\n",
      "\n",
      "Best CV RMSE: 301464.02128285856\n",
      "Best Training RMSE: 158514.66014298314\n",
      "Test RMSE: 299078.27991935494\n",
      "\n",
      "For Christ College ATM\n",
      "Using Train-Test Split\n",
      "Fitting 10 folds for each of 50 candidates, totalling 500 fits\n"
     ]
    },
    {
     "name": "stderr",
     "output_type": "stream",
     "text": [
      "[Parallel(n_jobs=-1)]: Using backend LokyBackend with 4 concurrent workers.\n",
      "[Parallel(n_jobs=-1)]: Done  33 tasks      | elapsed:  2.5min\n",
      "[Parallel(n_jobs=-1)]: Done 154 tasks      | elapsed: 11.7min\n",
      "[Parallel(n_jobs=-1)]: Done 357 tasks      | elapsed: 26.8min\n",
      "[Parallel(n_jobs=-1)]: Done 500 out of 500 | elapsed: 36.4min finished\n"
     ]
    },
    {
     "name": "stdout",
     "output_type": "stream",
     "text": [
      "Best Parameters:\n",
      " {'fit__alpha': 429.1934260128778}\n",
      "\n",
      "Best CV RMSE: 202557.50250792425\n",
      "Best Training RMSE: 118858.8575212118\n",
      "Test RMSE: 207072.82881814017\n"
     ]
    }
   ],
   "source": [
    "poly_lasso_param_grid = {'fit__alpha':np.logspace(-3, 3, num=50)}\n",
    "poly_lasso_pipeline = Pipeline([('poly', PolynomialFeatures()), ('fit', Lasso(max_iter=2000))])\n",
    "\n",
    "random_cv_poly_lasso = RandomizedSearchCV(poly_lasso_pipeline, poly_lasso_param_grid, n_iter=25,\n",
    "                                        verbose=2, n_jobs=-1, scoring='neg_root_mean_squared_error', \n",
    "                                        cv=10, return_train_score=True)\n",
    "\n",
    "for atm_name in atm_names:\n",
    "    print(\"\\nFor\", atm_name)\n",
    "    # model_training_hyperparam_per_atm(atm_name, random_cv_poly_ridge)\n",
    "    model_training_hyperparam_per_atm(atm_name, new_data, categorical_features_list, random_cv_poly_lasso, test_split=True)"
   ]
  },
  {
   "cell_type": "markdown",
   "metadata": {},
   "source": [
    "<h3> Doesn't provide much improvement in CV RMSE but great improvement in Training RMSEs definitely overfitting </h3>"
   ]
  },
  {
   "cell_type": "markdown",
   "metadata": {},
   "source": [
    "<h3> For Ridge Regression </h3>"
   ]
  },
  {
   "cell_type": "code",
   "execution_count": 48,
   "metadata": {
    "scrolled": true
   },
   "outputs": [
    {
     "name": "stdout",
     "output_type": "stream",
     "text": [
      "\n",
      "For Big Street ATM\n",
      "Using Train-Test Split\n",
      "Fitting 10 folds for each of 50 candidates, totalling 500 fits\n"
     ]
    },
    {
     "name": "stderr",
     "output_type": "stream",
     "text": [
      "[Parallel(n_jobs=-1)]: Using backend LokyBackend with 4 concurrent workers.\n",
      "[Parallel(n_jobs=-1)]: Done  33 tasks      | elapsed:   12.7s\n",
      "[Parallel(n_jobs=-1)]: Done 154 tasks      | elapsed:   44.8s\n",
      "[Parallel(n_jobs=-1)]: Done 357 tasks      | elapsed:  1.6min\n",
      "[Parallel(n_jobs=-1)]: Done 500 out of 500 | elapsed:  2.3min finished\n"
     ]
    },
    {
     "name": "stdout",
     "output_type": "stream",
     "text": [
      "Best Parameters:\n",
      " {'fit__alpha': 19.306977288832496}\n",
      "\n",
      "Best CV RMSE: 114554.24198141792\n",
      "Best Training RMSE: 80471.88697680621\n",
      "Test RMSE: 110599.02292932227\n",
      "\n",
      "For Mount Road ATM\n",
      "Using Train-Test Split\n",
      "Fitting 10 folds for each of 50 candidates, totalling 500 fits\n"
     ]
    },
    {
     "name": "stderr",
     "output_type": "stream",
     "text": [
      "[Parallel(n_jobs=-1)]: Using backend LokyBackend with 4 concurrent workers.\n",
      "[Parallel(n_jobs=-1)]: Done  33 tasks      | elapsed:    8.5s\n",
      "[Parallel(n_jobs=-1)]: Done 154 tasks      | elapsed:   37.1s\n",
      "[Parallel(n_jobs=-1)]: Done 357 tasks      | elapsed:  1.4min\n",
      "[Parallel(n_jobs=-1)]: Done 500 out of 500 | elapsed:  2.0min finished\n"
     ]
    },
    {
     "name": "stdout",
     "output_type": "stream",
     "text": [
      "Best Parameters:\n",
      " {'fit__alpha': 25.595479226995334}\n",
      "\n",
      "Best CV RMSE: 173626.67628797446\n",
      "Best Training RMSE: 119358.89132951859\n",
      "Test RMSE: 183874.77799320966\n",
      "\n",
      "For Airport ATM\n",
      "Using Train-Test Split\n",
      "Fitting 10 folds for each of 50 candidates, totalling 500 fits\n"
     ]
    },
    {
     "name": "stderr",
     "output_type": "stream",
     "text": [
      "[Parallel(n_jobs=-1)]: Using backend LokyBackend with 4 concurrent workers.\n",
      "[Parallel(n_jobs=-1)]: Done  33 tasks      | elapsed:    9.0s\n",
      "[Parallel(n_jobs=-1)]: Done 154 tasks      | elapsed:   39.6s\n",
      "[Parallel(n_jobs=-1)]: Done 357 tasks      | elapsed:  1.5min\n",
      "[Parallel(n_jobs=-1)]: Done 500 out of 500 | elapsed:  2.0min finished\n"
     ]
    },
    {
     "name": "stdout",
     "output_type": "stream",
     "text": [
      "Best Parameters:\n",
      " {'fit__alpha': 44.98432668969444}\n",
      "\n",
      "Best CV RMSE: 175656.80100106134\n",
      "Best Training RMSE: 116188.26800599106\n",
      "Test RMSE: 163507.7633236166\n",
      "\n",
      "For KK Nagar ATM\n",
      "Using Train-Test Split\n",
      "Fitting 10 folds for each of 50 candidates, totalling 500 fits\n"
     ]
    },
    {
     "name": "stderr",
     "output_type": "stream",
     "text": [
      "[Parallel(n_jobs=-1)]: Using backend LokyBackend with 4 concurrent workers.\n",
      "[Parallel(n_jobs=-1)]: Done  33 tasks      | elapsed:    9.9s\n",
      "[Parallel(n_jobs=-1)]: Done 154 tasks      | elapsed:   40.8s\n",
      "[Parallel(n_jobs=-1)]: Done 357 tasks      | elapsed:  1.5min\n",
      "[Parallel(n_jobs=-1)]: Done 500 out of 500 | elapsed:  2.2min finished\n"
     ]
    },
    {
     "name": "stdout",
     "output_type": "stream",
     "text": [
      "Best Parameters:\n",
      " {'fit__alpha': 10.985411419875572}\n",
      "\n",
      "Best CV RMSE: 296118.9201507316\n",
      "Best Training RMSE: 200482.5873798381\n",
      "Test RMSE: 310805.43607560336\n",
      "\n",
      "For Christ College ATM\n",
      "Using Train-Test Split\n",
      "Fitting 10 folds for each of 50 candidates, totalling 500 fits\n"
     ]
    },
    {
     "name": "stderr",
     "output_type": "stream",
     "text": [
      "[Parallel(n_jobs=-1)]: Using backend LokyBackend with 4 concurrent workers.\n",
      "[Parallel(n_jobs=-1)]: Done  33 tasks      | elapsed:    9.3s\n",
      "[Parallel(n_jobs=-1)]: Done 154 tasks      | elapsed:   41.7s\n",
      "[Parallel(n_jobs=-1)]: Done 357 tasks      | elapsed:  1.6min\n",
      "[Parallel(n_jobs=-1)]: Done 500 out of 500 | elapsed:  2.2min finished\n"
     ]
    },
    {
     "name": "stdout",
     "output_type": "stream",
     "text": [
      "Best Parameters:\n",
      " {'fit__alpha': 33.9322177189533}\n",
      "\n",
      "Best CV RMSE: 207078.59160444522\n",
      "Best Training RMSE: 144205.8978017388\n",
      "Test RMSE: 204004.18791555474\n"
     ]
    }
   ],
   "source": [
    "poly_ridge_param_grid = {'fit__alpha':np.logspace(-3, 3, num=50)}\n",
    "poly_ridge_pipeline = Pipeline([('poly', PolynomialFeatures()), ('fit', Ridge())])\n",
    "\n",
    "random_cv_poly_ridge = RandomizedSearchCV(poly_ridge_pipeline,  poly_ridge_param_grid, n_iter=50, \n",
    "                                          verbose=2, n_jobs=-1, scoring='neg_root_mean_squared_error', \n",
    "                                          cv=10, return_train_score=True)\n",
    "\n",
    "for atm_name in atm_names:\n",
    "    print(\"\\nFor\", atm_name)\n",
    "    # model_training_hyperparam_per_atm(atm_name, random_cv_poly_ridge)\n",
    "    model_training_hyperparam_per_atm(atm_name, new_data, categorical_features_list, random_cv_poly_ridge, test_split=True)\n",
    "    "
   ]
  },
  {
   "cell_type": "markdown",
   "metadata": {},
   "source": [
    "<h3> Similarly overfitting models are being created </h3>"
   ]
  },
  {
   "cell_type": "markdown",
   "metadata": {},
   "source": [
    "<h3> For Elasticnet Regression </h3>"
   ]
  },
  {
   "cell_type": "code",
   "execution_count": 49,
   "metadata": {
    "scrolled": true
   },
   "outputs": [
    {
     "name": "stdout",
     "output_type": "stream",
     "text": [
      "\n",
      "For Big Street ATM\n",
      "Using Train-Test Split\n",
      "Fitting 10 folds for each of 25 candidates, totalling 250 fits\n"
     ]
    },
    {
     "name": "stderr",
     "output_type": "stream",
     "text": [
      "[Parallel(n_jobs=-1)]: Using backend LokyBackend with 4 concurrent workers.\n",
      "[Parallel(n_jobs=-1)]: Done  33 tasks      | elapsed:  8.1min\n",
      "[Parallel(n_jobs=-1)]: Done 154 tasks      | elapsed: 18.4min\n",
      "[Parallel(n_jobs=-1)]: Done 250 out of 250 | elapsed: 29.3min finished\n"
     ]
    },
    {
     "name": "stdout",
     "output_type": "stream",
     "text": [
      "Best Parameters:\n",
      " {'fit__l1_ratio': 0.99, 'fit__alpha': 1.5264179671752334}\n",
      "\n",
      "Best CV RMSE: 113950.64775405382\n",
      "Best Training RMSE: 113928.16469081969\n",
      "Test RMSE: 113953.37893283606\n",
      "\n",
      "For Mount Road ATM\n",
      "Using Train-Test Split\n",
      "Fitting 10 folds for each of 25 candidates, totalling 250 fits\n"
     ]
    },
    {
     "name": "stderr",
     "output_type": "stream",
     "text": [
      "[Parallel(n_jobs=-1)]: Using backend LokyBackend with 4 concurrent workers.\n",
      "[Parallel(n_jobs=-1)]: Done  33 tasks      | elapsed:  7.9min\n",
      "[Parallel(n_jobs=-1)]: Done 154 tasks      | elapsed: 16.2min\n",
      "[Parallel(n_jobs=-1)]: Done 250 out of 250 | elapsed: 31.4min finished\n"
     ]
    },
    {
     "name": "stdout",
     "output_type": "stream",
     "text": [
      "Best Parameters:\n",
      " {'fit__l1_ratio': 1, 'fit__alpha': 323.745754281764}\n",
      "\n",
      "Best CV RMSE: 175479.73039283633\n",
      "Best Training RMSE: 161232.9374548521\n",
      "Test RMSE: 170514.5151644206\n",
      "\n",
      "For Airport ATM\n",
      "Using Train-Test Split\n",
      "Fitting 10 folds for each of 25 candidates, totalling 250 fits\n"
     ]
    },
    {
     "name": "stderr",
     "output_type": "stream",
     "text": [
      "[Parallel(n_jobs=-1)]: Using backend LokyBackend with 4 concurrent workers.\n",
      "[Parallel(n_jobs=-1)]: Done  33 tasks      | elapsed:  2.3min\n",
      "[Parallel(n_jobs=-1)]: Done 154 tasks      | elapsed: 19.4min\n",
      "[Parallel(n_jobs=-1)]: Done 250 out of 250 | elapsed: 40.8min finished\n"
     ]
    },
    {
     "name": "stdout",
     "output_type": "stream",
     "text": [
      "Best Parameters:\n",
      " {'fit__l1_ratio': 0.1, 'fit__alpha': 0.012648552168552958}\n",
      "\n",
      "Best CV RMSE: 172020.25753775603\n",
      "Best Training RMSE: 133175.94588436926\n",
      "Test RMSE: 174948.50575809236\n",
      "\n",
      "For KK Nagar ATM\n",
      "Using Train-Test Split\n",
      "Fitting 10 folds for each of 25 candidates, totalling 250 fits\n"
     ]
    },
    {
     "name": "stderr",
     "output_type": "stream",
     "text": [
      "[Parallel(n_jobs=-1)]: Using backend LokyBackend with 4 concurrent workers.\n"
     ]
    },
    {
     "ename": "KeyboardInterrupt",
     "evalue": "",
     "output_type": "error",
     "traceback": [
      "\u001b[1;31m---------------------------------------------------------------------------\u001b[0m",
      "\u001b[1;31mKeyboardInterrupt\u001b[0m                         Traceback (most recent call last)",
      "\u001b[1;32m<ipython-input-49-f46388ead972>\u001b[0m in \u001b[0;36m<module>\u001b[1;34m\u001b[0m\n\u001b[0;32m      9\u001b[0m     \u001b[0mprint\u001b[0m\u001b[1;33m(\u001b[0m\u001b[1;34m\"\\nFor\"\u001b[0m\u001b[1;33m,\u001b[0m \u001b[0matm_name\u001b[0m\u001b[1;33m)\u001b[0m\u001b[1;33m\u001b[0m\u001b[1;33m\u001b[0m\u001b[0m\n\u001b[0;32m     10\u001b[0m     \u001b[1;31m# model_training_hyperparam_per_atm(atm_name, random_cv_poly_enet)\u001b[0m\u001b[1;33m\u001b[0m\u001b[1;33m\u001b[0m\u001b[1;33m\u001b[0m\u001b[0m\n\u001b[1;32m---> 11\u001b[1;33m     \u001b[0mmodel_training_hyperparam_per_atm\u001b[0m\u001b[1;33m(\u001b[0m\u001b[0matm_name\u001b[0m\u001b[1;33m,\u001b[0m \u001b[0mrandom_cv_poly_enet\u001b[0m\u001b[1;33m,\u001b[0m \u001b[0mtest_split\u001b[0m\u001b[1;33m=\u001b[0m\u001b[1;32mTrue\u001b[0m\u001b[1;33m)\u001b[0m\u001b[1;33m\u001b[0m\u001b[1;33m\u001b[0m\u001b[0m\n\u001b[0m",
      "\u001b[1;32m<ipython-input-34-81969aacc1dc>\u001b[0m in \u001b[0;36mmodel_training_hyperparam_per_atm\u001b[1;34m(atm_name, param_cv_obj, test_split)\u001b[0m\n\u001b[0;32m     23\u001b[0m         \u001b[0my_test\u001b[0m \u001b[1;33m=\u001b[0m \u001b[0mtest_data\u001b[0m\u001b[1;33m[\u001b[0m\u001b[1;34m'Total amount Withdrawn'\u001b[0m\u001b[1;33m]\u001b[0m\u001b[1;33m\u001b[0m\u001b[1;33m\u001b[0m\u001b[0m\n\u001b[0;32m     24\u001b[0m \u001b[1;33m\u001b[0m\u001b[0m\n\u001b[1;32m---> 25\u001b[1;33m     \u001b[0mparam_cv_obj\u001b[0m\u001b[1;33m.\u001b[0m\u001b[0mfit\u001b[0m\u001b[1;33m(\u001b[0m\u001b[0mX_train\u001b[0m\u001b[1;33m,\u001b[0m \u001b[0my_train\u001b[0m\u001b[1;33m)\u001b[0m\u001b[1;33m\u001b[0m\u001b[1;33m\u001b[0m\u001b[0m\n\u001b[0m\u001b[0;32m     26\u001b[0m     \u001b[0mprint\u001b[0m\u001b[1;33m(\u001b[0m\u001b[1;34m\"Best Parameters:\\n\"\u001b[0m\u001b[1;33m,\u001b[0m \u001b[0mparam_cv_obj\u001b[0m\u001b[1;33m.\u001b[0m\u001b[0mbest_params_\u001b[0m\u001b[1;33m)\u001b[0m\u001b[1;33m\u001b[0m\u001b[1;33m\u001b[0m\u001b[0m\n\u001b[0;32m     27\u001b[0m     \u001b[0mprint\u001b[0m\u001b[1;33m(\u001b[0m\u001b[1;34m\"\\nBest CV RMSE:\"\u001b[0m\u001b[1;33m,\u001b[0m \u001b[1;33m-\u001b[0m\u001b[0mparam_cv_obj\u001b[0m\u001b[1;33m.\u001b[0m\u001b[0mbest_score_\u001b[0m\u001b[1;33m)\u001b[0m\u001b[1;33m\u001b[0m\u001b[1;33m\u001b[0m\u001b[0m\n",
      "\u001b[1;32mc:\\users\\jasvin\\appdata\\local\\programs\\python\\python38\\lib\\site-packages\\sklearn\\model_selection\\_search.py\u001b[0m in \u001b[0;36mfit\u001b[1;34m(self, X, y, groups, **fit_params)\u001b[0m\n\u001b[0;32m    708\u001b[0m                 \u001b[1;32mreturn\u001b[0m \u001b[0mresults\u001b[0m\u001b[1;33m\u001b[0m\u001b[1;33m\u001b[0m\u001b[0m\n\u001b[0;32m    709\u001b[0m \u001b[1;33m\u001b[0m\u001b[0m\n\u001b[1;32m--> 710\u001b[1;33m             \u001b[0mself\u001b[0m\u001b[1;33m.\u001b[0m\u001b[0m_run_search\u001b[0m\u001b[1;33m(\u001b[0m\u001b[0mevaluate_candidates\u001b[0m\u001b[1;33m)\u001b[0m\u001b[1;33m\u001b[0m\u001b[1;33m\u001b[0m\u001b[0m\n\u001b[0m\u001b[0;32m    711\u001b[0m \u001b[1;33m\u001b[0m\u001b[0m\n\u001b[0;32m    712\u001b[0m         \u001b[1;31m# For multi-metric evaluation, store the best_index_, best_params_ and\u001b[0m\u001b[1;33m\u001b[0m\u001b[1;33m\u001b[0m\u001b[1;33m\u001b[0m\u001b[0m\n",
      "\u001b[1;32mc:\\users\\jasvin\\appdata\\local\\programs\\python\\python38\\lib\\site-packages\\sklearn\\model_selection\\_search.py\u001b[0m in \u001b[0;36m_run_search\u001b[1;34m(self, evaluate_candidates)\u001b[0m\n\u001b[0;32m   1480\u001b[0m     \u001b[1;32mdef\u001b[0m \u001b[0m_run_search\u001b[0m\u001b[1;33m(\u001b[0m\u001b[0mself\u001b[0m\u001b[1;33m,\u001b[0m \u001b[0mevaluate_candidates\u001b[0m\u001b[1;33m)\u001b[0m\u001b[1;33m:\u001b[0m\u001b[1;33m\u001b[0m\u001b[1;33m\u001b[0m\u001b[0m\n\u001b[0;32m   1481\u001b[0m         \u001b[1;34m\"\"\"Search n_iter candidates from param_distributions\"\"\"\u001b[0m\u001b[1;33m\u001b[0m\u001b[1;33m\u001b[0m\u001b[0m\n\u001b[1;32m-> 1482\u001b[1;33m         evaluate_candidates(ParameterSampler(\n\u001b[0m\u001b[0;32m   1483\u001b[0m             \u001b[0mself\u001b[0m\u001b[1;33m.\u001b[0m\u001b[0mparam_distributions\u001b[0m\u001b[1;33m,\u001b[0m \u001b[0mself\u001b[0m\u001b[1;33m.\u001b[0m\u001b[0mn_iter\u001b[0m\u001b[1;33m,\u001b[0m\u001b[1;33m\u001b[0m\u001b[1;33m\u001b[0m\u001b[0m\n\u001b[0;32m   1484\u001b[0m             random_state=self.random_state))\n",
      "\u001b[1;32mc:\\users\\jasvin\\appdata\\local\\programs\\python\\python38\\lib\\site-packages\\sklearn\\model_selection\\_search.py\u001b[0m in \u001b[0;36mevaluate_candidates\u001b[1;34m(candidate_params)\u001b[0m\n\u001b[0;32m    680\u001b[0m                               n_splits, n_candidates, n_candidates * n_splits))\n\u001b[0;32m    681\u001b[0m \u001b[1;33m\u001b[0m\u001b[0m\n\u001b[1;32m--> 682\u001b[1;33m                 out = parallel(delayed(_fit_and_score)(clone(base_estimator),\n\u001b[0m\u001b[0;32m    683\u001b[0m                                                        \u001b[0mX\u001b[0m\u001b[1;33m,\u001b[0m \u001b[0my\u001b[0m\u001b[1;33m,\u001b[0m\u001b[1;33m\u001b[0m\u001b[1;33m\u001b[0m\u001b[0m\n\u001b[0;32m    684\u001b[0m                                                        \u001b[0mtrain\u001b[0m\u001b[1;33m=\u001b[0m\u001b[0mtrain\u001b[0m\u001b[1;33m,\u001b[0m \u001b[0mtest\u001b[0m\u001b[1;33m=\u001b[0m\u001b[0mtest\u001b[0m\u001b[1;33m,\u001b[0m\u001b[1;33m\u001b[0m\u001b[1;33m\u001b[0m\u001b[0m\n",
      "\u001b[1;32mc:\\users\\jasvin\\appdata\\local\\programs\\python\\python38\\lib\\site-packages\\joblib\\parallel.py\u001b[0m in \u001b[0;36m__call__\u001b[1;34m(self, iterable)\u001b[0m\n\u001b[0;32m   1015\u001b[0m \u001b[1;33m\u001b[0m\u001b[0m\n\u001b[0;32m   1016\u001b[0m             \u001b[1;32mwith\u001b[0m \u001b[0mself\u001b[0m\u001b[1;33m.\u001b[0m\u001b[0m_backend\u001b[0m\u001b[1;33m.\u001b[0m\u001b[0mretrieval_context\u001b[0m\u001b[1;33m(\u001b[0m\u001b[1;33m)\u001b[0m\u001b[1;33m:\u001b[0m\u001b[1;33m\u001b[0m\u001b[1;33m\u001b[0m\u001b[0m\n\u001b[1;32m-> 1017\u001b[1;33m                 \u001b[0mself\u001b[0m\u001b[1;33m.\u001b[0m\u001b[0mretrieve\u001b[0m\u001b[1;33m(\u001b[0m\u001b[1;33m)\u001b[0m\u001b[1;33m\u001b[0m\u001b[1;33m\u001b[0m\u001b[0m\n\u001b[0m\u001b[0;32m   1018\u001b[0m             \u001b[1;31m# Make sure that we get a last message telling us we are done\u001b[0m\u001b[1;33m\u001b[0m\u001b[1;33m\u001b[0m\u001b[1;33m\u001b[0m\u001b[0m\n\u001b[0;32m   1019\u001b[0m             \u001b[0melapsed_time\u001b[0m \u001b[1;33m=\u001b[0m \u001b[0mtime\u001b[0m\u001b[1;33m.\u001b[0m\u001b[0mtime\u001b[0m\u001b[1;33m(\u001b[0m\u001b[1;33m)\u001b[0m \u001b[1;33m-\u001b[0m \u001b[0mself\u001b[0m\u001b[1;33m.\u001b[0m\u001b[0m_start_time\u001b[0m\u001b[1;33m\u001b[0m\u001b[1;33m\u001b[0m\u001b[0m\n",
      "\u001b[1;32mc:\\users\\jasvin\\appdata\\local\\programs\\python\\python38\\lib\\site-packages\\joblib\\parallel.py\u001b[0m in \u001b[0;36mretrieve\u001b[1;34m(self)\u001b[0m\n\u001b[0;32m    907\u001b[0m             \u001b[1;32mtry\u001b[0m\u001b[1;33m:\u001b[0m\u001b[1;33m\u001b[0m\u001b[1;33m\u001b[0m\u001b[0m\n\u001b[0;32m    908\u001b[0m                 \u001b[1;32mif\u001b[0m \u001b[0mgetattr\u001b[0m\u001b[1;33m(\u001b[0m\u001b[0mself\u001b[0m\u001b[1;33m.\u001b[0m\u001b[0m_backend\u001b[0m\u001b[1;33m,\u001b[0m \u001b[1;34m'supports_timeout'\u001b[0m\u001b[1;33m,\u001b[0m \u001b[1;32mFalse\u001b[0m\u001b[1;33m)\u001b[0m\u001b[1;33m:\u001b[0m\u001b[1;33m\u001b[0m\u001b[1;33m\u001b[0m\u001b[0m\n\u001b[1;32m--> 909\u001b[1;33m                     \u001b[0mself\u001b[0m\u001b[1;33m.\u001b[0m\u001b[0m_output\u001b[0m\u001b[1;33m.\u001b[0m\u001b[0mextend\u001b[0m\u001b[1;33m(\u001b[0m\u001b[0mjob\u001b[0m\u001b[1;33m.\u001b[0m\u001b[0mget\u001b[0m\u001b[1;33m(\u001b[0m\u001b[0mtimeout\u001b[0m\u001b[1;33m=\u001b[0m\u001b[0mself\u001b[0m\u001b[1;33m.\u001b[0m\u001b[0mtimeout\u001b[0m\u001b[1;33m)\u001b[0m\u001b[1;33m)\u001b[0m\u001b[1;33m\u001b[0m\u001b[1;33m\u001b[0m\u001b[0m\n\u001b[0m\u001b[0;32m    910\u001b[0m                 \u001b[1;32melse\u001b[0m\u001b[1;33m:\u001b[0m\u001b[1;33m\u001b[0m\u001b[1;33m\u001b[0m\u001b[0m\n\u001b[0;32m    911\u001b[0m                     \u001b[0mself\u001b[0m\u001b[1;33m.\u001b[0m\u001b[0m_output\u001b[0m\u001b[1;33m.\u001b[0m\u001b[0mextend\u001b[0m\u001b[1;33m(\u001b[0m\u001b[0mjob\u001b[0m\u001b[1;33m.\u001b[0m\u001b[0mget\u001b[0m\u001b[1;33m(\u001b[0m\u001b[1;33m)\u001b[0m\u001b[1;33m)\u001b[0m\u001b[1;33m\u001b[0m\u001b[1;33m\u001b[0m\u001b[0m\n",
      "\u001b[1;32mc:\\users\\jasvin\\appdata\\local\\programs\\python\\python38\\lib\\site-packages\\joblib\\_parallel_backends.py\u001b[0m in \u001b[0;36mwrap_future_result\u001b[1;34m(future, timeout)\u001b[0m\n\u001b[0;32m    560\u001b[0m         AsyncResults.get from multiprocessing.\"\"\"\n\u001b[0;32m    561\u001b[0m         \u001b[1;32mtry\u001b[0m\u001b[1;33m:\u001b[0m\u001b[1;33m\u001b[0m\u001b[1;33m\u001b[0m\u001b[0m\n\u001b[1;32m--> 562\u001b[1;33m             \u001b[1;32mreturn\u001b[0m \u001b[0mfuture\u001b[0m\u001b[1;33m.\u001b[0m\u001b[0mresult\u001b[0m\u001b[1;33m(\u001b[0m\u001b[0mtimeout\u001b[0m\u001b[1;33m=\u001b[0m\u001b[0mtimeout\u001b[0m\u001b[1;33m)\u001b[0m\u001b[1;33m\u001b[0m\u001b[1;33m\u001b[0m\u001b[0m\n\u001b[0m\u001b[0;32m    563\u001b[0m         \u001b[1;32mexcept\u001b[0m \u001b[0mLokyTimeoutError\u001b[0m\u001b[1;33m:\u001b[0m\u001b[1;33m\u001b[0m\u001b[1;33m\u001b[0m\u001b[0m\n\u001b[0;32m    564\u001b[0m             \u001b[1;32mraise\u001b[0m \u001b[0mTimeoutError\u001b[0m\u001b[1;33m(\u001b[0m\u001b[1;33m)\u001b[0m\u001b[1;33m\u001b[0m\u001b[1;33m\u001b[0m\u001b[0m\n",
      "\u001b[1;32mc:\\users\\jasvin\\appdata\\local\\programs\\python\\python38\\lib\\concurrent\\futures\\_base.py\u001b[0m in \u001b[0;36mresult\u001b[1;34m(self, timeout)\u001b[0m\n\u001b[0;32m    432\u001b[0m                 \u001b[1;32mreturn\u001b[0m \u001b[0mself\u001b[0m\u001b[1;33m.\u001b[0m\u001b[0m__get_result\u001b[0m\u001b[1;33m(\u001b[0m\u001b[1;33m)\u001b[0m\u001b[1;33m\u001b[0m\u001b[1;33m\u001b[0m\u001b[0m\n\u001b[0;32m    433\u001b[0m \u001b[1;33m\u001b[0m\u001b[0m\n\u001b[1;32m--> 434\u001b[1;33m             \u001b[0mself\u001b[0m\u001b[1;33m.\u001b[0m\u001b[0m_condition\u001b[0m\u001b[1;33m.\u001b[0m\u001b[0mwait\u001b[0m\u001b[1;33m(\u001b[0m\u001b[0mtimeout\u001b[0m\u001b[1;33m)\u001b[0m\u001b[1;33m\u001b[0m\u001b[1;33m\u001b[0m\u001b[0m\n\u001b[0m\u001b[0;32m    435\u001b[0m \u001b[1;33m\u001b[0m\u001b[0m\n\u001b[0;32m    436\u001b[0m             \u001b[1;32mif\u001b[0m \u001b[0mself\u001b[0m\u001b[1;33m.\u001b[0m\u001b[0m_state\u001b[0m \u001b[1;32min\u001b[0m \u001b[1;33m[\u001b[0m\u001b[0mCANCELLED\u001b[0m\u001b[1;33m,\u001b[0m \u001b[0mCANCELLED_AND_NOTIFIED\u001b[0m\u001b[1;33m]\u001b[0m\u001b[1;33m:\u001b[0m\u001b[1;33m\u001b[0m\u001b[1;33m\u001b[0m\u001b[0m\n",
      "\u001b[1;32mc:\\users\\jasvin\\appdata\\local\\programs\\python\\python38\\lib\\threading.py\u001b[0m in \u001b[0;36mwait\u001b[1;34m(self, timeout)\u001b[0m\n\u001b[0;32m    300\u001b[0m         \u001b[1;32mtry\u001b[0m\u001b[1;33m:\u001b[0m    \u001b[1;31m# restore state no matter what (e.g., KeyboardInterrupt)\u001b[0m\u001b[1;33m\u001b[0m\u001b[1;33m\u001b[0m\u001b[0m\n\u001b[0;32m    301\u001b[0m             \u001b[1;32mif\u001b[0m \u001b[0mtimeout\u001b[0m \u001b[1;32mis\u001b[0m \u001b[1;32mNone\u001b[0m\u001b[1;33m:\u001b[0m\u001b[1;33m\u001b[0m\u001b[1;33m\u001b[0m\u001b[0m\n\u001b[1;32m--> 302\u001b[1;33m                 \u001b[0mwaiter\u001b[0m\u001b[1;33m.\u001b[0m\u001b[0macquire\u001b[0m\u001b[1;33m(\u001b[0m\u001b[1;33m)\u001b[0m\u001b[1;33m\u001b[0m\u001b[1;33m\u001b[0m\u001b[0m\n\u001b[0m\u001b[0;32m    303\u001b[0m                 \u001b[0mgotit\u001b[0m \u001b[1;33m=\u001b[0m \u001b[1;32mTrue\u001b[0m\u001b[1;33m\u001b[0m\u001b[1;33m\u001b[0m\u001b[0m\n\u001b[0;32m    304\u001b[0m             \u001b[1;32melse\u001b[0m\u001b[1;33m:\u001b[0m\u001b[1;33m\u001b[0m\u001b[1;33m\u001b[0m\u001b[0m\n",
      "\u001b[1;31mKeyboardInterrupt\u001b[0m: "
     ]
    }
   ],
   "source": [
    "poly_enet_param_grid = {'fit__l1_ratio': [.1, .5, .7, .9, .95, .99, 1], 'fit__alpha': np.logspace(-3, 3, num=50)}\n",
    "poly_enet_pipeline = Pipeline([('poly', PolynomialFeatures()), ('fit', ElasticNet(max_iter=5000))])\n",
    "\n",
    "random_cv_poly_enet = RandomizedSearchCV(poly_enet_pipeline,  poly_enet_param_grid, n_iter=25, \n",
    "                                          verbose=2, n_jobs=-1, scoring='neg_root_mean_squared_error', \n",
    "                                          cv=10, return_train_score=True)\n",
    "\n",
    "for atm_name in atm_names:\n",
    "    print(\"\\nFor\", atm_name) \n",
    "    # model_training_hyperparam_per_atm(atm_name, random_cv_poly_enet)\n",
    "    model_training_hyperparam_per_atm(atm_name, new_data, categorical_features_list, random_cv_poly_enet, test_split=True)\n"
   ]
  },
  {
   "cell_type": "markdown",
   "metadata": {},
   "source": [
    "<h3> Takes a ridiculous amount of time and also results in a lot of Convergence warnings (that is, number of iterations were too low even when max iterations were 5000!!) </h3>\n",
    "\n",
    "<h3> But surprisingly performs quite good in terms of Test RMSE even better than Random Forest </h3>"
   ]
  },
  {
   "cell_type": "markdown",
   "metadata": {},
   "source": [
    "<h3> For SVR </h3>"
   ]
  },
  {
   "cell_type": "code",
   "execution_count": null,
   "metadata": {},
   "outputs": [
    {
     "name": "stdout",
     "output_type": "stream",
     "text": [
      "\n",
      "For Big Street ATM\n",
      "Using Train-Test Split\n",
      "Fitting 10 folds for each of 25 candidates, totalling 250 fits\n"
     ]
    },
    {
     "name": "stderr",
     "output_type": "stream",
     "text": [
      "[Parallel(n_jobs=-1)]: Using backend LokyBackend with 4 concurrent workers.\n",
      "[Parallel(n_jobs=-1)]: Done  33 tasks      | elapsed:  6.3min\n",
      "[Parallel(n_jobs=-1)]: Done 154 tasks      | elapsed: 26.7min\n",
      "[Parallel(n_jobs=-1)]: Done 250 out of 250 | elapsed: 42.8min finished\n"
     ]
    },
    {
     "name": "stdout",
     "output_type": "stream",
     "text": [
      "Best Parameters:\n",
      " {'fit__epsilon': 316.22776601683796, 'fit__C': 316.22776601683796}\n",
      "\n",
      "Best CV RMSE: 154797.11349031294\n",
      "Best Training RMSE: 156359.65475928993\n",
      "Test RMSE: 158216.38967093645\n",
      "\n",
      "For Mount Road ATM\n",
      "Using Train-Test Split\n",
      "Fitting 10 folds for each of 25 candidates, totalling 250 fits\n"
     ]
    },
    {
     "name": "stderr",
     "output_type": "stream",
     "text": [
      "[Parallel(n_jobs=-1)]: Using backend LokyBackend with 4 concurrent workers.\n"
     ]
    }
   ],
   "source": [
    "poly_svr_param_grid = {'fit__C': list(np.logspace(-3, 3, num=50)), 'fit__epsilon': list(np.logspace(-3, 3, num=50))}\n",
    "\n",
    "poly_svr_pipeline = Pipeline([('poly', PolynomialFeatures()), ('fit', SVR())])\n",
    "\n",
    "random_cv_poly_svr = RandomizedSearchCV(poly_svr_pipeline,  poly_svr_param_grid, n_iter=25, \n",
    "                                          verbose=2, n_jobs=-1, scoring='neg_root_mean_squared_error', \n",
    "                                          cv=10, return_train_score=True)\n",
    "\n",
    "for atm_name in atm_names:\n",
    "    print(\"\\nFor\", atm_name) \n",
    "    # model_training_hyperparam_per_atm(atm_name, random_cv_poly_svr)\n",
    "    model_training_hyperparam_per_atm(atm_name, new_data, categorical_features_list, random_cv_poly_svr, test_split=True)\n"
   ]
  },
  {
   "cell_type": "markdown",
   "metadata": {},
   "source": [
    "<h3> Gives pretty bad numbers, because despite not only are the CV RMSEs even worse than their regular counterparts but the training RMSEs are also worse than what we got by using the regular models and it also takes a ridiculous amount of time too! </h3>"
   ]
  },
  {
   "cell_type": "markdown",
   "metadata": {},
   "source": [
    "## Conclusions on Polynomial Regression\n",
    "<p> All the models that Polynomial Regression was tried upon (except for Elasticnet), performed significantly worse than their regular counterparts and whichever ones did manage to equal the performance, they ended up highly overfitting the data </p>\n",
    "<p> Reasons for this, the data consists of just categorical columns on which One-Hot Encoding was performed, so the only values present in each column is either a 0 or a 1, so it is quite possible that Polynomial Regression is not able to do much using Higher Order Features generated using such columns </p>\n",
    "<p> The best training RMSE using regular hypertuned models was still above 1 lakhs, so definitely the models have to be more complex, so maybe once we have generated some numeric columns we can start working for Polynomial Regression </p>"
   ]
  }
 ],
 "metadata": {
  "kernelspec": {
   "display_name": "Python 3",
   "language": "python",
   "name": "python3"
  },
  "language_info": {
   "codemirror_mode": {
    "name": "ipython",
    "version": 3
   },
   "file_extension": ".py",
   "mimetype": "text/x-python",
   "name": "python",
   "nbconvert_exporter": "python",
   "pygments_lexer": "ipython3",
   "version": "3.8.2"
  }
 },
 "nbformat": 4,
 "nbformat_minor": 4
}
